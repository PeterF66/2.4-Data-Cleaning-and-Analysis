{
 "cells": [
  {
   "cell_type": "markdown",
   "metadata": {},
   "source": [
    "# 2.4 Data Cleaning and Analysis"
   ]
  },
  {
   "cell_type": "markdown",
   "metadata": {},
   "source": [
    "根据福布斯的统计，数据科学家60%的工作时间都是在清洗、整理数据。\n",
    "\n",
    "在本章节，我们将会学到以下知识点：\n",
    "\n",
    "- Data aggregation\n",
    "- How to combine data\n",
    "- How to transform data\n",
    "- How to clean strings with pandas\n",
    "- How to handle missing and duplicate data\n",
    "\n",
    "在本章节，我们将使用 **World Happiness Report** 数据, 一个 UN Sustainable Development Solutions Network 发布的年度报告 with the intent of guiding policy. The report assigns each country a happiness score based on the answers to a poll question that asks respondents to rank their life on a scale of 0 - 10.\n",
    "\n",
    "Throughout this course, we'll work to answer the following questions:\n",
    "\n",
    "- How can aggregating the data give us more insight into happiness scores?\n",
    "- How did world happiness change from 2015 to 2017?\n",
    "- Which factors contribute the most to the happiness score?"
   ]
  },
  {
   "cell_type": "markdown",
   "metadata": {},
   "source": [
    "# 2.4.1 Data Aggregation"
   ]
  },
  {
   "cell_type": "markdown",
   "metadata": {},
   "source": [
    "在此任务中，我们将从学习如何汇总数据开始。然后，在下一个任务中，我们将学习不同的数据清除技能，这些技能可以帮助我们以不同的方式汇总和分析数据。我们将从孤立地学习每个主题开始，但是到课程结束时，将朝着更完整的数据清理工作流发展。"
   ]
  },
  {
   "cell_type": "markdown",
   "metadata": {},
   "source": [
    "- ### 数据介绍"
   ]
  },
  {
   "cell_type": "markdown",
   "metadata": {},
   "source": [
    "The data set is a CSV file called `World_Happiness_2015.csv`. Below are descriptions for some of the columns we'll be working with:\n",
    "\n",
    "- `Country` - Name of the country.\n",
    "- `Region` - Name of the region the country belongs to.\n",
    "- `Happiness` Rank - The rank of the country, as determined by its happiness score.\n",
    "- `Happiness` Score - A score assigned to each country based on the answers to a poll question that asks respondents to rate their happiness on a scale of 0-10.\n",
    "- `Family` - The estimated extent to which family contributes to the happiness score.\n",
    "- `Freedom` - The estimated extent to which freedom contributes to the happiness score.\n",
    "- `Generosity` - The estimated extent to which generosity contributes to the happiness score."
   ]
  },
  {
   "cell_type": "code",
   "execution_count": 1,
   "metadata": {},
   "outputs": [
    {
     "data": {
      "text/html": [
       "<div>\n",
       "<style scoped>\n",
       "    .dataframe tbody tr th:only-of-type {\n",
       "        vertical-align: middle;\n",
       "    }\n",
       "\n",
       "    .dataframe tbody tr th {\n",
       "        vertical-align: top;\n",
       "    }\n",
       "\n",
       "    .dataframe thead th {\n",
       "        text-align: right;\n",
       "    }\n",
       "</style>\n",
       "<table border=\"1\" class=\"dataframe\">\n",
       "  <thead>\n",
       "    <tr style=\"text-align: right;\">\n",
       "      <th></th>\n",
       "      <th>Country</th>\n",
       "      <th>Region</th>\n",
       "      <th>Happiness Rank</th>\n",
       "      <th>Happiness Score</th>\n",
       "      <th>Standard Error</th>\n",
       "      <th>Economy (GDP per Capita)</th>\n",
       "      <th>Family</th>\n",
       "      <th>Health (Life Expectancy)</th>\n",
       "      <th>Freedom</th>\n",
       "      <th>Trust (Government Corruption)</th>\n",
       "      <th>Generosity</th>\n",
       "      <th>Dystopia Residual</th>\n",
       "    </tr>\n",
       "  </thead>\n",
       "  <tbody>\n",
       "    <tr>\n",
       "      <td>0</td>\n",
       "      <td>Switzerland</td>\n",
       "      <td>Western Europe</td>\n",
       "      <td>1</td>\n",
       "      <td>7.587</td>\n",
       "      <td>0.03411</td>\n",
       "      <td>1.39651</td>\n",
       "      <td>1.34951</td>\n",
       "      <td>0.94143</td>\n",
       "      <td>0.66557</td>\n",
       "      <td>0.41978</td>\n",
       "      <td>0.29678</td>\n",
       "      <td>2.51738</td>\n",
       "    </tr>\n",
       "    <tr>\n",
       "      <td>1</td>\n",
       "      <td>Iceland</td>\n",
       "      <td>Western Europe</td>\n",
       "      <td>2</td>\n",
       "      <td>7.561</td>\n",
       "      <td>0.04884</td>\n",
       "      <td>1.30232</td>\n",
       "      <td>1.40223</td>\n",
       "      <td>0.94784</td>\n",
       "      <td>0.62877</td>\n",
       "      <td>0.14145</td>\n",
       "      <td>0.43630</td>\n",
       "      <td>2.70201</td>\n",
       "    </tr>\n",
       "    <tr>\n",
       "      <td>2</td>\n",
       "      <td>Denmark</td>\n",
       "      <td>Western Europe</td>\n",
       "      <td>3</td>\n",
       "      <td>7.527</td>\n",
       "      <td>0.03328</td>\n",
       "      <td>1.32548</td>\n",
       "      <td>1.36058</td>\n",
       "      <td>0.87464</td>\n",
       "      <td>0.64938</td>\n",
       "      <td>0.48357</td>\n",
       "      <td>0.34139</td>\n",
       "      <td>2.49204</td>\n",
       "    </tr>\n",
       "    <tr>\n",
       "      <td>3</td>\n",
       "      <td>Norway</td>\n",
       "      <td>Western Europe</td>\n",
       "      <td>4</td>\n",
       "      <td>7.522</td>\n",
       "      <td>0.03880</td>\n",
       "      <td>1.45900</td>\n",
       "      <td>1.33095</td>\n",
       "      <td>0.88521</td>\n",
       "      <td>0.66973</td>\n",
       "      <td>0.36503</td>\n",
       "      <td>0.34699</td>\n",
       "      <td>2.46531</td>\n",
       "    </tr>\n",
       "    <tr>\n",
       "      <td>4</td>\n",
       "      <td>Canada</td>\n",
       "      <td>North America</td>\n",
       "      <td>5</td>\n",
       "      <td>7.427</td>\n",
       "      <td>0.03553</td>\n",
       "      <td>1.32629</td>\n",
       "      <td>1.32261</td>\n",
       "      <td>0.90563</td>\n",
       "      <td>0.63297</td>\n",
       "      <td>0.32957</td>\n",
       "      <td>0.45811</td>\n",
       "      <td>2.45176</td>\n",
       "    </tr>\n",
       "    <tr>\n",
       "      <td>5</td>\n",
       "      <td>Finland</td>\n",
       "      <td>Western Europe</td>\n",
       "      <td>6</td>\n",
       "      <td>7.406</td>\n",
       "      <td>0.03140</td>\n",
       "      <td>1.29025</td>\n",
       "      <td>1.31826</td>\n",
       "      <td>0.88911</td>\n",
       "      <td>0.64169</td>\n",
       "      <td>0.41372</td>\n",
       "      <td>0.23351</td>\n",
       "      <td>2.61955</td>\n",
       "    </tr>\n",
       "    <tr>\n",
       "      <td>6</td>\n",
       "      <td>Netherlands</td>\n",
       "      <td>Western Europe</td>\n",
       "      <td>7</td>\n",
       "      <td>7.378</td>\n",
       "      <td>0.02799</td>\n",
       "      <td>1.32944</td>\n",
       "      <td>1.28017</td>\n",
       "      <td>0.89284</td>\n",
       "      <td>0.61576</td>\n",
       "      <td>0.31814</td>\n",
       "      <td>0.47610</td>\n",
       "      <td>2.46570</td>\n",
       "    </tr>\n",
       "    <tr>\n",
       "      <td>7</td>\n",
       "      <td>Sweden</td>\n",
       "      <td>Western Europe</td>\n",
       "      <td>8</td>\n",
       "      <td>7.364</td>\n",
       "      <td>0.03157</td>\n",
       "      <td>1.33171</td>\n",
       "      <td>1.28907</td>\n",
       "      <td>0.91087</td>\n",
       "      <td>0.65980</td>\n",
       "      <td>0.43844</td>\n",
       "      <td>0.36262</td>\n",
       "      <td>2.37119</td>\n",
       "    </tr>\n",
       "    <tr>\n",
       "      <td>8</td>\n",
       "      <td>New Zealand</td>\n",
       "      <td>Australia and New Zealand</td>\n",
       "      <td>9</td>\n",
       "      <td>7.286</td>\n",
       "      <td>0.03371</td>\n",
       "      <td>1.25018</td>\n",
       "      <td>1.31967</td>\n",
       "      <td>0.90837</td>\n",
       "      <td>0.63938</td>\n",
       "      <td>0.42922</td>\n",
       "      <td>0.47501</td>\n",
       "      <td>2.26425</td>\n",
       "    </tr>\n",
       "    <tr>\n",
       "      <td>9</td>\n",
       "      <td>Australia</td>\n",
       "      <td>Australia and New Zealand</td>\n",
       "      <td>10</td>\n",
       "      <td>7.284</td>\n",
       "      <td>0.04083</td>\n",
       "      <td>1.33358</td>\n",
       "      <td>1.30923</td>\n",
       "      <td>0.93156</td>\n",
       "      <td>0.65124</td>\n",
       "      <td>0.35637</td>\n",
       "      <td>0.43562</td>\n",
       "      <td>2.26646</td>\n",
       "    </tr>\n",
       "  </tbody>\n",
       "</table>\n",
       "</div>"
      ],
      "text/plain": [
       "       Country                     Region  Happiness Rank  Happiness Score  \\\n",
       "0  Switzerland             Western Europe               1            7.587   \n",
       "1      Iceland             Western Europe               2            7.561   \n",
       "2      Denmark             Western Europe               3            7.527   \n",
       "3       Norway             Western Europe               4            7.522   \n",
       "4       Canada              North America               5            7.427   \n",
       "5      Finland             Western Europe               6            7.406   \n",
       "6  Netherlands             Western Europe               7            7.378   \n",
       "7       Sweden             Western Europe               8            7.364   \n",
       "8  New Zealand  Australia and New Zealand               9            7.286   \n",
       "9    Australia  Australia and New Zealand              10            7.284   \n",
       "\n",
       "   Standard Error  Economy (GDP per Capita)   Family  \\\n",
       "0         0.03411                   1.39651  1.34951   \n",
       "1         0.04884                   1.30232  1.40223   \n",
       "2         0.03328                   1.32548  1.36058   \n",
       "3         0.03880                   1.45900  1.33095   \n",
       "4         0.03553                   1.32629  1.32261   \n",
       "5         0.03140                   1.29025  1.31826   \n",
       "6         0.02799                   1.32944  1.28017   \n",
       "7         0.03157                   1.33171  1.28907   \n",
       "8         0.03371                   1.25018  1.31967   \n",
       "9         0.04083                   1.33358  1.30923   \n",
       "\n",
       "   Health (Life Expectancy)  Freedom  Trust (Government Corruption)  \\\n",
       "0                   0.94143  0.66557                        0.41978   \n",
       "1                   0.94784  0.62877                        0.14145   \n",
       "2                   0.87464  0.64938                        0.48357   \n",
       "3                   0.88521  0.66973                        0.36503   \n",
       "4                   0.90563  0.63297                        0.32957   \n",
       "5                   0.88911  0.64169                        0.41372   \n",
       "6                   0.89284  0.61576                        0.31814   \n",
       "7                   0.91087  0.65980                        0.43844   \n",
       "8                   0.90837  0.63938                        0.42922   \n",
       "9                   0.93156  0.65124                        0.35637   \n",
       "\n",
       "   Generosity  Dystopia Residual  \n",
       "0     0.29678            2.51738  \n",
       "1     0.43630            2.70201  \n",
       "2     0.34139            2.49204  \n",
       "3     0.34699            2.46531  \n",
       "4     0.45811            2.45176  \n",
       "5     0.23351            2.61955  \n",
       "6     0.47610            2.46570  \n",
       "7     0.36262            2.37119  \n",
       "8     0.47501            2.26425  \n",
       "9     0.43562            2.26646  "
      ]
     },
     "execution_count": 1,
     "metadata": {},
     "output_type": "execute_result"
    }
   ],
   "source": [
    "import pandas as pd\n",
    "happiness2015 = pd.read_csv('World_Happiness_2015.csv')\n",
    "happiness2015[:10]"
   ]
  },
  {
   "cell_type": "code",
   "execution_count": 2,
   "metadata": {},
   "outputs": [
    {
     "name": "stdout",
     "output_type": "stream",
     "text": [
      "<class 'pandas.core.frame.DataFrame'>\n",
      "RangeIndex: 158 entries, 0 to 157\n",
      "Data columns (total 12 columns):\n",
      "Country                          158 non-null object\n",
      "Region                           158 non-null object\n",
      "Happiness Rank                   158 non-null int64\n",
      "Happiness Score                  158 non-null float64\n",
      "Standard Error                   158 non-null float64\n",
      "Economy (GDP per Capita)         158 non-null float64\n",
      "Family                           158 non-null float64\n",
      "Health (Life Expectancy)         158 non-null float64\n",
      "Freedom                          158 non-null float64\n",
      "Trust (Government Corruption)    158 non-null float64\n",
      "Generosity                       158 non-null float64\n",
      "Dystopia Residual                158 non-null float64\n",
      "dtypes: float64(9), int64(1), object(2)\n",
      "memory usage: 14.9+ KB\n"
     ]
    }
   ],
   "source": [
    "happiness2015.info()"
   ]
  },
  {
   "cell_type": "markdown",
   "metadata": {},
   "source": [
    "- ### 利用循环进行分类汇总数据"
   ]
  },
  {
   "cell_type": "markdown",
   "metadata": {},
   "source": [
    "步骤：\n",
    "- Identify each unique group in the data set.\n",
    "- For each group:\n",
    " + Select only the rows corresponding to that group.\n",
    " + Calculate the average for those rows."
   ]
  },
  {
   "cell_type": "code",
   "execution_count": 3,
   "metadata": {},
   "outputs": [
    {
     "data": {
      "text/plain": [
       "{'Western Europe': 6.689619047619048,\n",
       " 'North America': 7.273,\n",
       " 'Australia and New Zealand': 7.285,\n",
       " 'Middle East and Northern Africa': 5.406899999999999,\n",
       " 'Latin America and Caribbean': 6.144681818181818,\n",
       " 'Southeastern Asia': 5.317444444444445,\n",
       " 'Central and Eastern Europe': 5.332931034482758,\n",
       " 'Eastern Asia': 5.626166666666666,\n",
       " 'Sub-Saharan Africa': 4.202800000000001,\n",
       " 'Southern Asia': 4.580857142857143}"
      ]
     },
     "execution_count": 3,
     "metadata": {},
     "output_type": "execute_result"
    }
   ],
   "source": [
    "mean_happiness = {}\n",
    "regions = happiness2015['Region'].unique()\n",
    "\n",
    "for r in regions:\n",
    "    region_group = happiness2015[happiness2015['Region']==r]\n",
    "    region_mean = region_group['Happiness Score'].mean()\n",
    "    mean_happiness[r] = region_mean\n",
    "\n",
    "mean_happiness"
   ]
  },
  {
   "cell_type": "markdown",
   "metadata": {},
   "source": [
    "- ### The GroupBy Operation"
   ]
  },
  {
   "cell_type": "markdown",
   "metadata": {},
   "source": [
    "以上的代码执行了三个步骤，split, apply, combine:\n",
    "\n",
    "![split_apply_combine](split_apply_combine.svg)"
   ]
  },
  {
   "cell_type": "markdown",
   "metadata": {},
   "source": [
    "像其他的常见操作任务， pandas 内置的 [groupy operation](https://pandas.pydata.org/pandas-docs/stable/user_guide/groupby.html) 可以执行该任务。 \n",
    "\n",
    "`groupby` operation 在dataframe上执行 \"split-apply-combine\" 过程，并将其浓缩为两步：\n",
    "1. 创建一个 GroupBy 对象.\n",
    "2. 在该 GroupBy 对象上运行函数.\n",
    "\n",
    "![Groupby_Full](Groupby_Full.svg)\n",
    "\n",
    "创建的Groupby对象可以理解为一个 mapping document, 上面记录了**分类的方式**各个**数据在df中的位置**"
   ]
  },
  {
   "cell_type": "markdown",
   "metadata": {},
   "source": [
    "- ### 创建Groupby对象"
   ]
  },
  {
   "cell_type": "markdown",
   "metadata": {},
   "source": [
    "创建GroupBy对象需要[DataFrame.groupby()](https://pandas.pydata.org/pandas-docs/stable/reference/api/pandas.DataFrame.groupby.html):   \n",
    "\n",
    "`df.groupby('col')`   \n",
    "\n",
    "where col is the column you want to use to group the data set. Note that you can also group the data set on multiple columns by passing a list into the `DataFrame.groupby()` method. \n"
   ]
  },
  {
   "cell_type": "code",
   "execution_count": 4,
   "metadata": {},
   "outputs": [
    {
     "data": {
      "text/plain": [
       "Sub-Saharan Africa                 40\n",
       "Central and Eastern Europe         29\n",
       "Latin America and Caribbean        22\n",
       "Western Europe                     21\n",
       "Middle East and Northern Africa    20\n",
       "Southeastern Asia                   9\n",
       "Southern Asia                       7\n",
       "Eastern Asia                        6\n",
       "Australia and New Zealand           2\n",
       "North America                       2\n",
       "Name: Region, dtype: int64"
      ]
     },
     "execution_count": 4,
     "metadata": {},
     "output_type": "execute_result"
    }
   ],
   "source": [
    "happiness2015['Region'].value_counts()"
   ]
  },
  {
   "cell_type": "markdown",
   "metadata": {},
   "source": [
    "Since there's a small number of groups and each group contains more than one unique value, we can confirm the Region column is a good candidate to group by."
   ]
  },
  {
   "cell_type": "markdown",
   "metadata": {},
   "source": [
    "[GroupBy.get_group()](https://pandas.pydata.org/pandas-docs/stable/reference/api/pandas.core.groupby.GroupBy.get_group.html) 方法可以从Groupby对象中选取特定的group"
   ]
  },
  {
   "cell_type": "code",
   "execution_count": 5,
   "metadata": {},
   "outputs": [],
   "source": [
    "grouped = happiness2015.groupby('Region')\n",
    "aus_nz = grouped.get_group('Australia and New Zealand')"
   ]
  },
  {
   "cell_type": "code",
   "execution_count": 6,
   "metadata": {},
   "outputs": [
    {
     "data": {
      "text/plain": [
       "<pandas.core.groupby.generic.DataFrameGroupBy object at 0x7fc1a04bdc50>"
      ]
     },
     "execution_count": 6,
     "metadata": {},
     "output_type": "execute_result"
    }
   ],
   "source": [
    "grouped"
   ]
  },
  {
   "cell_type": "code",
   "execution_count": 7,
   "metadata": {},
   "outputs": [
    {
     "data": {
      "text/html": [
       "<div>\n",
       "<style scoped>\n",
       "    .dataframe tbody tr th:only-of-type {\n",
       "        vertical-align: middle;\n",
       "    }\n",
       "\n",
       "    .dataframe tbody tr th {\n",
       "        vertical-align: top;\n",
       "    }\n",
       "\n",
       "    .dataframe thead th {\n",
       "        text-align: right;\n",
       "    }\n",
       "</style>\n",
       "<table border=\"1\" class=\"dataframe\">\n",
       "  <thead>\n",
       "    <tr style=\"text-align: right;\">\n",
       "      <th></th>\n",
       "      <th>Country</th>\n",
       "      <th>Region</th>\n",
       "      <th>Happiness Rank</th>\n",
       "      <th>Happiness Score</th>\n",
       "      <th>Standard Error</th>\n",
       "      <th>Economy (GDP per Capita)</th>\n",
       "      <th>Family</th>\n",
       "      <th>Health (Life Expectancy)</th>\n",
       "      <th>Freedom</th>\n",
       "      <th>Trust (Government Corruption)</th>\n",
       "      <th>Generosity</th>\n",
       "      <th>Dystopia Residual</th>\n",
       "    </tr>\n",
       "  </thead>\n",
       "  <tbody>\n",
       "    <tr>\n",
       "      <td>8</td>\n",
       "      <td>New Zealand</td>\n",
       "      <td>Australia and New Zealand</td>\n",
       "      <td>9</td>\n",
       "      <td>7.286</td>\n",
       "      <td>0.03371</td>\n",
       "      <td>1.25018</td>\n",
       "      <td>1.31967</td>\n",
       "      <td>0.90837</td>\n",
       "      <td>0.63938</td>\n",
       "      <td>0.42922</td>\n",
       "      <td>0.47501</td>\n",
       "      <td>2.26425</td>\n",
       "    </tr>\n",
       "    <tr>\n",
       "      <td>9</td>\n",
       "      <td>Australia</td>\n",
       "      <td>Australia and New Zealand</td>\n",
       "      <td>10</td>\n",
       "      <td>7.284</td>\n",
       "      <td>0.04083</td>\n",
       "      <td>1.33358</td>\n",
       "      <td>1.30923</td>\n",
       "      <td>0.93156</td>\n",
       "      <td>0.65124</td>\n",
       "      <td>0.35637</td>\n",
       "      <td>0.43562</td>\n",
       "      <td>2.26646</td>\n",
       "    </tr>\n",
       "  </tbody>\n",
       "</table>\n",
       "</div>"
      ],
      "text/plain": [
       "       Country                     Region  Happiness Rank  Happiness Score  \\\n",
       "8  New Zealand  Australia and New Zealand               9            7.286   \n",
       "9    Australia  Australia and New Zealand              10            7.284   \n",
       "\n",
       "   Standard Error  Economy (GDP per Capita)   Family  \\\n",
       "8         0.03371                   1.25018  1.31967   \n",
       "9         0.04083                   1.33358  1.30923   \n",
       "\n",
       "   Health (Life Expectancy)  Freedom  Trust (Government Corruption)  \\\n",
       "8                   0.90837  0.63938                        0.42922   \n",
       "9                   0.93156  0.65124                        0.35637   \n",
       "\n",
       "   Generosity  Dystopia Residual  \n",
       "8     0.47501            2.26425  \n",
       "9     0.43562            2.26646  "
      ]
     },
     "execution_count": 7,
     "metadata": {},
     "output_type": "execute_result"
    }
   ],
   "source": [
    "aus_nz"
   ]
  },
  {
   "cell_type": "markdown",
   "metadata": {},
   "source": [
    "- ### 探索Groupby对象"
   ]
  },
  {
   "cell_type": "markdown",
   "metadata": {},
   "source": [
    "我们还可以用 [GroupBy.groups](https://pandas.pydata.org/pandas-docs/stable/reference/api/pandas.core.groupby.GroupBy.groups.html) 特征查看更多Groupby对象信息："
   ]
  },
  {
   "cell_type": "code",
   "execution_count": 8,
   "metadata": {
    "scrolled": false
   },
   "outputs": [
    {
     "data": {
      "text/plain": [
       "{'Australia and New Zealand': Int64Index([8, 9], dtype='int64'),\n",
       " 'Central and Eastern Europe': Int64Index([ 30,  43,  44,  51,  53,  54,  55,  58,  59,  61,  63,  68,  69,\n",
       "              72,  76,  79,  82,  85,  86,  88,  92,  94,  95, 103, 105, 110,\n",
       "             126, 129, 133],\n",
       "            dtype='int64'),\n",
       " 'Eastern Asia': Int64Index([37, 45, 46, 71, 83, 99], dtype='int64'),\n",
       " 'Latin America and Caribbean': Int64Index([ 11,  13,  15,  22,  24,  26,  29,  31,  32,  39,  40,  41,  42,\n",
       "              47,  50,  52,  56,  57,  64,  97, 104, 118],\n",
       "            dtype='int64'),\n",
       " 'Middle East and Northern Africa': Int64Index([ 10,  19,  21,  27,  34,  38,  48,  62,  67,  75,  81,  91, 102,\n",
       "             106, 107, 109, 111, 134, 135, 155],\n",
       "            dtype='int64'),\n",
       " 'North America': Int64Index([4, 14], dtype='int64'),\n",
       " 'Southeastern Asia': Int64Index([23, 33, 60, 73, 74, 89, 98, 128, 144], dtype='int64'),\n",
       " 'Southern Asia': Int64Index([78, 80, 108, 116, 120, 131, 152], dtype='int64'),\n",
       " 'Sub-Saharan Africa': Int64Index([ 70,  77,  84,  90,  93,  96, 100, 112, 113, 114, 115, 117, 119,\n",
       "             121, 122, 123, 124, 125, 127, 130, 132, 136, 137, 138, 139, 140,\n",
       "             141, 142, 143, 145, 146, 147, 148, 149, 150, 151, 153, 154, 156,\n",
       "             157],\n",
       "            dtype='int64'),\n",
       " 'Western Europe': Int64Index([0, 1, 2, 3, 5, 6, 7, 12, 16, 17, 18, 20, 25, 28, 35, 36, 49, 65,\n",
       "             66, 87, 101],\n",
       "            dtype='int64')}"
      ]
     },
     "execution_count": 8,
     "metadata": {},
     "output_type": "execute_result"
    }
   ],
   "source": [
    "grouped.groups"
   ]
  },
  {
   "cell_type": "markdown",
   "metadata": {},
   "source": [
    "这就像是所谓的 mapping document"
   ]
  },
  {
   "cell_type": "markdown",
   "metadata": {},
   "source": [
    "Int64Index里的value就是原始df中各个`Region`对应的行索引"
   ]
  },
  {
   "cell_type": "markdown",
   "metadata": {},
   "source": [
    "验证\n",
    "`'North America': Int64Index([4, 14], dtype='int64')`："
   ]
  },
  {
   "cell_type": "code",
   "execution_count": 9,
   "metadata": {},
   "outputs": [
    {
     "data": {
      "text/html": [
       "<div>\n",
       "<style scoped>\n",
       "    .dataframe tbody tr th:only-of-type {\n",
       "        vertical-align: middle;\n",
       "    }\n",
       "\n",
       "    .dataframe tbody tr th {\n",
       "        vertical-align: top;\n",
       "    }\n",
       "\n",
       "    .dataframe thead th {\n",
       "        text-align: right;\n",
       "    }\n",
       "</style>\n",
       "<table border=\"1\" class=\"dataframe\">\n",
       "  <thead>\n",
       "    <tr style=\"text-align: right;\">\n",
       "      <th></th>\n",
       "      <th>Country</th>\n",
       "      <th>Region</th>\n",
       "      <th>Happiness Rank</th>\n",
       "      <th>Happiness Score</th>\n",
       "      <th>Standard Error</th>\n",
       "      <th>Economy (GDP per Capita)</th>\n",
       "      <th>Family</th>\n",
       "      <th>Health (Life Expectancy)</th>\n",
       "      <th>Freedom</th>\n",
       "      <th>Trust (Government Corruption)</th>\n",
       "      <th>Generosity</th>\n",
       "      <th>Dystopia Residual</th>\n",
       "    </tr>\n",
       "  </thead>\n",
       "  <tbody>\n",
       "    <tr>\n",
       "      <td>4</td>\n",
       "      <td>True</td>\n",
       "      <td>True</td>\n",
       "      <td>True</td>\n",
       "      <td>True</td>\n",
       "      <td>True</td>\n",
       "      <td>True</td>\n",
       "      <td>True</td>\n",
       "      <td>True</td>\n",
       "      <td>True</td>\n",
       "      <td>True</td>\n",
       "      <td>True</td>\n",
       "      <td>True</td>\n",
       "    </tr>\n",
       "    <tr>\n",
       "      <td>14</td>\n",
       "      <td>True</td>\n",
       "      <td>True</td>\n",
       "      <td>True</td>\n",
       "      <td>True</td>\n",
       "      <td>True</td>\n",
       "      <td>True</td>\n",
       "      <td>True</td>\n",
       "      <td>True</td>\n",
       "      <td>True</td>\n",
       "      <td>True</td>\n",
       "      <td>True</td>\n",
       "      <td>True</td>\n",
       "    </tr>\n",
       "  </tbody>\n",
       "</table>\n",
       "</div>"
      ],
      "text/plain": [
       "    Country  Region  Happiness Rank  Happiness Score  Standard Error  \\\n",
       "4      True    True            True             True            True   \n",
       "14     True    True            True             True            True   \n",
       "\n",
       "    Economy (GDP per Capita)  Family  Health (Life Expectancy)  Freedom  \\\n",
       "4                       True    True                      True     True   \n",
       "14                      True    True                      True     True   \n",
       "\n",
       "    Trust (Government Corruption)  Generosity  Dystopia Residual  \n",
       "4                            True        True               True  \n",
       "14                           True        True               True  "
      ]
     },
     "execution_count": 9,
     "metadata": {},
     "output_type": "execute_result"
    }
   ],
   "source": [
    "grouped = happiness2015.groupby('Region')\n",
    "north_america = happiness2015.loc[[4,14],]\n",
    "na_group = grouped.get_group('North America')\n",
    "equal = north_america == na_group\n",
    "equal"
   ]
  },
  {
   "cell_type": "markdown",
   "metadata": {},
   "source": [
    "- ### Common Aggregation Methods with Groupby"
   ]
  },
  {
   "cell_type": "code",
   "execution_count": 10,
   "metadata": {
    "scrolled": true
   },
   "outputs": [
    {
     "data": {
      "text/plain": [
       "Region\n",
       "Australia and New Zealand           2\n",
       "Central and Eastern Europe         29\n",
       "Eastern Asia                        6\n",
       "Latin America and Caribbean        22\n",
       "Middle East and Northern Africa    20\n",
       "North America                       2\n",
       "Southeastern Asia                   9\n",
       "Southern Asia                       7\n",
       "Sub-Saharan Africa                 40\n",
       "Western Europe                     21\n",
       "dtype: int64"
      ]
     },
     "execution_count": 10,
     "metadata": {},
     "output_type": "execute_result"
    }
   ],
   "source": [
    "grouped.size()"
   ]
  },
  {
   "cell_type": "markdown",
   "metadata": {},
   "source": [
    "返回的是一个series，和`happiness2015['Region'].value_counts()`一样"
   ]
  },
  {
   "cell_type": "markdown",
   "metadata": {},
   "source": [
    "|**Methods** \t|    **Description**|\n",
    "|---------------|-------------------|\n",
    "|**mean()**|\tCalculates the mean of groups.|\n",
    "|**sum()**|Calculates the sum of group values.|\n",
    "|**size()**|\tCalculates the size of the groups.|\n",
    "|**count()**|\tCalculates the count of values in groups.|\n",
    "|**min()**\t|Calculates the minimum of group values.|\n",
    "|**max()**|\tCalculates the maximum of group values.|"
   ]
  },
  {
   "cell_type": "code",
   "execution_count": 11,
   "metadata": {},
   "outputs": [
    {
     "data": {
      "text/html": [
       "<div>\n",
       "<style scoped>\n",
       "    .dataframe tbody tr th:only-of-type {\n",
       "        vertical-align: middle;\n",
       "    }\n",
       "\n",
       "    .dataframe tbody tr th {\n",
       "        vertical-align: top;\n",
       "    }\n",
       "\n",
       "    .dataframe thead th {\n",
       "        text-align: right;\n",
       "    }\n",
       "</style>\n",
       "<table border=\"1\" class=\"dataframe\">\n",
       "  <thead>\n",
       "    <tr style=\"text-align: right;\">\n",
       "      <th></th>\n",
       "      <th>Happiness Rank</th>\n",
       "      <th>Happiness Score</th>\n",
       "      <th>Standard Error</th>\n",
       "      <th>Economy (GDP per Capita)</th>\n",
       "      <th>Family</th>\n",
       "      <th>Health (Life Expectancy)</th>\n",
       "      <th>Freedom</th>\n",
       "      <th>Trust (Government Corruption)</th>\n",
       "      <th>Generosity</th>\n",
       "      <th>Dystopia Residual</th>\n",
       "    </tr>\n",
       "    <tr>\n",
       "      <th>Region</th>\n",
       "      <th></th>\n",
       "      <th></th>\n",
       "      <th></th>\n",
       "      <th></th>\n",
       "      <th></th>\n",
       "      <th></th>\n",
       "      <th></th>\n",
       "      <th></th>\n",
       "      <th></th>\n",
       "      <th></th>\n",
       "    </tr>\n",
       "  </thead>\n",
       "  <tbody>\n",
       "    <tr>\n",
       "      <td>Australia and New Zealand</td>\n",
       "      <td>9.500000</td>\n",
       "      <td>7.285000</td>\n",
       "      <td>0.037270</td>\n",
       "      <td>1.291880</td>\n",
       "      <td>1.314450</td>\n",
       "      <td>0.919965</td>\n",
       "      <td>0.645310</td>\n",
       "      <td>0.392795</td>\n",
       "      <td>0.455315</td>\n",
       "      <td>2.265355</td>\n",
       "    </tr>\n",
       "    <tr>\n",
       "      <td>Central and Eastern Europe</td>\n",
       "      <td>79.000000</td>\n",
       "      <td>5.332931</td>\n",
       "      <td>0.045208</td>\n",
       "      <td>0.942438</td>\n",
       "      <td>1.053042</td>\n",
       "      <td>0.718774</td>\n",
       "      <td>0.358269</td>\n",
       "      <td>0.086674</td>\n",
       "      <td>0.152264</td>\n",
       "      <td>2.021400</td>\n",
       "    </tr>\n",
       "    <tr>\n",
       "      <td>Eastern Asia</td>\n",
       "      <td>64.500000</td>\n",
       "      <td>5.626167</td>\n",
       "      <td>0.037225</td>\n",
       "      <td>1.151780</td>\n",
       "      <td>1.099427</td>\n",
       "      <td>0.877388</td>\n",
       "      <td>0.462490</td>\n",
       "      <td>0.127695</td>\n",
       "      <td>0.225885</td>\n",
       "      <td>1.681607</td>\n",
       "    </tr>\n",
       "    <tr>\n",
       "      <td>Latin America and Caribbean</td>\n",
       "      <td>46.909091</td>\n",
       "      <td>6.144682</td>\n",
       "      <td>0.061127</td>\n",
       "      <td>0.876815</td>\n",
       "      <td>1.104720</td>\n",
       "      <td>0.703870</td>\n",
       "      <td>0.501740</td>\n",
       "      <td>0.117172</td>\n",
       "      <td>0.217788</td>\n",
       "      <td>2.622577</td>\n",
       "    </tr>\n",
       "    <tr>\n",
       "      <td>Middle East and Northern Africa</td>\n",
       "      <td>77.600000</td>\n",
       "      <td>5.406900</td>\n",
       "      <td>0.046337</td>\n",
       "      <td>1.066973</td>\n",
       "      <td>0.920490</td>\n",
       "      <td>0.705616</td>\n",
       "      <td>0.361751</td>\n",
       "      <td>0.181702</td>\n",
       "      <td>0.190375</td>\n",
       "      <td>1.980009</td>\n",
       "    </tr>\n",
       "    <tr>\n",
       "      <td>North America</td>\n",
       "      <td>10.000000</td>\n",
       "      <td>7.273000</td>\n",
       "      <td>0.036960</td>\n",
       "      <td>1.360400</td>\n",
       "      <td>1.284860</td>\n",
       "      <td>0.883710</td>\n",
       "      <td>0.589505</td>\n",
       "      <td>0.244235</td>\n",
       "      <td>0.429580</td>\n",
       "      <td>2.480935</td>\n",
       "    </tr>\n",
       "    <tr>\n",
       "      <td>Southeastern Asia</td>\n",
       "      <td>81.222222</td>\n",
       "      <td>5.317444</td>\n",
       "      <td>0.042691</td>\n",
       "      <td>0.789054</td>\n",
       "      <td>0.940468</td>\n",
       "      <td>0.677357</td>\n",
       "      <td>0.557104</td>\n",
       "      <td>0.151276</td>\n",
       "      <td>0.419261</td>\n",
       "      <td>1.783020</td>\n",
       "    </tr>\n",
       "    <tr>\n",
       "      <td>Southern Asia</td>\n",
       "      <td>113.142857</td>\n",
       "      <td>4.580857</td>\n",
       "      <td>0.032161</td>\n",
       "      <td>0.560486</td>\n",
       "      <td>0.645321</td>\n",
       "      <td>0.540830</td>\n",
       "      <td>0.373337</td>\n",
       "      <td>0.102536</td>\n",
       "      <td>0.341429</td>\n",
       "      <td>2.016769</td>\n",
       "    </tr>\n",
       "    <tr>\n",
       "      <td>Sub-Saharan Africa</td>\n",
       "      <td>127.900000</td>\n",
       "      <td>4.202800</td>\n",
       "      <td>0.055299</td>\n",
       "      <td>0.380473</td>\n",
       "      <td>0.809085</td>\n",
       "      <td>0.282332</td>\n",
       "      <td>0.365944</td>\n",
       "      <td>0.123878</td>\n",
       "      <td>0.221137</td>\n",
       "      <td>2.019980</td>\n",
       "    </tr>\n",
       "    <tr>\n",
       "      <td>Western Europe</td>\n",
       "      <td>29.523810</td>\n",
       "      <td>6.689619</td>\n",
       "      <td>0.037625</td>\n",
       "      <td>1.298596</td>\n",
       "      <td>1.247302</td>\n",
       "      <td>0.909148</td>\n",
       "      <td>0.549926</td>\n",
       "      <td>0.231463</td>\n",
       "      <td>0.302109</td>\n",
       "      <td>2.151185</td>\n",
       "    </tr>\n",
       "  </tbody>\n",
       "</table>\n",
       "</div>"
      ],
      "text/plain": [
       "                                 Happiness Rank  Happiness Score  \\\n",
       "Region                                                             \n",
       "Australia and New Zealand              9.500000         7.285000   \n",
       "Central and Eastern Europe            79.000000         5.332931   \n",
       "Eastern Asia                          64.500000         5.626167   \n",
       "Latin America and Caribbean           46.909091         6.144682   \n",
       "Middle East and Northern Africa       77.600000         5.406900   \n",
       "North America                         10.000000         7.273000   \n",
       "Southeastern Asia                     81.222222         5.317444   \n",
       "Southern Asia                        113.142857         4.580857   \n",
       "Sub-Saharan Africa                   127.900000         4.202800   \n",
       "Western Europe                        29.523810         6.689619   \n",
       "\n",
       "                                 Standard Error  Economy (GDP per Capita)  \\\n",
       "Region                                                                      \n",
       "Australia and New Zealand              0.037270                  1.291880   \n",
       "Central and Eastern Europe             0.045208                  0.942438   \n",
       "Eastern Asia                           0.037225                  1.151780   \n",
       "Latin America and Caribbean            0.061127                  0.876815   \n",
       "Middle East and Northern Africa        0.046337                  1.066973   \n",
       "North America                          0.036960                  1.360400   \n",
       "Southeastern Asia                      0.042691                  0.789054   \n",
       "Southern Asia                          0.032161                  0.560486   \n",
       "Sub-Saharan Africa                     0.055299                  0.380473   \n",
       "Western Europe                         0.037625                  1.298596   \n",
       "\n",
       "                                   Family  Health (Life Expectancy)   Freedom  \\\n",
       "Region                                                                          \n",
       "Australia and New Zealand        1.314450                  0.919965  0.645310   \n",
       "Central and Eastern Europe       1.053042                  0.718774  0.358269   \n",
       "Eastern Asia                     1.099427                  0.877388  0.462490   \n",
       "Latin America and Caribbean      1.104720                  0.703870  0.501740   \n",
       "Middle East and Northern Africa  0.920490                  0.705616  0.361751   \n",
       "North America                    1.284860                  0.883710  0.589505   \n",
       "Southeastern Asia                0.940468                  0.677357  0.557104   \n",
       "Southern Asia                    0.645321                  0.540830  0.373337   \n",
       "Sub-Saharan Africa               0.809085                  0.282332  0.365944   \n",
       "Western Europe                   1.247302                  0.909148  0.549926   \n",
       "\n",
       "                                 Trust (Government Corruption)  Generosity  \\\n",
       "Region                                                                       \n",
       "Australia and New Zealand                             0.392795    0.455315   \n",
       "Central and Eastern Europe                            0.086674    0.152264   \n",
       "Eastern Asia                                          0.127695    0.225885   \n",
       "Latin America and Caribbean                           0.117172    0.217788   \n",
       "Middle East and Northern Africa                       0.181702    0.190375   \n",
       "North America                                         0.244235    0.429580   \n",
       "Southeastern Asia                                     0.151276    0.419261   \n",
       "Southern Asia                                         0.102536    0.341429   \n",
       "Sub-Saharan Africa                                    0.123878    0.221137   \n",
       "Western Europe                                        0.231463    0.302109   \n",
       "\n",
       "                                 Dystopia Residual  \n",
       "Region                                              \n",
       "Australia and New Zealand                 2.265355  \n",
       "Central and Eastern Europe                2.021400  \n",
       "Eastern Asia                              1.681607  \n",
       "Latin America and Caribbean               2.622577  \n",
       "Middle East and Northern Africa           1.980009  \n",
       "North America                             2.480935  \n",
       "Southeastern Asia                         1.783020  \n",
       "Southern Asia                             2.016769  \n",
       "Sub-Saharan Africa                        2.019980  \n",
       "Western Europe                            2.151185  "
      ]
     },
     "execution_count": 11,
     "metadata": {},
     "output_type": "execute_result"
    }
   ],
   "source": [
    "means = grouped.mean()\n",
    "means"
   ]
  },
  {
   "cell_type": "markdown",
   "metadata": {},
   "source": [
    "- ### Aggregating Specific Columns with Groupby"
   ]
  },
  {
   "cell_type": "markdown",
   "metadata": {},
   "source": [
    "Groupby 对象支持列索引："
   ]
  },
  {
   "cell_type": "code",
   "execution_count": 12,
   "metadata": {},
   "outputs": [
    {
     "data": {
      "text/plain": [
       "Region\n",
       "Australia and New Zealand          7.285000\n",
       "Central and Eastern Europe         5.332931\n",
       "Eastern Asia                       5.626167\n",
       "Latin America and Caribbean        6.144682\n",
       "Middle East and Northern Africa    5.406900\n",
       "North America                      7.273000\n",
       "Southeastern Asia                  5.317444\n",
       "Southern Asia                      4.580857\n",
       "Sub-Saharan Africa                 4.202800\n",
       "Western Europe                     6.689619\n",
       "Name: Happiness Score, dtype: float64"
      ]
     },
     "execution_count": 12,
     "metadata": {},
     "output_type": "execute_result"
    }
   ],
   "source": [
    "grouped = happiness2015.groupby('Region')\n",
    "happy_grouped = grouped['Happiness Score']\n",
    "happy_mean = happy_grouped.mean()\n",
    "happy_mean"
   ]
  },
  {
   "cell_type": "markdown",
   "metadata": {},
   "source": [
    "- ### Agg() Method 介绍"
   ]
  },
  {
   "cell_type": "markdown",
   "metadata": {},
   "source": [
    "如果我们想要对同时对同一行 apply more than one kind of aggregation，应该怎么办?\n",
    "\n",
    "例如，假设我们要计算每个region的*平均*幸福分数和*最大*幸福分数。使用到目前为止所学的知识，我们必须先像上面一样计算*平均值*，然后再单独计算*最大值*。\n",
    "\n",
    "幸运的是，[GroupBy.agg()](https://pandas.pydata.org/pandas-docs/version/0.22/generated/pandas.core.groupby.DataFrameGroupBy.agg.html)方法可以一次执行两种聚合。我们可以使用以下语法：\n",
    "\n",
    "![Agg_Syntax](Agg_Syntax.svg)"
   ]
  },
  {
   "cell_type": "code",
   "execution_count": 13,
   "metadata": {
    "scrolled": true
   },
   "outputs": [
    {
     "data": {
      "text/html": [
       "<div>\n",
       "<style scoped>\n",
       "    .dataframe tbody tr th:only-of-type {\n",
       "        vertical-align: middle;\n",
       "    }\n",
       "\n",
       "    .dataframe tbody tr th {\n",
       "        vertical-align: top;\n",
       "    }\n",
       "\n",
       "    .dataframe thead th {\n",
       "        text-align: right;\n",
       "    }\n",
       "</style>\n",
       "<table border=\"1\" class=\"dataframe\">\n",
       "  <thead>\n",
       "    <tr style=\"text-align: right;\">\n",
       "      <th></th>\n",
       "      <th>mean</th>\n",
       "      <th>amax</th>\n",
       "    </tr>\n",
       "    <tr>\n",
       "      <th>Region</th>\n",
       "      <th></th>\n",
       "      <th></th>\n",
       "    </tr>\n",
       "  </thead>\n",
       "  <tbody>\n",
       "    <tr>\n",
       "      <td>Australia and New Zealand</td>\n",
       "      <td>7.285000</td>\n",
       "      <td>7.286</td>\n",
       "    </tr>\n",
       "    <tr>\n",
       "      <td>Central and Eastern Europe</td>\n",
       "      <td>5.332931</td>\n",
       "      <td>6.505</td>\n",
       "    </tr>\n",
       "    <tr>\n",
       "      <td>Eastern Asia</td>\n",
       "      <td>5.626167</td>\n",
       "      <td>6.298</td>\n",
       "    </tr>\n",
       "    <tr>\n",
       "      <td>Latin America and Caribbean</td>\n",
       "      <td>6.144682</td>\n",
       "      <td>7.226</td>\n",
       "    </tr>\n",
       "    <tr>\n",
       "      <td>Middle East and Northern Africa</td>\n",
       "      <td>5.406900</td>\n",
       "      <td>7.278</td>\n",
       "    </tr>\n",
       "    <tr>\n",
       "      <td>North America</td>\n",
       "      <td>7.273000</td>\n",
       "      <td>7.427</td>\n",
       "    </tr>\n",
       "    <tr>\n",
       "      <td>Southeastern Asia</td>\n",
       "      <td>5.317444</td>\n",
       "      <td>6.798</td>\n",
       "    </tr>\n",
       "    <tr>\n",
       "      <td>Southern Asia</td>\n",
       "      <td>4.580857</td>\n",
       "      <td>5.253</td>\n",
       "    </tr>\n",
       "    <tr>\n",
       "      <td>Sub-Saharan Africa</td>\n",
       "      <td>4.202800</td>\n",
       "      <td>5.477</td>\n",
       "    </tr>\n",
       "    <tr>\n",
       "      <td>Western Europe</td>\n",
       "      <td>6.689619</td>\n",
       "      <td>7.587</td>\n",
       "    </tr>\n",
       "  </tbody>\n",
       "</table>\n",
       "</div>"
      ],
      "text/plain": [
       "                                     mean   amax\n",
       "Region                                          \n",
       "Australia and New Zealand        7.285000  7.286\n",
       "Central and Eastern Europe       5.332931  6.505\n",
       "Eastern Asia                     5.626167  6.298\n",
       "Latin America and Caribbean      6.144682  7.226\n",
       "Middle East and Northern Africa  5.406900  7.278\n",
       "North America                    7.273000  7.427\n",
       "Southeastern Asia                5.317444  6.798\n",
       "Southern Asia                    4.580857  5.253\n",
       "Sub-Saharan Africa               4.202800  5.477\n",
       "Western Europe                   6.689619  7.587"
      ]
     },
     "execution_count": 13,
     "metadata": {},
     "output_type": "execute_result"
    }
   ],
   "source": [
    "import numpy as np\n",
    "grouped = happiness2015.groupby('Region')\n",
    "happy_grouped = grouped['Happiness Score']\n",
    "\n",
    "happy_mean_max = happy_grouped.agg([np.mean, np.max])\n",
    "happy_mean_max"
   ]
  },
  {
   "cell_type": "markdown",
   "metadata": {},
   "source": [
    "Our result is a dataframe containing both the mean and maximum happiness scores for each region. Note that the columns are named for the functions themselves. Because `np.max` is an alias for `np.amax`, the column for the maximum is named `amax`."
   ]
  },
  {
   "cell_type": "code",
   "execution_count": 14,
   "metadata": {},
   "outputs": [
    {
     "data": {
      "text/plain": [
       "Region\n",
       "Australia and New Zealand          0.001000\n",
       "Central and Eastern Europe         1.172069\n",
       "Eastern Asia                       0.671833\n",
       "Latin America and Caribbean        1.081318\n",
       "Middle East and Northern Africa    1.871100\n",
       "North America                      0.154000\n",
       "Southeastern Asia                  1.480556\n",
       "Southern Asia                      0.672143\n",
       "Sub-Saharan Africa                 1.274200\n",
       "Western Europe                     0.897381\n",
       "Name: Happiness Score, dtype: float64"
      ]
     },
     "execution_count": 14,
     "metadata": {},
     "output_type": "execute_result"
    }
   ],
   "source": [
    "def dif(group):\n",
    "    return (group.max() - group.mean())\n",
    "\n",
    "dif(happy_grouped)"
   ]
  },
  {
   "cell_type": "code",
   "execution_count": 15,
   "metadata": {},
   "outputs": [
    {
     "data": {
      "text/plain": [
       "Region\n",
       "Australia and New Zealand          0.001000\n",
       "Central and Eastern Europe         1.172069\n",
       "Eastern Asia                       0.671833\n",
       "Latin America and Caribbean        1.081318\n",
       "Middle East and Northern Africa    1.871100\n",
       "North America                      0.154000\n",
       "Southeastern Asia                  1.480556\n",
       "Southern Asia                      0.672143\n",
       "Sub-Saharan Africa                 1.274200\n",
       "Western Europe                     0.897381\n",
       "Name: Happiness Score, dtype: float64"
      ]
     },
     "execution_count": 15,
     "metadata": {},
     "output_type": "execute_result"
    }
   ],
   "source": [
    "happy_grouped.agg(dif)"
   ]
  },
  {
   "cell_type": "markdown",
   "metadata": {},
   "source": [
    "以上我们了解到了我们可以用`Agg()`:\n",
    "- 一次性实行多个 aggregation.\n",
    "- 计算自定义的 aggregations."
   ]
  },
  {
   "cell_type": "markdown",
   "metadata": {},
   "source": [
    "也可以写在同一行，但影响阅读"
   ]
  },
  {
   "cell_type": "code",
   "execution_count": 16,
   "metadata": {
    "scrolled": true
   },
   "outputs": [
    {
     "data": {
      "text/plain": [
       "Region\n",
       "Australia and New Zealand          7.285000\n",
       "Central and Eastern Europe         5.332931\n",
       "Eastern Asia                       5.626167\n",
       "Latin America and Caribbean        6.144682\n",
       "Middle East and Northern Africa    5.406900\n",
       "North America                      7.273000\n",
       "Southeastern Asia                  5.317444\n",
       "Southern Asia                      4.580857\n",
       "Sub-Saharan Africa                 4.202800\n",
       "Western Europe                     6.689619\n",
       "Name: Happiness Score, dtype: float64"
      ]
     },
     "execution_count": 16,
     "metadata": {},
     "output_type": "execute_result"
    }
   ],
   "source": [
    "happiness_means = happiness2015.groupby('Region')['Happiness Score'].mean()\n",
    "happiness_means"
   ]
  },
  {
   "cell_type": "code",
   "execution_count": 17,
   "metadata": {},
   "outputs": [
    {
     "data": {
      "text/plain": [
       "pandas.core.series.Series"
      ]
     },
     "execution_count": 17,
     "metadata": {},
     "output_type": "execute_result"
    }
   ],
   "source": [
    "type(happiness_means)"
   ]
  },
  {
   "cell_type": "markdown",
   "metadata": {},
   "source": [
    "- ### Aggregation with Pivot Tables"
   ]
  },
  {
   "cell_type": "markdown",
   "metadata": {},
   "source": [
    "print `happiness_mean` 可以看到`Region`列中的值是生成系列的`index`，而`Hapiness Score`列包含被聚合的值：\n",
    "\n",
    "![PV_Syntax](PV_Syntax.svg)"
   ]
  },
  {
   "cell_type": "markdown",
   "metadata": {},
   "source": [
    "`index`和`values`实际上是用于聚合数据的另一种方法[DataFrame.pivot_table()](https://pandas.pydata.org/pandas-docs/stable/reference/api/pandas.DataFrame.pivot_table.html)方法中的参数。这种`df.pivot_table()`方法可以执行与 `df.groupby` 方法相同的聚合，使复杂聚合的代码更容易阅读"
   ]
  },
  {
   "cell_type": "code",
   "execution_count": 18,
   "metadata": {
    "scrolled": true
   },
   "outputs": [
    {
     "data": {
      "text/html": [
       "<div>\n",
       "<style scoped>\n",
       "    .dataframe tbody tr th:only-of-type {\n",
       "        vertical-align: middle;\n",
       "    }\n",
       "\n",
       "    .dataframe tbody tr th {\n",
       "        vertical-align: top;\n",
       "    }\n",
       "\n",
       "    .dataframe thead th {\n",
       "        text-align: right;\n",
       "    }\n",
       "</style>\n",
       "<table border=\"1\" class=\"dataframe\">\n",
       "  <thead>\n",
       "    <tr style=\"text-align: right;\">\n",
       "      <th></th>\n",
       "      <th>Happiness Score</th>\n",
       "    </tr>\n",
       "    <tr>\n",
       "      <th>Region</th>\n",
       "      <th></th>\n",
       "    </tr>\n",
       "  </thead>\n",
       "  <tbody>\n",
       "    <tr>\n",
       "      <td>Australia and New Zealand</td>\n",
       "      <td>7.285000</td>\n",
       "    </tr>\n",
       "    <tr>\n",
       "      <td>Central and Eastern Europe</td>\n",
       "      <td>5.332931</td>\n",
       "    </tr>\n",
       "    <tr>\n",
       "      <td>Eastern Asia</td>\n",
       "      <td>5.626167</td>\n",
       "    </tr>\n",
       "    <tr>\n",
       "      <td>Latin America and Caribbean</td>\n",
       "      <td>6.144682</td>\n",
       "    </tr>\n",
       "    <tr>\n",
       "      <td>Middle East and Northern Africa</td>\n",
       "      <td>5.406900</td>\n",
       "    </tr>\n",
       "    <tr>\n",
       "      <td>North America</td>\n",
       "      <td>7.273000</td>\n",
       "    </tr>\n",
       "    <tr>\n",
       "      <td>Southeastern Asia</td>\n",
       "      <td>5.317444</td>\n",
       "    </tr>\n",
       "    <tr>\n",
       "      <td>Southern Asia</td>\n",
       "      <td>4.580857</td>\n",
       "    </tr>\n",
       "    <tr>\n",
       "      <td>Sub-Saharan Africa</td>\n",
       "      <td>4.202800</td>\n",
       "    </tr>\n",
       "    <tr>\n",
       "      <td>Western Europe</td>\n",
       "      <td>6.689619</td>\n",
       "    </tr>\n",
       "  </tbody>\n",
       "</table>\n",
       "</div>"
      ],
      "text/plain": [
       "                                 Happiness Score\n",
       "Region                                          \n",
       "Australia and New Zealand               7.285000\n",
       "Central and Eastern Europe              5.332931\n",
       "Eastern Asia                            5.626167\n",
       "Latin America and Caribbean             6.144682\n",
       "Middle East and Northern Africa         5.406900\n",
       "North America                           7.273000\n",
       "Southeastern Asia                       5.317444\n",
       "Southern Asia                           4.580857\n",
       "Sub-Saharan Africa                      4.202800\n",
       "Western Europe                          6.689619"
      ]
     },
     "execution_count": 18,
     "metadata": {},
     "output_type": "execute_result"
    }
   ],
   "source": [
    "happiness2015.pivot_table(values='Happiness Score', index='Region', aggfunc=np.mean)"
   ]
  },
  {
   "cell_type": "code",
   "execution_count": 19,
   "metadata": {},
   "outputs": [
    {
     "data": {
      "text/plain": [
       "pandas.core.frame.DataFrame"
      ]
     },
     "execution_count": 19,
     "metadata": {},
     "output_type": "execute_result"
    }
   ],
   "source": [
    "type(happiness2015.pivot_table(values='Happiness Score', index='Region', aggfunc=np.mean))"
   ]
  },
  {
   "cell_type": "code",
   "execution_count": 113,
   "metadata": {},
   "outputs": [
    {
     "data": {
      "text/plain": [
       "<matplotlib.axes._subplots.AxesSubplot at 0x7fc1a37e7210>"
      ]
     },
     "execution_count": 113,
     "metadata": {},
     "output_type": "execute_result"
    },
    {
     "data": {
      "image/png": "[encoded data removed]",
      "text/plain": [
       "<Figure size 432x288 with 1 Axes>"
      ]
     },
     "metadata": {
      "needs_background": "light"
     },
     "output_type": "display_data"
    }
   ],
   "source": [
    "pv_happiness = happiness2015.pivot_table(values='Happiness Score', index='Region', aggfunc=np.mean, margins=True)\n",
    "\n",
    "pv_happiness.plot(kind='barh', xlim=(0,10), title='Mean Happiness Scores by Region', legend=False)"
   ]
  },
  {
   "cell_type": "markdown",
   "metadata": {},
   "source": [
    "- ### Aggregating Multiple Columns and Functions with Pivot Tables"
   ]
  },
  {
   "cell_type": "markdown",
   "metadata": {},
   "source": [
    "当我们将`margins`参数设置为`True`时，`All`将添加到结果dateframe的索引中，并且相应的值将是对整个列应用聚合方法的结果。 在我们的示例中，`All`是`Happiness Score`列的平均值。"
   ]
  },
  {
   "cell_type": "markdown",
   "metadata": {},
   "source": [
    "`pivot_table`方法还允许我们一次性聚合多个列并应用多个函数。\n",
    "\n",
    "下面，我们汇总了`happiness2015`中的`Happiness Score`和`Family`列，并按`Region`列进行分组："
   ]
  },
  {
   "cell_type": "code",
   "execution_count": 21,
   "metadata": {},
   "outputs": [
    {
     "data": {
      "text/html": [
       "<div>\n",
       "<style scoped>\n",
       "    .dataframe tbody tr th:only-of-type {\n",
       "        vertical-align: middle;\n",
       "    }\n",
       "\n",
       "    .dataframe tbody tr th {\n",
       "        vertical-align: top;\n",
       "    }\n",
       "\n",
       "    .dataframe thead th {\n",
       "        text-align: right;\n",
       "    }\n",
       "</style>\n",
       "<table border=\"1\" class=\"dataframe\">\n",
       "  <thead>\n",
       "    <tr style=\"text-align: right;\">\n",
       "      <th></th>\n",
       "      <th>Family</th>\n",
       "      <th>Happiness Score</th>\n",
       "    </tr>\n",
       "    <tr>\n",
       "      <th>Region</th>\n",
       "      <th></th>\n",
       "      <th></th>\n",
       "    </tr>\n",
       "  </thead>\n",
       "  <tbody>\n",
       "    <tr>\n",
       "      <td>Australia and New Zealand</td>\n",
       "      <td>1.314450</td>\n",
       "      <td>7.285000</td>\n",
       "    </tr>\n",
       "    <tr>\n",
       "      <td>Central and Eastern Europe</td>\n",
       "      <td>1.053042</td>\n",
       "      <td>5.332931</td>\n",
       "    </tr>\n",
       "    <tr>\n",
       "      <td>Eastern Asia</td>\n",
       "      <td>1.099427</td>\n",
       "      <td>5.626167</td>\n",
       "    </tr>\n",
       "    <tr>\n",
       "      <td>Latin America and Caribbean</td>\n",
       "      <td>1.104720</td>\n",
       "      <td>6.144682</td>\n",
       "    </tr>\n",
       "    <tr>\n",
       "      <td>Middle East and Northern Africa</td>\n",
       "      <td>0.920490</td>\n",
       "      <td>5.406900</td>\n",
       "    </tr>\n",
       "    <tr>\n",
       "      <td>North America</td>\n",
       "      <td>1.284860</td>\n",
       "      <td>7.273000</td>\n",
       "    </tr>\n",
       "    <tr>\n",
       "      <td>Southeastern Asia</td>\n",
       "      <td>0.940468</td>\n",
       "      <td>5.317444</td>\n",
       "    </tr>\n",
       "    <tr>\n",
       "      <td>Southern Asia</td>\n",
       "      <td>0.645321</td>\n",
       "      <td>4.580857</td>\n",
       "    </tr>\n",
       "    <tr>\n",
       "      <td>Sub-Saharan Africa</td>\n",
       "      <td>0.809085</td>\n",
       "      <td>4.202800</td>\n",
       "    </tr>\n",
       "    <tr>\n",
       "      <td>Western Europe</td>\n",
       "      <td>1.247302</td>\n",
       "      <td>6.689619</td>\n",
       "    </tr>\n",
       "  </tbody>\n",
       "</table>\n",
       "</div>"
      ],
      "text/plain": [
       "                                   Family  Happiness Score\n",
       "Region                                                    \n",
       "Australia and New Zealand        1.314450         7.285000\n",
       "Central and Eastern Europe       1.053042         5.332931\n",
       "Eastern Asia                     1.099427         5.626167\n",
       "Latin America and Caribbean      1.104720         6.144682\n",
       "Middle East and Northern Africa  0.920490         5.406900\n",
       "North America                    1.284860         7.273000\n",
       "Southeastern Asia                0.940468         5.317444\n",
       "Southern Asia                    0.645321         4.580857\n",
       "Sub-Saharan Africa               0.809085         4.202800\n",
       "Western Europe                   1.247302         6.689619"
      ]
     },
     "execution_count": 21,
     "metadata": {},
     "output_type": "execute_result"
    }
   ],
   "source": [
    "happiness2015.pivot_table(['Happiness Score', 'Family'], 'Region')"
   ]
  },
  {
   "cell_type": "markdown",
   "metadata": {},
   "source": [
    "多个函数："
   ]
  },
  {
   "cell_type": "code",
   "execution_count": 22,
   "metadata": {},
   "outputs": [
    {
     "data": {
      "text/html": [
       "<div>\n",
       "<style scoped>\n",
       "    .dataframe tbody tr th:only-of-type {\n",
       "        vertical-align: middle;\n",
       "    }\n",
       "\n",
       "    .dataframe tbody tr th {\n",
       "        vertical-align: top;\n",
       "    }\n",
       "\n",
       "    .dataframe thead tr th {\n",
       "        text-align: left;\n",
       "    }\n",
       "\n",
       "    .dataframe thead tr:last-of-type th {\n",
       "        text-align: right;\n",
       "    }\n",
       "</style>\n",
       "<table border=\"1\" class=\"dataframe\">\n",
       "  <thead>\n",
       "    <tr>\n",
       "      <th></th>\n",
       "      <th>mean</th>\n",
       "      <th>amin</th>\n",
       "      <th>amax</th>\n",
       "    </tr>\n",
       "    <tr>\n",
       "      <th></th>\n",
       "      <th>Happiness Score</th>\n",
       "      <th>Happiness Score</th>\n",
       "      <th>Happiness Score</th>\n",
       "    </tr>\n",
       "    <tr>\n",
       "      <th>Region</th>\n",
       "      <th></th>\n",
       "      <th></th>\n",
       "      <th></th>\n",
       "    </tr>\n",
       "  </thead>\n",
       "  <tbody>\n",
       "    <tr>\n",
       "      <td>Australia and New Zealand</td>\n",
       "      <td>7.285000</td>\n",
       "      <td>7.284</td>\n",
       "      <td>7.286</td>\n",
       "    </tr>\n",
       "    <tr>\n",
       "      <td>Central and Eastern Europe</td>\n",
       "      <td>5.332931</td>\n",
       "      <td>4.218</td>\n",
       "      <td>6.505</td>\n",
       "    </tr>\n",
       "    <tr>\n",
       "      <td>Eastern Asia</td>\n",
       "      <td>5.626167</td>\n",
       "      <td>4.874</td>\n",
       "      <td>6.298</td>\n",
       "    </tr>\n",
       "    <tr>\n",
       "      <td>Latin America and Caribbean</td>\n",
       "      <td>6.144682</td>\n",
       "      <td>4.518</td>\n",
       "      <td>7.226</td>\n",
       "    </tr>\n",
       "    <tr>\n",
       "      <td>Middle East and Northern Africa</td>\n",
       "      <td>5.406900</td>\n",
       "      <td>3.006</td>\n",
       "      <td>7.278</td>\n",
       "    </tr>\n",
       "    <tr>\n",
       "      <td>North America</td>\n",
       "      <td>7.273000</td>\n",
       "      <td>7.119</td>\n",
       "      <td>7.427</td>\n",
       "    </tr>\n",
       "    <tr>\n",
       "      <td>Southeastern Asia</td>\n",
       "      <td>5.317444</td>\n",
       "      <td>3.819</td>\n",
       "      <td>6.798</td>\n",
       "    </tr>\n",
       "    <tr>\n",
       "      <td>Southern Asia</td>\n",
       "      <td>4.580857</td>\n",
       "      <td>3.575</td>\n",
       "      <td>5.253</td>\n",
       "    </tr>\n",
       "    <tr>\n",
       "      <td>Sub-Saharan Africa</td>\n",
       "      <td>4.202800</td>\n",
       "      <td>2.839</td>\n",
       "      <td>5.477</td>\n",
       "    </tr>\n",
       "    <tr>\n",
       "      <td>Western Europe</td>\n",
       "      <td>6.689619</td>\n",
       "      <td>4.857</td>\n",
       "      <td>7.587</td>\n",
       "    </tr>\n",
       "    <tr>\n",
       "      <td>All</td>\n",
       "      <td>5.375734</td>\n",
       "      <td>2.839</td>\n",
       "      <td>7.587</td>\n",
       "    </tr>\n",
       "  </tbody>\n",
       "</table>\n",
       "</div>"
      ],
      "text/plain": [
       "                                           mean            amin  \\\n",
       "                                Happiness Score Happiness Score   \n",
       "Region                                                            \n",
       "Australia and New Zealand              7.285000           7.284   \n",
       "Central and Eastern Europe             5.332931           4.218   \n",
       "Eastern Asia                           5.626167           4.874   \n",
       "Latin America and Caribbean            6.144682           4.518   \n",
       "Middle East and Northern Africa        5.406900           3.006   \n",
       "North America                          7.273000           7.119   \n",
       "Southeastern Asia                      5.317444           3.819   \n",
       "Southern Asia                          4.580857           3.575   \n",
       "Sub-Saharan Africa                     4.202800           2.839   \n",
       "Western Europe                         6.689619           4.857   \n",
       "All                                    5.375734           2.839   \n",
       "\n",
       "                                           amax  \n",
       "                                Happiness Score  \n",
       "Region                                           \n",
       "Australia and New Zealand                 7.286  \n",
       "Central and Eastern Europe                6.505  \n",
       "Eastern Asia                              6.298  \n",
       "Latin America and Caribbean               7.226  \n",
       "Middle East and Northern Africa           7.278  \n",
       "North America                             7.427  \n",
       "Southeastern Asia                         6.798  \n",
       "Southern Asia                             5.253  \n",
       "Sub-Saharan Africa                        5.477  \n",
       "Western Europe                            7.587  \n",
       "All                                       7.587  "
      ]
     },
     "execution_count": 22,
     "metadata": {},
     "output_type": "execute_result"
    }
   ],
   "source": [
    "happiness2015.pivot_table('Happiness Score', 'Region', aggfunc=[np.mean, np.min , np.max], margins=True)"
   ]
  },
  {
   "cell_type": "markdown",
   "metadata": {},
   "source": [
    "### Exercise\n",
    "\n",
    "比较一下`groupby`操作和`pivot_table()`方法返回的结果:"
   ]
  },
  {
   "cell_type": "code",
   "execution_count": 23,
   "metadata": {},
   "outputs": [],
   "source": [
    "grouped = happiness2015.groupby('Region')[['Happiness Score', 'Family']]\n",
    "happy_family_stats = grouped.agg([np.min, np.max, np.mean])\n",
    "\n",
    "pv_happy_family_stats = happiness2015.pivot_table(values=['Happiness Score', 'Family'], \n",
    "                                                  index='Region', aggfunc=[np.min, np.max, np.mean], margins=True)"
   ]
  },
  {
   "cell_type": "code",
   "execution_count": 24,
   "metadata": {},
   "outputs": [
    {
     "data": {
      "text/html": [
       "<div>\n",
       "<style scoped>\n",
       "    .dataframe tbody tr th:only-of-type {\n",
       "        vertical-align: middle;\n",
       "    }\n",
       "\n",
       "    .dataframe tbody tr th {\n",
       "        vertical-align: top;\n",
       "    }\n",
       "\n",
       "    .dataframe thead tr th {\n",
       "        text-align: left;\n",
       "    }\n",
       "\n",
       "    .dataframe thead tr:last-of-type th {\n",
       "        text-align: right;\n",
       "    }\n",
       "</style>\n",
       "<table border=\"1\" class=\"dataframe\">\n",
       "  <thead>\n",
       "    <tr>\n",
       "      <th></th>\n",
       "      <th colspan=\"3\" halign=\"left\">Happiness Score</th>\n",
       "      <th colspan=\"3\" halign=\"left\">Family</th>\n",
       "    </tr>\n",
       "    <tr>\n",
       "      <th></th>\n",
       "      <th>amin</th>\n",
       "      <th>amax</th>\n",
       "      <th>mean</th>\n",
       "      <th>amin</th>\n",
       "      <th>amax</th>\n",
       "      <th>mean</th>\n",
       "    </tr>\n",
       "    <tr>\n",
       "      <th>Region</th>\n",
       "      <th></th>\n",
       "      <th></th>\n",
       "      <th></th>\n",
       "      <th></th>\n",
       "      <th></th>\n",
       "      <th></th>\n",
       "    </tr>\n",
       "  </thead>\n",
       "  <tbody>\n",
       "    <tr>\n",
       "      <td>Australia and New Zealand</td>\n",
       "      <td>7.284</td>\n",
       "      <td>7.286</td>\n",
       "      <td>7.285000</td>\n",
       "      <td>1.30923</td>\n",
       "      <td>1.31967</td>\n",
       "      <td>1.314450</td>\n",
       "    </tr>\n",
       "    <tr>\n",
       "      <td>Central and Eastern Europe</td>\n",
       "      <td>4.218</td>\n",
       "      <td>6.505</td>\n",
       "      <td>5.332931</td>\n",
       "      <td>0.38562</td>\n",
       "      <td>1.34043</td>\n",
       "      <td>1.053042</td>\n",
       "    </tr>\n",
       "    <tr>\n",
       "      <td>Eastern Asia</td>\n",
       "      <td>4.874</td>\n",
       "      <td>6.298</td>\n",
       "      <td>5.626167</td>\n",
       "      <td>0.94675</td>\n",
       "      <td>1.30060</td>\n",
       "      <td>1.099427</td>\n",
       "    </tr>\n",
       "    <tr>\n",
       "      <td>Latin America and Caribbean</td>\n",
       "      <td>4.518</td>\n",
       "      <td>7.226</td>\n",
       "      <td>6.144682</td>\n",
       "      <td>0.74302</td>\n",
       "      <td>1.30477</td>\n",
       "      <td>1.104720</td>\n",
       "    </tr>\n",
       "    <tr>\n",
       "      <td>Middle East and Northern Africa</td>\n",
       "      <td>3.006</td>\n",
       "      <td>7.278</td>\n",
       "      <td>5.406900</td>\n",
       "      <td>0.47489</td>\n",
       "      <td>1.22393</td>\n",
       "      <td>0.920490</td>\n",
       "    </tr>\n",
       "    <tr>\n",
       "      <td>North America</td>\n",
       "      <td>7.119</td>\n",
       "      <td>7.427</td>\n",
       "      <td>7.273000</td>\n",
       "      <td>1.24711</td>\n",
       "      <td>1.32261</td>\n",
       "      <td>1.284860</td>\n",
       "    </tr>\n",
       "    <tr>\n",
       "      <td>Southeastern Asia</td>\n",
       "      <td>3.819</td>\n",
       "      <td>6.798</td>\n",
       "      <td>5.317444</td>\n",
       "      <td>0.62736</td>\n",
       "      <td>1.26504</td>\n",
       "      <td>0.940468</td>\n",
       "    </tr>\n",
       "    <tr>\n",
       "      <td>Southern Asia</td>\n",
       "      <td>3.575</td>\n",
       "      <td>5.253</td>\n",
       "      <td>4.580857</td>\n",
       "      <td>0.30285</td>\n",
       "      <td>1.10395</td>\n",
       "      <td>0.645321</td>\n",
       "    </tr>\n",
       "    <tr>\n",
       "      <td>Sub-Saharan Africa</td>\n",
       "      <td>2.839</td>\n",
       "      <td>5.477</td>\n",
       "      <td>4.202800</td>\n",
       "      <td>0.00000</td>\n",
       "      <td>1.18468</td>\n",
       "      <td>0.809085</td>\n",
       "    </tr>\n",
       "    <tr>\n",
       "      <td>Western Europe</td>\n",
       "      <td>4.857</td>\n",
       "      <td>7.587</td>\n",
       "      <td>6.689619</td>\n",
       "      <td>0.89318</td>\n",
       "      <td>1.40223</td>\n",
       "      <td>1.247302</td>\n",
       "    </tr>\n",
       "  </tbody>\n",
       "</table>\n",
       "</div>"
      ],
      "text/plain": [
       "                                Happiness Score                    Family  \\\n",
       "                                           amin   amax      mean     amin   \n",
       "Region                                                                      \n",
       "Australia and New Zealand                 7.284  7.286  7.285000  1.30923   \n",
       "Central and Eastern Europe                4.218  6.505  5.332931  0.38562   \n",
       "Eastern Asia                              4.874  6.298  5.626167  0.94675   \n",
       "Latin America and Caribbean               4.518  7.226  6.144682  0.74302   \n",
       "Middle East and Northern Africa           3.006  7.278  5.406900  0.47489   \n",
       "North America                             7.119  7.427  7.273000  1.24711   \n",
       "Southeastern Asia                         3.819  6.798  5.317444  0.62736   \n",
       "Southern Asia                             3.575  5.253  4.580857  0.30285   \n",
       "Sub-Saharan Africa                        2.839  5.477  4.202800  0.00000   \n",
       "Western Europe                            4.857  7.587  6.689619  0.89318   \n",
       "\n",
       "                                                    \n",
       "                                    amax      mean  \n",
       "Region                                              \n",
       "Australia and New Zealand        1.31967  1.314450  \n",
       "Central and Eastern Europe       1.34043  1.053042  \n",
       "Eastern Asia                     1.30060  1.099427  \n",
       "Latin America and Caribbean      1.30477  1.104720  \n",
       "Middle East and Northern Africa  1.22393  0.920490  \n",
       "North America                    1.32261  1.284860  \n",
       "Southeastern Asia                1.26504  0.940468  \n",
       "Southern Asia                    1.10395  0.645321  \n",
       "Sub-Saharan Africa               1.18468  0.809085  \n",
       "Western Europe                   1.40223  1.247302  "
      ]
     },
     "execution_count": 24,
     "metadata": {},
     "output_type": "execute_result"
    }
   ],
   "source": [
    "happy_family_stats"
   ]
  },
  {
   "cell_type": "code",
   "execution_count": 25,
   "metadata": {},
   "outputs": [
    {
     "data": {
      "text/html": [
       "<div>\n",
       "<style scoped>\n",
       "    .dataframe tbody tr th:only-of-type {\n",
       "        vertical-align: middle;\n",
       "    }\n",
       "\n",
       "    .dataframe tbody tr th {\n",
       "        vertical-align: top;\n",
       "    }\n",
       "\n",
       "    .dataframe thead tr th {\n",
       "        text-align: left;\n",
       "    }\n",
       "\n",
       "    .dataframe thead tr:last-of-type th {\n",
       "        text-align: right;\n",
       "    }\n",
       "</style>\n",
       "<table border=\"1\" class=\"dataframe\">\n",
       "  <thead>\n",
       "    <tr>\n",
       "      <th></th>\n",
       "      <th colspan=\"2\" halign=\"left\">amin</th>\n",
       "      <th colspan=\"2\" halign=\"left\">amax</th>\n",
       "      <th colspan=\"2\" halign=\"left\">mean</th>\n",
       "    </tr>\n",
       "    <tr>\n",
       "      <th></th>\n",
       "      <th>Family</th>\n",
       "      <th>Happiness Score</th>\n",
       "      <th>Family</th>\n",
       "      <th>Happiness Score</th>\n",
       "      <th>Family</th>\n",
       "      <th>Happiness Score</th>\n",
       "    </tr>\n",
       "    <tr>\n",
       "      <th>Region</th>\n",
       "      <th></th>\n",
       "      <th></th>\n",
       "      <th></th>\n",
       "      <th></th>\n",
       "      <th></th>\n",
       "      <th></th>\n",
       "    </tr>\n",
       "  </thead>\n",
       "  <tbody>\n",
       "    <tr>\n",
       "      <td>Australia and New Zealand</td>\n",
       "      <td>1.30923</td>\n",
       "      <td>7.284</td>\n",
       "      <td>1.31967</td>\n",
       "      <td>7.286</td>\n",
       "      <td>1.314450</td>\n",
       "      <td>7.285000</td>\n",
       "    </tr>\n",
       "    <tr>\n",
       "      <td>Central and Eastern Europe</td>\n",
       "      <td>0.38562</td>\n",
       "      <td>4.218</td>\n",
       "      <td>1.34043</td>\n",
       "      <td>6.505</td>\n",
       "      <td>1.053042</td>\n",
       "      <td>5.332931</td>\n",
       "    </tr>\n",
       "    <tr>\n",
       "      <td>Eastern Asia</td>\n",
       "      <td>0.94675</td>\n",
       "      <td>4.874</td>\n",
       "      <td>1.30060</td>\n",
       "      <td>6.298</td>\n",
       "      <td>1.099427</td>\n",
       "      <td>5.626167</td>\n",
       "    </tr>\n",
       "    <tr>\n",
       "      <td>Latin America and Caribbean</td>\n",
       "      <td>0.74302</td>\n",
       "      <td>4.518</td>\n",
       "      <td>1.30477</td>\n",
       "      <td>7.226</td>\n",
       "      <td>1.104720</td>\n",
       "      <td>6.144682</td>\n",
       "    </tr>\n",
       "    <tr>\n",
       "      <td>Middle East and Northern Africa</td>\n",
       "      <td>0.47489</td>\n",
       "      <td>3.006</td>\n",
       "      <td>1.22393</td>\n",
       "      <td>7.278</td>\n",
       "      <td>0.920490</td>\n",
       "      <td>5.406900</td>\n",
       "    </tr>\n",
       "    <tr>\n",
       "      <td>North America</td>\n",
       "      <td>1.24711</td>\n",
       "      <td>7.119</td>\n",
       "      <td>1.32261</td>\n",
       "      <td>7.427</td>\n",
       "      <td>1.284860</td>\n",
       "      <td>7.273000</td>\n",
       "    </tr>\n",
       "    <tr>\n",
       "      <td>Southeastern Asia</td>\n",
       "      <td>0.62736</td>\n",
       "      <td>3.819</td>\n",
       "      <td>1.26504</td>\n",
       "      <td>6.798</td>\n",
       "      <td>0.940468</td>\n",
       "      <td>5.317444</td>\n",
       "    </tr>\n",
       "    <tr>\n",
       "      <td>Southern Asia</td>\n",
       "      <td>0.30285</td>\n",
       "      <td>3.575</td>\n",
       "      <td>1.10395</td>\n",
       "      <td>5.253</td>\n",
       "      <td>0.645321</td>\n",
       "      <td>4.580857</td>\n",
       "    </tr>\n",
       "    <tr>\n",
       "      <td>Sub-Saharan Africa</td>\n",
       "      <td>0.00000</td>\n",
       "      <td>2.839</td>\n",
       "      <td>1.18468</td>\n",
       "      <td>5.477</td>\n",
       "      <td>0.809085</td>\n",
       "      <td>4.202800</td>\n",
       "    </tr>\n",
       "    <tr>\n",
       "      <td>Western Europe</td>\n",
       "      <td>0.89318</td>\n",
       "      <td>4.857</td>\n",
       "      <td>1.40223</td>\n",
       "      <td>7.587</td>\n",
       "      <td>1.247302</td>\n",
       "      <td>6.689619</td>\n",
       "    </tr>\n",
       "    <tr>\n",
       "      <td>All</td>\n",
       "      <td>0.00000</td>\n",
       "      <td>2.839</td>\n",
       "      <td>1.40223</td>\n",
       "      <td>7.587</td>\n",
       "      <td>0.991046</td>\n",
       "      <td>5.375734</td>\n",
       "    </tr>\n",
       "  </tbody>\n",
       "</table>\n",
       "</div>"
      ],
      "text/plain": [
       "                                    amin                     amax  \\\n",
       "                                  Family Happiness Score   Family   \n",
       "Region                                                              \n",
       "Australia and New Zealand        1.30923           7.284  1.31967   \n",
       "Central and Eastern Europe       0.38562           4.218  1.34043   \n",
       "Eastern Asia                     0.94675           4.874  1.30060   \n",
       "Latin America and Caribbean      0.74302           4.518  1.30477   \n",
       "Middle East and Northern Africa  0.47489           3.006  1.22393   \n",
       "North America                    1.24711           7.119  1.32261   \n",
       "Southeastern Asia                0.62736           3.819  1.26504   \n",
       "Southern Asia                    0.30285           3.575  1.10395   \n",
       "Sub-Saharan Africa               0.00000           2.839  1.18468   \n",
       "Western Europe                   0.89318           4.857  1.40223   \n",
       "All                              0.00000           2.839  1.40223   \n",
       "\n",
       "                                                     mean                  \n",
       "                                Happiness Score    Family Happiness Score  \n",
       "Region                                                                     \n",
       "Australia and New Zealand                 7.286  1.314450        7.285000  \n",
       "Central and Eastern Europe                6.505  1.053042        5.332931  \n",
       "Eastern Asia                              6.298  1.099427        5.626167  \n",
       "Latin America and Caribbean               7.226  1.104720        6.144682  \n",
       "Middle East and Northern Africa           7.278  0.920490        5.406900  \n",
       "North America                             7.427  1.284860        7.273000  \n",
       "Southeastern Asia                         6.798  0.940468        5.317444  \n",
       "Southern Asia                             5.253  0.645321        4.580857  \n",
       "Sub-Saharan Africa                        5.477  0.809085        4.202800  \n",
       "Western Europe                            7.587  1.247302        6.689619  \n",
       "All                                       7.587  0.991046        5.375734  "
      ]
     },
     "execution_count": 25,
     "metadata": {},
     "output_type": "execute_result"
    }
   ],
   "source": [
    "pv_happy_family_stats"
   ]
  },
  {
   "cell_type": "markdown",
   "metadata": {},
   "source": [
    "# 2.4.2 Combining Data with Pandas"
   ]
  },
  {
   "cell_type": "markdown",
   "metadata": {},
   "source": [
    "以上只同时处理一个数据集，但是在实际中经常同时处理多个，本任务将学习如何用pandas合并数据"
   ]
  },
  {
   "cell_type": "markdown",
   "metadata": {},
   "source": [
    "我们将使用在上一个任务中获得的知识来分析2015年，2016年和2017年的 World Happiness Reports. 具体来说，我们将寻求回答以下问题：\n",
    "\n",
    "*从2015年到2017年，世界幸福感是增加，减少还是保持不变？*"
   ]
  },
  {
   "cell_type": "code",
   "execution_count": 26,
   "metadata": {},
   "outputs": [],
   "source": [
    "import pandas as pd\n",
    "happiness2015 = pd.read_csv(\"World_Happiness_2015.csv\")\n",
    "happiness2016 = pd.read_csv(\"World_Happiness_2016.csv\")\n",
    "happiness2017 = pd.read_csv(\"World_Happiness_2017.csv\")\n",
    "\n",
    "happiness2015['Year'] = 2015\n",
    "happiness2016['Year'] = 2016\n",
    "happiness2017['Year'] = 2017"
   ]
  },
  {
   "cell_type": "markdown",
   "metadata": {},
   "source": [
    "- ### Combining Dataframes with the Concat Function"
   ]
  },
  {
   "cell_type": "markdown",
   "metadata": {},
   "source": [
    "使用[pd.concat()](https://pandas.pydata.org/pandas-docs/stable/reference/api/pandas.concat.html)合并数据，有两种方式：\n",
    "\n",
    "1. 竖着合并，`Axis` = `0` (默认）:\n",
    "![Concat_Updated](Concat_Updated.svg)\n",
    "\n",
    "2. 横着并排合并， `Axis` = `1`:\n",
    "![Concat_Axis1](Concat_Axis1.svg)"
   ]
  },
  {
   "cell_type": "code",
   "execution_count": 27,
   "metadata": {},
   "outputs": [
    {
     "data": {
      "text/html": [
       "<div>\n",
       "<style scoped>\n",
       "    .dataframe tbody tr th:only-of-type {\n",
       "        vertical-align: middle;\n",
       "    }\n",
       "\n",
       "    .dataframe tbody tr th {\n",
       "        vertical-align: top;\n",
       "    }\n",
       "\n",
       "    .dataframe thead th {\n",
       "        text-align: right;\n",
       "    }\n",
       "</style>\n",
       "<table border=\"1\" class=\"dataframe\">\n",
       "  <thead>\n",
       "    <tr style=\"text-align: right;\">\n",
       "      <th></th>\n",
       "      <th>Country</th>\n",
       "      <th>Happiness Score</th>\n",
       "      <th>Year</th>\n",
       "    </tr>\n",
       "  </thead>\n",
       "  <tbody>\n",
       "    <tr>\n",
       "      <td>0</td>\n",
       "      <td>Switzerland</td>\n",
       "      <td>7.587</td>\n",
       "      <td>2015</td>\n",
       "    </tr>\n",
       "    <tr>\n",
       "      <td>1</td>\n",
       "      <td>Iceland</td>\n",
       "      <td>7.561</td>\n",
       "      <td>2015</td>\n",
       "    </tr>\n",
       "    <tr>\n",
       "      <td>2</td>\n",
       "      <td>Denmark</td>\n",
       "      <td>7.527</td>\n",
       "      <td>2015</td>\n",
       "    </tr>\n",
       "    <tr>\n",
       "      <td>0</td>\n",
       "      <td>Denmark</td>\n",
       "      <td>7.526</td>\n",
       "      <td>2016</td>\n",
       "    </tr>\n",
       "    <tr>\n",
       "      <td>1</td>\n",
       "      <td>Switzerland</td>\n",
       "      <td>7.509</td>\n",
       "      <td>2016</td>\n",
       "    </tr>\n",
       "    <tr>\n",
       "      <td>2</td>\n",
       "      <td>Iceland</td>\n",
       "      <td>7.501</td>\n",
       "      <td>2016</td>\n",
       "    </tr>\n",
       "  </tbody>\n",
       "</table>\n",
       "</div>"
      ],
      "text/plain": [
       "       Country  Happiness Score  Year\n",
       "0  Switzerland            7.587  2015\n",
       "1      Iceland            7.561  2015\n",
       "2      Denmark            7.527  2015\n",
       "0      Denmark            7.526  2016\n",
       "1  Switzerland            7.509  2016\n",
       "2      Iceland            7.501  2016"
      ]
     },
     "execution_count": 27,
     "metadata": {},
     "output_type": "execute_result"
    }
   ],
   "source": [
    "head_2015 = happiness2015[['Country','Happiness Score', 'Year']].head(3)\n",
    "head_2016 = happiness2016[['Country','Happiness Score', 'Year']].head(3)\n",
    "concat_axis0 = pd.concat([head_2015, head_2016])\n",
    "concat_axis1 = pd.concat([head_2015, head_2016], axis=1)\n",
    "\n",
    "concat_axis0"
   ]
  },
  {
   "cell_type": "code",
   "execution_count": 28,
   "metadata": {},
   "outputs": [
    {
     "data": {
      "text/html": [
       "<div>\n",
       "<style scoped>\n",
       "    .dataframe tbody tr th:only-of-type {\n",
       "        vertical-align: middle;\n",
       "    }\n",
       "\n",
       "    .dataframe tbody tr th {\n",
       "        vertical-align: top;\n",
       "    }\n",
       "\n",
       "    .dataframe thead th {\n",
       "        text-align: right;\n",
       "    }\n",
       "</style>\n",
       "<table border=\"1\" class=\"dataframe\">\n",
       "  <thead>\n",
       "    <tr style=\"text-align: right;\">\n",
       "      <th></th>\n",
       "      <th>Country</th>\n",
       "      <th>Happiness Score</th>\n",
       "      <th>Year</th>\n",
       "      <th>Country</th>\n",
       "      <th>Happiness Score</th>\n",
       "      <th>Year</th>\n",
       "    </tr>\n",
       "  </thead>\n",
       "  <tbody>\n",
       "    <tr>\n",
       "      <td>0</td>\n",
       "      <td>Switzerland</td>\n",
       "      <td>7.587</td>\n",
       "      <td>2015</td>\n",
       "      <td>Denmark</td>\n",
       "      <td>7.526</td>\n",
       "      <td>2016</td>\n",
       "    </tr>\n",
       "    <tr>\n",
       "      <td>1</td>\n",
       "      <td>Iceland</td>\n",
       "      <td>7.561</td>\n",
       "      <td>2015</td>\n",
       "      <td>Switzerland</td>\n",
       "      <td>7.509</td>\n",
       "      <td>2016</td>\n",
       "    </tr>\n",
       "    <tr>\n",
       "      <td>2</td>\n",
       "      <td>Denmark</td>\n",
       "      <td>7.527</td>\n",
       "      <td>2015</td>\n",
       "      <td>Iceland</td>\n",
       "      <td>7.501</td>\n",
       "      <td>2016</td>\n",
       "    </tr>\n",
       "  </tbody>\n",
       "</table>\n",
       "</div>"
      ],
      "text/plain": [
       "       Country  Happiness Score  Year      Country  Happiness Score  Year\n",
       "0  Switzerland            7.587  2015      Denmark            7.526  2016\n",
       "1      Iceland            7.561  2015  Switzerland            7.509  2016\n",
       "2      Denmark            7.527  2015      Iceland            7.501  2016"
      ]
     },
     "execution_count": 28,
     "metadata": {},
     "output_type": "execute_result"
    }
   ],
   "source": [
    "concat_axis1"
   ]
  },
  {
   "cell_type": "markdown",
   "metadata": {},
   "source": [
    "以上合并的数据有相同shape和index\n",
    "\n",
    "当数据的shape和index不同时："
   ]
  },
  {
   "cell_type": "code",
   "execution_count": 29,
   "metadata": {},
   "outputs": [
    {
     "name": "stderr",
     "output_type": "stream",
     "text": [
      "/opt/anaconda3/lib/python3.7/site-packages/ipykernel_launcher.py:4: FutureWarning: Sorting because non-concatenation axis is not aligned. A future version\n",
      "of pandas will change to not sort by default.\n",
      "\n",
      "To accept the future behavior, pass 'sort=False'.\n",
      "\n",
      "To retain the current behavior and silence the warning, pass 'sort=True'.\n",
      "\n",
      "  after removing the cwd from sys.path.\n"
     ]
    }
   ],
   "source": [
    "head_2015 = happiness2015[['Year','Country','Happiness Score', 'Standard Error']].head(4)\n",
    "head_2016 = happiness2016[['Country','Happiness Score', 'Year']].head(3)\n",
    "\n",
    "concat_axis0 = pd.concat([head_2015, head_2016], axis=0)\n",
    "concat_axis1 = pd.concat([head_2015, head_2016], axis=1)"
   ]
  },
  {
   "cell_type": "code",
   "execution_count": 30,
   "metadata": {},
   "outputs": [
    {
     "data": {
      "text/html": [
       "<div>\n",
       "<style scoped>\n",
       "    .dataframe tbody tr th:only-of-type {\n",
       "        vertical-align: middle;\n",
       "    }\n",
       "\n",
       "    .dataframe tbody tr th {\n",
       "        vertical-align: top;\n",
       "    }\n",
       "\n",
       "    .dataframe thead th {\n",
       "        text-align: right;\n",
       "    }\n",
       "</style>\n",
       "<table border=\"1\" class=\"dataframe\">\n",
       "  <thead>\n",
       "    <tr style=\"text-align: right;\">\n",
       "      <th></th>\n",
       "      <th>Country</th>\n",
       "      <th>Happiness Score</th>\n",
       "      <th>Standard Error</th>\n",
       "      <th>Year</th>\n",
       "    </tr>\n",
       "  </thead>\n",
       "  <tbody>\n",
       "    <tr>\n",
       "      <td>0</td>\n",
       "      <td>Switzerland</td>\n",
       "      <td>7.587</td>\n",
       "      <td>0.03411</td>\n",
       "      <td>2015</td>\n",
       "    </tr>\n",
       "    <tr>\n",
       "      <td>1</td>\n",
       "      <td>Iceland</td>\n",
       "      <td>7.561</td>\n",
       "      <td>0.04884</td>\n",
       "      <td>2015</td>\n",
       "    </tr>\n",
       "    <tr>\n",
       "      <td>2</td>\n",
       "      <td>Denmark</td>\n",
       "      <td>7.527</td>\n",
       "      <td>0.03328</td>\n",
       "      <td>2015</td>\n",
       "    </tr>\n",
       "    <tr>\n",
       "      <td>3</td>\n",
       "      <td>Norway</td>\n",
       "      <td>7.522</td>\n",
       "      <td>0.03880</td>\n",
       "      <td>2015</td>\n",
       "    </tr>\n",
       "    <tr>\n",
       "      <td>0</td>\n",
       "      <td>Denmark</td>\n",
       "      <td>7.526</td>\n",
       "      <td>NaN</td>\n",
       "      <td>2016</td>\n",
       "    </tr>\n",
       "    <tr>\n",
       "      <td>1</td>\n",
       "      <td>Switzerland</td>\n",
       "      <td>7.509</td>\n",
       "      <td>NaN</td>\n",
       "      <td>2016</td>\n",
       "    </tr>\n",
       "    <tr>\n",
       "      <td>2</td>\n",
       "      <td>Iceland</td>\n",
       "      <td>7.501</td>\n",
       "      <td>NaN</td>\n",
       "      <td>2016</td>\n",
       "    </tr>\n",
       "  </tbody>\n",
       "</table>\n",
       "</div>"
      ],
      "text/plain": [
       "       Country  Happiness Score  Standard Error  Year\n",
       "0  Switzerland            7.587         0.03411  2015\n",
       "1      Iceland            7.561         0.04884  2015\n",
       "2      Denmark            7.527         0.03328  2015\n",
       "3       Norway            7.522         0.03880  2015\n",
       "0      Denmark            7.526             NaN  2016\n",
       "1  Switzerland            7.509             NaN  2016\n",
       "2      Iceland            7.501             NaN  2016"
      ]
     },
     "execution_count": 30,
     "metadata": {},
     "output_type": "execute_result"
    }
   ],
   "source": [
    "concat_axis0"
   ]
  },
  {
   "cell_type": "code",
   "execution_count": 31,
   "metadata": {},
   "outputs": [
    {
     "data": {
      "text/html": [
       "<div>\n",
       "<style scoped>\n",
       "    .dataframe tbody tr th:only-of-type {\n",
       "        vertical-align: middle;\n",
       "    }\n",
       "\n",
       "    .dataframe tbody tr th {\n",
       "        vertical-align: top;\n",
       "    }\n",
       "\n",
       "    .dataframe thead th {\n",
       "        text-align: right;\n",
       "    }\n",
       "</style>\n",
       "<table border=\"1\" class=\"dataframe\">\n",
       "  <thead>\n",
       "    <tr style=\"text-align: right;\">\n",
       "      <th></th>\n",
       "      <th>Year</th>\n",
       "      <th>Country</th>\n",
       "      <th>Happiness Score</th>\n",
       "      <th>Standard Error</th>\n",
       "      <th>Country</th>\n",
       "      <th>Happiness Score</th>\n",
       "      <th>Year</th>\n",
       "    </tr>\n",
       "  </thead>\n",
       "  <tbody>\n",
       "    <tr>\n",
       "      <td>0</td>\n",
       "      <td>2015</td>\n",
       "      <td>Switzerland</td>\n",
       "      <td>7.587</td>\n",
       "      <td>0.03411</td>\n",
       "      <td>Denmark</td>\n",
       "      <td>7.526</td>\n",
       "      <td>2016.0</td>\n",
       "    </tr>\n",
       "    <tr>\n",
       "      <td>1</td>\n",
       "      <td>2015</td>\n",
       "      <td>Iceland</td>\n",
       "      <td>7.561</td>\n",
       "      <td>0.04884</td>\n",
       "      <td>Switzerland</td>\n",
       "      <td>7.509</td>\n",
       "      <td>2016.0</td>\n",
       "    </tr>\n",
       "    <tr>\n",
       "      <td>2</td>\n",
       "      <td>2015</td>\n",
       "      <td>Denmark</td>\n",
       "      <td>7.527</td>\n",
       "      <td>0.03328</td>\n",
       "      <td>Iceland</td>\n",
       "      <td>7.501</td>\n",
       "      <td>2016.0</td>\n",
       "    </tr>\n",
       "    <tr>\n",
       "      <td>3</td>\n",
       "      <td>2015</td>\n",
       "      <td>Norway</td>\n",
       "      <td>7.522</td>\n",
       "      <td>0.03880</td>\n",
       "      <td>NaN</td>\n",
       "      <td>NaN</td>\n",
       "      <td>NaN</td>\n",
       "    </tr>\n",
       "  </tbody>\n",
       "</table>\n",
       "</div>"
      ],
      "text/plain": [
       "   Year      Country  Happiness Score  Standard Error      Country  \\\n",
       "0  2015  Switzerland            7.587         0.03411      Denmark   \n",
       "1  2015      Iceland            7.561         0.04884  Switzerland   \n",
       "2  2015      Denmark            7.527         0.03328      Iceland   \n",
       "3  2015       Norway            7.522         0.03880          NaN   \n",
       "\n",
       "   Happiness Score    Year  \n",
       "0            7.526  2016.0  \n",
       "1            7.509  2016.0  \n",
       "2            7.501  2016.0  \n",
       "3              NaN     NaN  "
      ]
     },
     "execution_count": 31,
     "metadata": {},
     "output_type": "execute_result"
    }
   ],
   "source": [
    "concat_axis1"
   ]
  },
  {
   "cell_type": "markdown",
   "metadata": {},
   "source": [
    "再次注意原始dataframes的 indexes 没有改变. 如果 indexes 没有特别意义，最好重新设置它们.\n",
    "\n",
    "使用`ignore_index`参数重设index"
   ]
  },
  {
   "cell_type": "code",
   "execution_count": 32,
   "metadata": {},
   "outputs": [
    {
     "name": "stderr",
     "output_type": "stream",
     "text": [
      "/opt/anaconda3/lib/python3.7/site-packages/ipykernel_launcher.py:1: FutureWarning: Sorting because non-concatenation axis is not aligned. A future version\n",
      "of pandas will change to not sort by default.\n",
      "\n",
      "To accept the future behavior, pass 'sort=False'.\n",
      "\n",
      "To retain the current behavior and silence the warning, pass 'sort=True'.\n",
      "\n",
      "  \"\"\"Entry point for launching an IPython kernel.\n"
     ]
    }
   ],
   "source": [
    "concat_update_index = pd.concat([head_2015,head_2016], ignore_index=True)"
   ]
  },
  {
   "cell_type": "code",
   "execution_count": 33,
   "metadata": {},
   "outputs": [
    {
     "data": {
      "text/html": [
       "<div>\n",
       "<style scoped>\n",
       "    .dataframe tbody tr th:only-of-type {\n",
       "        vertical-align: middle;\n",
       "    }\n",
       "\n",
       "    .dataframe tbody tr th {\n",
       "        vertical-align: top;\n",
       "    }\n",
       "\n",
       "    .dataframe thead th {\n",
       "        text-align: right;\n",
       "    }\n",
       "</style>\n",
       "<table border=\"1\" class=\"dataframe\">\n",
       "  <thead>\n",
       "    <tr style=\"text-align: right;\">\n",
       "      <th></th>\n",
       "      <th>Country</th>\n",
       "      <th>Happiness Score</th>\n",
       "      <th>Standard Error</th>\n",
       "      <th>Year</th>\n",
       "    </tr>\n",
       "  </thead>\n",
       "  <tbody>\n",
       "    <tr>\n",
       "      <td>0</td>\n",
       "      <td>Switzerland</td>\n",
       "      <td>7.587</td>\n",
       "      <td>0.03411</td>\n",
       "      <td>2015</td>\n",
       "    </tr>\n",
       "    <tr>\n",
       "      <td>1</td>\n",
       "      <td>Iceland</td>\n",
       "      <td>7.561</td>\n",
       "      <td>0.04884</td>\n",
       "      <td>2015</td>\n",
       "    </tr>\n",
       "    <tr>\n",
       "      <td>2</td>\n",
       "      <td>Denmark</td>\n",
       "      <td>7.527</td>\n",
       "      <td>0.03328</td>\n",
       "      <td>2015</td>\n",
       "    </tr>\n",
       "    <tr>\n",
       "      <td>3</td>\n",
       "      <td>Norway</td>\n",
       "      <td>7.522</td>\n",
       "      <td>0.03880</td>\n",
       "      <td>2015</td>\n",
       "    </tr>\n",
       "    <tr>\n",
       "      <td>4</td>\n",
       "      <td>Denmark</td>\n",
       "      <td>7.526</td>\n",
       "      <td>NaN</td>\n",
       "      <td>2016</td>\n",
       "    </tr>\n",
       "    <tr>\n",
       "      <td>5</td>\n",
       "      <td>Switzerland</td>\n",
       "      <td>7.509</td>\n",
       "      <td>NaN</td>\n",
       "      <td>2016</td>\n",
       "    </tr>\n",
       "    <tr>\n",
       "      <td>6</td>\n",
       "      <td>Iceland</td>\n",
       "      <td>7.501</td>\n",
       "      <td>NaN</td>\n",
       "      <td>2016</td>\n",
       "    </tr>\n",
       "  </tbody>\n",
       "</table>\n",
       "</div>"
      ],
      "text/plain": [
       "       Country  Happiness Score  Standard Error  Year\n",
       "0  Switzerland            7.587         0.03411  2015\n",
       "1      Iceland            7.561         0.04884  2015\n",
       "2      Denmark            7.527         0.03328  2015\n",
       "3       Norway            7.522         0.03880  2015\n",
       "4      Denmark            7.526             NaN  2016\n",
       "5  Switzerland            7.509             NaN  2016\n",
       "6      Iceland            7.501             NaN  2016"
      ]
     },
     "execution_count": 33,
     "metadata": {},
     "output_type": "execute_result"
    }
   ],
   "source": [
    "concat_update_index"
   ]
  },
  {
   "cell_type": "markdown",
   "metadata": {},
   "source": [
    "- ### Joining Dataframes with the Merge Function"
   ]
  },
  {
   "cell_type": "markdown",
   "metadata": {},
   "source": [
    "`pd.concat()`是“粗暴地”把两个或多个表合并在一起，若想要像在数据库中一样**连接**两个数据集，需要用到[pd.merge()](https://pandas.pydata.org/pandas-docs/stable/reference/api/pandas.merge.html)函数\n",
    "\n",
    "`pd.merge()`**只能水平**地合并数据（axis=`1`）\n",
    "\n",
    "`pd.merge()`一次只能合并两个数据集，它合并两个数据集 on a **key**（一个列，类似主键）\n",
    "\n",
    "key是两个数据集之间的联系，既可以是common values，也可以是index。以下用`Country`列的common values连接两个数据集：\n",
    "\n",
    "![Merge_link](Merge_link.svg)\n",
    "\n",
    "![Merge](Merge.svg)\n",
    "\n",
    "其语法如下：\n",
    "\n",
    "![Merge_syntax](Merge_syntax.svg)"
   ]
  },
  {
   "cell_type": "code",
   "execution_count": 34,
   "metadata": {},
   "outputs": [
    {
     "data": {
      "text/html": [
       "<div>\n",
       "<style scoped>\n",
       "    .dataframe tbody tr th:only-of-type {\n",
       "        vertical-align: middle;\n",
       "    }\n",
       "\n",
       "    .dataframe tbody tr th {\n",
       "        vertical-align: top;\n",
       "    }\n",
       "\n",
       "    .dataframe thead th {\n",
       "        text-align: right;\n",
       "    }\n",
       "</style>\n",
       "<table border=\"1\" class=\"dataframe\">\n",
       "  <thead>\n",
       "    <tr style=\"text-align: right;\">\n",
       "      <th></th>\n",
       "      <th>Country</th>\n",
       "      <th>Happiness Rank_x</th>\n",
       "      <th>Year_x</th>\n",
       "      <th>Happiness Rank_y</th>\n",
       "      <th>Year_y</th>\n",
       "    </tr>\n",
       "  </thead>\n",
       "  <tbody>\n",
       "    <tr>\n",
       "      <td>0</td>\n",
       "      <td>Norway</td>\n",
       "      <td>4</td>\n",
       "      <td>2015</td>\n",
       "      <td>4</td>\n",
       "      <td>2016</td>\n",
       "    </tr>\n",
       "  </tbody>\n",
       "</table>\n",
       "</div>"
      ],
      "text/plain": [
       "  Country  Happiness Rank_x  Year_x  Happiness Rank_y  Year_y\n",
       "0  Norway                 4    2015                 4    2016"
      ]
     },
     "execution_count": 34,
     "metadata": {},
     "output_type": "execute_result"
    }
   ],
   "source": [
    "three_2015 = happiness2015[['Country','Happiness Rank','Year']].iloc[2:5]\n",
    "three_2016 = happiness2016[['Country','Happiness Rank','Year']].iloc[2:5]\n",
    "\n",
    "merged = pd.merge(left=three_2015, right=three_2016, on='Country')\n",
    "merged"
   ]
  },
  {
   "cell_type": "markdown",
   "metadata": {},
   "source": [
    "以上只返回了key的**交集**，这种连接/组合方法被称为 ***inner* join** (内连接)\n",
    "\n",
    "和SQL中的概念一样，有四种连接方式：\n",
    "\n",
    "1. **Inner**: only includes elements that appear in both dataframes with a common key\n",
    "2. **Outer**: includes all data from both dataframes\n",
    "3. **Left**: includes all of the rows from the \"left\" dataframe along with any rows from the \"right\" dataframe with a common key; the result retains all columns from both of the original dataframes\n",
    "4. **Right**: includes all of the rows from the \"right\" dataframe along with any rows from the \"left\" dataframe with a common key; the result retains all columns from both of the original dataframes"
   ]
  },
  {
   "cell_type": "markdown",
   "metadata": {},
   "source": [
    "`pd.concat()`实现的连接就是outer join"
   ]
  },
  {
   "cell_type": "markdown",
   "metadata": {},
   "source": [
    "使用参数`how`设置连接的形式："
   ]
  },
  {
   "cell_type": "code",
   "execution_count": 35,
   "metadata": {},
   "outputs": [],
   "source": [
    "merged_left = pd.merge(left=three_2015, right=three_2016, on='Country', how='left')\n",
    "\n",
    "merged_left_updated = pd.merge(left=three_2016, right=three_2015, on='Country', how='left')"
   ]
  },
  {
   "cell_type": "markdown",
   "metadata": {},
   "source": [
    "都使用左连接，调换左右数据集，对比："
   ]
  },
  {
   "cell_type": "code",
   "execution_count": 36,
   "metadata": {},
   "outputs": [
    {
     "data": {
      "text/html": [
       "<div>\n",
       "<style scoped>\n",
       "    .dataframe tbody tr th:only-of-type {\n",
       "        vertical-align: middle;\n",
       "    }\n",
       "\n",
       "    .dataframe tbody tr th {\n",
       "        vertical-align: top;\n",
       "    }\n",
       "\n",
       "    .dataframe thead th {\n",
       "        text-align: right;\n",
       "    }\n",
       "</style>\n",
       "<table border=\"1\" class=\"dataframe\">\n",
       "  <thead>\n",
       "    <tr style=\"text-align: right;\">\n",
       "      <th></th>\n",
       "      <th>Country</th>\n",
       "      <th>Happiness Rank_x</th>\n",
       "      <th>Year_x</th>\n",
       "      <th>Happiness Rank_y</th>\n",
       "      <th>Year_y</th>\n",
       "    </tr>\n",
       "  </thead>\n",
       "  <tbody>\n",
       "    <tr>\n",
       "      <td>0</td>\n",
       "      <td>Denmark</td>\n",
       "      <td>3</td>\n",
       "      <td>2015</td>\n",
       "      <td>NaN</td>\n",
       "      <td>NaN</td>\n",
       "    </tr>\n",
       "    <tr>\n",
       "      <td>1</td>\n",
       "      <td>Norway</td>\n",
       "      <td>4</td>\n",
       "      <td>2015</td>\n",
       "      <td>4.0</td>\n",
       "      <td>2016.0</td>\n",
       "    </tr>\n",
       "    <tr>\n",
       "      <td>2</td>\n",
       "      <td>Canada</td>\n",
       "      <td>5</td>\n",
       "      <td>2015</td>\n",
       "      <td>NaN</td>\n",
       "      <td>NaN</td>\n",
       "    </tr>\n",
       "  </tbody>\n",
       "</table>\n",
       "</div>"
      ],
      "text/plain": [
       "   Country  Happiness Rank_x  Year_x  Happiness Rank_y  Year_y\n",
       "0  Denmark                 3    2015               NaN     NaN\n",
       "1   Norway                 4    2015               4.0  2016.0\n",
       "2   Canada                 5    2015               NaN     NaN"
      ]
     },
     "execution_count": 36,
     "metadata": {},
     "output_type": "execute_result"
    }
   ],
   "source": [
    "merged_left"
   ]
  },
  {
   "cell_type": "code",
   "execution_count": 37,
   "metadata": {},
   "outputs": [
    {
     "data": {
      "text/html": [
       "<div>\n",
       "<style scoped>\n",
       "    .dataframe tbody tr th:only-of-type {\n",
       "        vertical-align: middle;\n",
       "    }\n",
       "\n",
       "    .dataframe tbody tr th {\n",
       "        vertical-align: top;\n",
       "    }\n",
       "\n",
       "    .dataframe thead th {\n",
       "        text-align: right;\n",
       "    }\n",
       "</style>\n",
       "<table border=\"1\" class=\"dataframe\">\n",
       "  <thead>\n",
       "    <tr style=\"text-align: right;\">\n",
       "      <th></th>\n",
       "      <th>Country</th>\n",
       "      <th>Happiness Rank_x</th>\n",
       "      <th>Year_x</th>\n",
       "      <th>Happiness Rank_y</th>\n",
       "      <th>Year_y</th>\n",
       "    </tr>\n",
       "  </thead>\n",
       "  <tbody>\n",
       "    <tr>\n",
       "      <td>0</td>\n",
       "      <td>Iceland</td>\n",
       "      <td>3</td>\n",
       "      <td>2016</td>\n",
       "      <td>NaN</td>\n",
       "      <td>NaN</td>\n",
       "    </tr>\n",
       "    <tr>\n",
       "      <td>1</td>\n",
       "      <td>Norway</td>\n",
       "      <td>4</td>\n",
       "      <td>2016</td>\n",
       "      <td>4.0</td>\n",
       "      <td>2015.0</td>\n",
       "    </tr>\n",
       "    <tr>\n",
       "      <td>2</td>\n",
       "      <td>Finland</td>\n",
       "      <td>5</td>\n",
       "      <td>2016</td>\n",
       "      <td>NaN</td>\n",
       "      <td>NaN</td>\n",
       "    </tr>\n",
       "  </tbody>\n",
       "</table>\n",
       "</div>"
      ],
      "text/plain": [
       "   Country  Happiness Rank_x  Year_x  Happiness Rank_y  Year_y\n",
       "0  Iceland                 3    2016               NaN     NaN\n",
       "1   Norway                 4    2016               4.0  2015.0\n",
       "2  Finland                 5    2016               NaN     NaN"
      ]
     },
     "execution_count": 37,
     "metadata": {},
     "output_type": "execute_result"
    }
   ],
   "source": [
    "merged_left_updated"
   ]
  },
  {
   "cell_type": "markdown",
   "metadata": {},
   "source": [
    "A left join includes all of the rows from the \"left\" dataframe along with any rows from the \"right\" dataframe with a common key.\n",
    "\n",
    "In summary, we'd use a left join when we don't want to drop any data from the left dataframe.\n"
   ]
  },
  {
   "cell_type": "markdown",
   "metadata": {},
   "source": [
    "此外，`merge()` 函数还为列添加了 suffixes（后缀）`_x`, `_y`以便区分，\n",
    "\n",
    "若想自定义后缀，可使用`suffixes`参数，其接受一个长度为2的list-like值，按顺序给left和right添加后缀，默认为`_x`, `_y`："
   ]
  },
  {
   "cell_type": "code",
   "execution_count": 38,
   "metadata": {},
   "outputs": [],
   "source": [
    "three_2015 = happiness2015[['Country','Happiness Rank','Year']].iloc[2:5]\n",
    "three_2016 = happiness2016[['Country','Happiness Rank','Year']].iloc[2:5]\n",
    "            \n",
    "merged_suffixes = pd.merge(left=three_2015, right=three_2016, how='left', \n",
    "                           on='Country', suffixes=('_2015','_2016'))\n",
    "\n",
    "merged_updated_suffixes = pd.merge(left=three_2016, right=three_2015, how='left', \n",
    "                                   on='Country', suffixes=['_2016','_2015'])                         "
   ]
  },
  {
   "cell_type": "code",
   "execution_count": 39,
   "metadata": {},
   "outputs": [
    {
     "data": {
      "text/html": [
       "<div>\n",
       "<style scoped>\n",
       "    .dataframe tbody tr th:only-of-type {\n",
       "        vertical-align: middle;\n",
       "    }\n",
       "\n",
       "    .dataframe tbody tr th {\n",
       "        vertical-align: top;\n",
       "    }\n",
       "\n",
       "    .dataframe thead th {\n",
       "        text-align: right;\n",
       "    }\n",
       "</style>\n",
       "<table border=\"1\" class=\"dataframe\">\n",
       "  <thead>\n",
       "    <tr style=\"text-align: right;\">\n",
       "      <th></th>\n",
       "      <th>Country</th>\n",
       "      <th>Happiness Rank_2015</th>\n",
       "      <th>Year_2015</th>\n",
       "      <th>Happiness Rank_2016</th>\n",
       "      <th>Year_2016</th>\n",
       "    </tr>\n",
       "  </thead>\n",
       "  <tbody>\n",
       "    <tr>\n",
       "      <td>0</td>\n",
       "      <td>Denmark</td>\n",
       "      <td>3</td>\n",
       "      <td>2015</td>\n",
       "      <td>NaN</td>\n",
       "      <td>NaN</td>\n",
       "    </tr>\n",
       "    <tr>\n",
       "      <td>1</td>\n",
       "      <td>Norway</td>\n",
       "      <td>4</td>\n",
       "      <td>2015</td>\n",
       "      <td>4.0</td>\n",
       "      <td>2016.0</td>\n",
       "    </tr>\n",
       "    <tr>\n",
       "      <td>2</td>\n",
       "      <td>Canada</td>\n",
       "      <td>5</td>\n",
       "      <td>2015</td>\n",
       "      <td>NaN</td>\n",
       "      <td>NaN</td>\n",
       "    </tr>\n",
       "  </tbody>\n",
       "</table>\n",
       "</div>"
      ],
      "text/plain": [
       "   Country  Happiness Rank_2015  Year_2015  Happiness Rank_2016  Year_2016\n",
       "0  Denmark                    3       2015                  NaN        NaN\n",
       "1   Norway                    4       2015                  4.0     2016.0\n",
       "2   Canada                    5       2015                  NaN        NaN"
      ]
     },
     "execution_count": 39,
     "metadata": {},
     "output_type": "execute_result"
    }
   ],
   "source": [
    "merged_suffixes"
   ]
  },
  {
   "cell_type": "code",
   "execution_count": 40,
   "metadata": {},
   "outputs": [
    {
     "data": {
      "text/html": [
       "<div>\n",
       "<style scoped>\n",
       "    .dataframe tbody tr th:only-of-type {\n",
       "        vertical-align: middle;\n",
       "    }\n",
       "\n",
       "    .dataframe tbody tr th {\n",
       "        vertical-align: top;\n",
       "    }\n",
       "\n",
       "    .dataframe thead th {\n",
       "        text-align: right;\n",
       "    }\n",
       "</style>\n",
       "<table border=\"1\" class=\"dataframe\">\n",
       "  <thead>\n",
       "    <tr style=\"text-align: right;\">\n",
       "      <th></th>\n",
       "      <th>Country</th>\n",
       "      <th>Happiness Rank_2016</th>\n",
       "      <th>Year_2016</th>\n",
       "      <th>Happiness Rank_2015</th>\n",
       "      <th>Year_2015</th>\n",
       "    </tr>\n",
       "  </thead>\n",
       "  <tbody>\n",
       "    <tr>\n",
       "      <td>0</td>\n",
       "      <td>Iceland</td>\n",
       "      <td>3</td>\n",
       "      <td>2016</td>\n",
       "      <td>NaN</td>\n",
       "      <td>NaN</td>\n",
       "    </tr>\n",
       "    <tr>\n",
       "      <td>1</td>\n",
       "      <td>Norway</td>\n",
       "      <td>4</td>\n",
       "      <td>2016</td>\n",
       "      <td>4.0</td>\n",
       "      <td>2015.0</td>\n",
       "    </tr>\n",
       "    <tr>\n",
       "      <td>2</td>\n",
       "      <td>Finland</td>\n",
       "      <td>5</td>\n",
       "      <td>2016</td>\n",
       "      <td>NaN</td>\n",
       "      <td>NaN</td>\n",
       "    </tr>\n",
       "  </tbody>\n",
       "</table>\n",
       "</div>"
      ],
      "text/plain": [
       "   Country  Happiness Rank_2016  Year_2016  Happiness Rank_2015  Year_2015\n",
       "0  Iceland                    3       2016                  NaN        NaN\n",
       "1   Norway                    4       2016                  4.0     2015.0\n",
       "2  Finland                    5       2016                  NaN        NaN"
      ]
     },
     "execution_count": 40,
     "metadata": {},
     "output_type": "execute_result"
    }
   ],
   "source": [
    "merged_updated_suffixes"
   ]
  },
  {
   "cell_type": "markdown",
   "metadata": {},
   "source": [
    "- ### Join on Index with the Merge Function"
   ]
  },
  {
   "cell_type": "markdown",
   "metadata": {},
   "source": [
    "除了用common value连接数据，我们还可以用**index**连接\n",
    "\n",
    "用**index**连接, 需要设置 `left_index` 和 `right_index` 参数为 `True`:"
   ]
  },
  {
   "cell_type": "code",
   "execution_count": 41,
   "metadata": {},
   "outputs": [],
   "source": [
    "four_2015 = happiness2015[['Country','Happiness Rank','Year']].iloc[2:6]\n",
    "three_2016 = happiness2016[['Country','Happiness Rank','Year']].iloc[2:5]\n",
    "merge_index = pd.merge(left = four_2015,right = three_2016, \n",
    "                       left_index = True, right_index = True, suffixes = ('_2015','_2016'))\n",
    "\n",
    "merge_index_left = pd.merge(left=four_2015, right=three_2016, how='left', \n",
    "                            left_index=True, right_index=True, suffixes=('_2015','_2016'))"
   ]
  },
  {
   "cell_type": "code",
   "execution_count": 42,
   "metadata": {},
   "outputs": [
    {
     "data": {
      "text/html": [
       "<div>\n",
       "<style scoped>\n",
       "    .dataframe tbody tr th:only-of-type {\n",
       "        vertical-align: middle;\n",
       "    }\n",
       "\n",
       "    .dataframe tbody tr th {\n",
       "        vertical-align: top;\n",
       "    }\n",
       "\n",
       "    .dataframe thead th {\n",
       "        text-align: right;\n",
       "    }\n",
       "</style>\n",
       "<table border=\"1\" class=\"dataframe\">\n",
       "  <thead>\n",
       "    <tr style=\"text-align: right;\">\n",
       "      <th></th>\n",
       "      <th>Country_2015</th>\n",
       "      <th>Happiness Rank_2015</th>\n",
       "      <th>Year_2015</th>\n",
       "      <th>Country_2016</th>\n",
       "      <th>Happiness Rank_2016</th>\n",
       "      <th>Year_2016</th>\n",
       "    </tr>\n",
       "  </thead>\n",
       "  <tbody>\n",
       "    <tr>\n",
       "      <td>2</td>\n",
       "      <td>Denmark</td>\n",
       "      <td>3</td>\n",
       "      <td>2015</td>\n",
       "      <td>Iceland</td>\n",
       "      <td>3</td>\n",
       "      <td>2016</td>\n",
       "    </tr>\n",
       "    <tr>\n",
       "      <td>3</td>\n",
       "      <td>Norway</td>\n",
       "      <td>4</td>\n",
       "      <td>2015</td>\n",
       "      <td>Norway</td>\n",
       "      <td>4</td>\n",
       "      <td>2016</td>\n",
       "    </tr>\n",
       "    <tr>\n",
       "      <td>4</td>\n",
       "      <td>Canada</td>\n",
       "      <td>5</td>\n",
       "      <td>2015</td>\n",
       "      <td>Finland</td>\n",
       "      <td>5</td>\n",
       "      <td>2016</td>\n",
       "    </tr>\n",
       "  </tbody>\n",
       "</table>\n",
       "</div>"
      ],
      "text/plain": [
       "  Country_2015  Happiness Rank_2015  Year_2015 Country_2016  \\\n",
       "2      Denmark                    3       2015      Iceland   \n",
       "3       Norway                    4       2015       Norway   \n",
       "4       Canada                    5       2015      Finland   \n",
       "\n",
       "   Happiness Rank_2016  Year_2016  \n",
       "2                    3       2016  \n",
       "3                    4       2016  \n",
       "4                    5       2016  "
      ]
     },
     "execution_count": 42,
     "metadata": {},
     "output_type": "execute_result"
    }
   ],
   "source": [
    "merge_index"
   ]
  },
  {
   "cell_type": "code",
   "execution_count": 43,
   "metadata": {},
   "outputs": [
    {
     "data": {
      "text/html": [
       "<div>\n",
       "<style scoped>\n",
       "    .dataframe tbody tr th:only-of-type {\n",
       "        vertical-align: middle;\n",
       "    }\n",
       "\n",
       "    .dataframe tbody tr th {\n",
       "        vertical-align: top;\n",
       "    }\n",
       "\n",
       "    .dataframe thead th {\n",
       "        text-align: right;\n",
       "    }\n",
       "</style>\n",
       "<table border=\"1\" class=\"dataframe\">\n",
       "  <thead>\n",
       "    <tr style=\"text-align: right;\">\n",
       "      <th></th>\n",
       "      <th>Country_2015</th>\n",
       "      <th>Happiness Rank_2015</th>\n",
       "      <th>Year_2015</th>\n",
       "      <th>Country_2016</th>\n",
       "      <th>Happiness Rank_2016</th>\n",
       "      <th>Year_2016</th>\n",
       "    </tr>\n",
       "  </thead>\n",
       "  <tbody>\n",
       "    <tr>\n",
       "      <td>2</td>\n",
       "      <td>Denmark</td>\n",
       "      <td>3</td>\n",
       "      <td>2015</td>\n",
       "      <td>Iceland</td>\n",
       "      <td>3.0</td>\n",
       "      <td>2016.0</td>\n",
       "    </tr>\n",
       "    <tr>\n",
       "      <td>3</td>\n",
       "      <td>Norway</td>\n",
       "      <td>4</td>\n",
       "      <td>2015</td>\n",
       "      <td>Norway</td>\n",
       "      <td>4.0</td>\n",
       "      <td>2016.0</td>\n",
       "    </tr>\n",
       "    <tr>\n",
       "      <td>4</td>\n",
       "      <td>Canada</td>\n",
       "      <td>5</td>\n",
       "      <td>2015</td>\n",
       "      <td>Finland</td>\n",
       "      <td>5.0</td>\n",
       "      <td>2016.0</td>\n",
       "    </tr>\n",
       "    <tr>\n",
       "      <td>5</td>\n",
       "      <td>Finland</td>\n",
       "      <td>6</td>\n",
       "      <td>2015</td>\n",
       "      <td>NaN</td>\n",
       "      <td>NaN</td>\n",
       "      <td>NaN</td>\n",
       "    </tr>\n",
       "  </tbody>\n",
       "</table>\n",
       "</div>"
      ],
      "text/plain": [
       "  Country_2015  Happiness Rank_2015  Year_2015 Country_2016  \\\n",
       "2      Denmark                    3       2015      Iceland   \n",
       "3       Norway                    4       2015       Norway   \n",
       "4       Canada                    5       2015      Finland   \n",
       "5      Finland                    6       2015          NaN   \n",
       "\n",
       "   Happiness Rank_2016  Year_2016  \n",
       "2                  3.0     2016.0  \n",
       "3                  4.0     2016.0  \n",
       "4                  5.0     2016.0  \n",
       "5                  NaN        NaN  "
      ]
     },
     "execution_count": 43,
     "metadata": {},
     "output_type": "execute_result"
    }
   ],
   "source": [
    "merge_index_left"
   ]
  },
  {
   "cell_type": "markdown",
   "metadata": {},
   "source": [
    "When we join on index, however, our result will contain only common *indexes*."
   ]
  },
  {
   "cell_type": "markdown",
   "metadata": {},
   "source": [
    "### 总结：\n",
    "![concat&merge](concat&merge.png)"
   ]
  },
  {
   "cell_type": "markdown",
   "metadata": {},
   "source": [
    "**Did world happiness increase, decrease, or stay about the same from 2015 to 2017?**"
   ]
  },
  {
   "cell_type": "code",
   "execution_count": 44,
   "metadata": {
    "scrolled": false
   },
   "outputs": [
    {
     "name": "stderr",
     "output_type": "stream",
     "text": [
      "/opt/anaconda3/lib/python3.7/site-packages/ipykernel_launcher.py:3: FutureWarning: Sorting because non-concatenation axis is not aligned. A future version\n",
      "of pandas will change to not sort by default.\n",
      "\n",
      "To accept the future behavior, pass 'sort=False'.\n",
      "\n",
      "To retain the current behavior and silence the warning, pass 'sort=True'.\n",
      "\n",
      "  This is separate from the ipykernel package so we can avoid doing imports until\n"
     ]
    },
    {
     "data": {
      "text/plain": [
       "<matplotlib.axes._subplots.AxesSubplot at 0x7fc1a0d4ba90>"
      ]
     },
     "execution_count": 44,
     "metadata": {},
     "output_type": "execute_result"
    },
    {
     "data": {
      "image/png": "[encoded data removed]",
      "text/plain": [
       "<Figure size 432x288 with 1 Axes>"
      ]
     },
     "metadata": {
      "needs_background": "light"
     },
     "output_type": "display_data"
    }
   ],
   "source": [
    "happiness2017.rename(columns={'Happiness.Score': 'Happiness Score'}, inplace=True)\n",
    "\n",
    "combined = pd.concat([happiness2015,happiness2016,happiness2017])\n",
    "\n",
    "pivot_table_combined = combined.pivot_table(values='Happiness Score', index='Year', aggfunc='mean')\n",
    "\n",
    "pivot_table_combined.plot(kind='barh',title='Mean Happiness Scores by Year', xlim=(0,10))"
   ]
  },
  {
   "cell_type": "markdown",
   "metadata": {},
   "source": [
    "# 2.4.3 Transforming Data with Pandas"
   ]
  },
  {
   "cell_type": "markdown",
   "metadata": {},
   "source": [
    "World Happiness Report 中有一些列表示某因素对幸福感评分的估计程度：\n",
    "- `Economy (GDP per capita)`\n",
    "- `Family`\n",
    "- `Health (Life Expectancy)`\n",
    "- `Freedom`\n",
    "- `Trust (Government Corruption)`\n",
    "- `Generosity`\n",
    "\n",
    "在本任务中，我们将把这些列看做 \"Factor\"（影响因素）列，我们将尝试回答以下问题：\n",
    "\n",
    "Which of the factors above contribute the most to the happiness score?\n",
    "\n",
    "但是，为了回答此问题，我们需要将我们的数据操作成一种更易于分析的格式。我们将探索以下功能和方法来执行此任务：\n",
    "- `Series.map()`\n",
    "- `Series.apply()`\n",
    "- `DataFrame.applymap()`\n",
    "- `DataFrame.apply()`\n",
    "- `pd.melt()`"
   ]
  },
  {
   "cell_type": "code",
   "execution_count": 45,
   "metadata": {
    "scrolled": true
   },
   "outputs": [
    {
     "data": {
      "text/html": [
       "<div>\n",
       "<style scoped>\n",
       "    .dataframe tbody tr th:only-of-type {\n",
       "        vertical-align: middle;\n",
       "    }\n",
       "\n",
       "    .dataframe tbody tr th {\n",
       "        vertical-align: top;\n",
       "    }\n",
       "\n",
       "    .dataframe thead th {\n",
       "        text-align: right;\n",
       "    }\n",
       "</style>\n",
       "<table border=\"1\" class=\"dataframe\">\n",
       "  <thead>\n",
       "    <tr style=\"text-align: right;\">\n",
       "      <th></th>\n",
       "      <th>Country</th>\n",
       "      <th>Region</th>\n",
       "      <th>Happiness Rank</th>\n",
       "      <th>Happiness Score</th>\n",
       "      <th>Standard Error</th>\n",
       "      <th>Economy (GDP per Capita)</th>\n",
       "      <th>Family</th>\n",
       "      <th>Health (Life Expectancy)</th>\n",
       "      <th>Freedom</th>\n",
       "      <th>Trust (Government Corruption)</th>\n",
       "      <th>Generosity</th>\n",
       "      <th>Dystopia Residual</th>\n",
       "      <th>Year</th>\n",
       "    </tr>\n",
       "  </thead>\n",
       "  <tbody>\n",
       "    <tr>\n",
       "      <td>0</td>\n",
       "      <td>Switzerland</td>\n",
       "      <td>Western Europe</td>\n",
       "      <td>1</td>\n",
       "      <td>7.587</td>\n",
       "      <td>0.03411</td>\n",
       "      <td>1.39651</td>\n",
       "      <td>1.34951</td>\n",
       "      <td>0.94143</td>\n",
       "      <td>0.66557</td>\n",
       "      <td>0.41978</td>\n",
       "      <td>0.29678</td>\n",
       "      <td>2.51738</td>\n",
       "      <td>2015</td>\n",
       "    </tr>\n",
       "    <tr>\n",
       "      <td>1</td>\n",
       "      <td>Iceland</td>\n",
       "      <td>Western Europe</td>\n",
       "      <td>2</td>\n",
       "      <td>7.561</td>\n",
       "      <td>0.04884</td>\n",
       "      <td>1.30232</td>\n",
       "      <td>1.40223</td>\n",
       "      <td>0.94784</td>\n",
       "      <td>0.62877</td>\n",
       "      <td>0.14145</td>\n",
       "      <td>0.43630</td>\n",
       "      <td>2.70201</td>\n",
       "      <td>2015</td>\n",
       "    </tr>\n",
       "    <tr>\n",
       "      <td>2</td>\n",
       "      <td>Denmark</td>\n",
       "      <td>Western Europe</td>\n",
       "      <td>3</td>\n",
       "      <td>7.527</td>\n",
       "      <td>0.03328</td>\n",
       "      <td>1.32548</td>\n",
       "      <td>1.36058</td>\n",
       "      <td>0.87464</td>\n",
       "      <td>0.64938</td>\n",
       "      <td>0.48357</td>\n",
       "      <td>0.34139</td>\n",
       "      <td>2.49204</td>\n",
       "      <td>2015</td>\n",
       "    </tr>\n",
       "    <tr>\n",
       "      <td>3</td>\n",
       "      <td>Norway</td>\n",
       "      <td>Western Europe</td>\n",
       "      <td>4</td>\n",
       "      <td>7.522</td>\n",
       "      <td>0.03880</td>\n",
       "      <td>1.45900</td>\n",
       "      <td>1.33095</td>\n",
       "      <td>0.88521</td>\n",
       "      <td>0.66973</td>\n",
       "      <td>0.36503</td>\n",
       "      <td>0.34699</td>\n",
       "      <td>2.46531</td>\n",
       "      <td>2015</td>\n",
       "    </tr>\n",
       "    <tr>\n",
       "      <td>4</td>\n",
       "      <td>Canada</td>\n",
       "      <td>North America</td>\n",
       "      <td>5</td>\n",
       "      <td>7.427</td>\n",
       "      <td>0.03553</td>\n",
       "      <td>1.32629</td>\n",
       "      <td>1.32261</td>\n",
       "      <td>0.90563</td>\n",
       "      <td>0.63297</td>\n",
       "      <td>0.32957</td>\n",
       "      <td>0.45811</td>\n",
       "      <td>2.45176</td>\n",
       "      <td>2015</td>\n",
       "    </tr>\n",
       "  </tbody>\n",
       "</table>\n",
       "</div>"
      ],
      "text/plain": [
       "       Country          Region  Happiness Rank  Happiness Score  \\\n",
       "0  Switzerland  Western Europe               1            7.587   \n",
       "1      Iceland  Western Europe               2            7.561   \n",
       "2      Denmark  Western Europe               3            7.527   \n",
       "3       Norway  Western Europe               4            7.522   \n",
       "4       Canada   North America               5            7.427   \n",
       "\n",
       "   Standard Error  Economy (GDP per Capita)   Family  \\\n",
       "0         0.03411                   1.39651  1.34951   \n",
       "1         0.04884                   1.30232  1.40223   \n",
       "2         0.03328                   1.32548  1.36058   \n",
       "3         0.03880                   1.45900  1.33095   \n",
       "4         0.03553                   1.32629  1.32261   \n",
       "\n",
       "   Health (Life Expectancy)  Freedom  Trust (Government Corruption)  \\\n",
       "0                   0.94143  0.66557                        0.41978   \n",
       "1                   0.94784  0.62877                        0.14145   \n",
       "2                   0.87464  0.64938                        0.48357   \n",
       "3                   0.88521  0.66973                        0.36503   \n",
       "4                   0.90563  0.63297                        0.32957   \n",
       "\n",
       "   Generosity  Dystopia Residual  Year  \n",
       "0     0.29678            2.51738  2015  \n",
       "1     0.43630            2.70201  2015  \n",
       "2     0.34139            2.49204  2015  \n",
       "3     0.34699            2.46531  2015  \n",
       "4     0.45811            2.45176  2015  "
      ]
     },
     "execution_count": 45,
     "metadata": {},
     "output_type": "execute_result"
    }
   ],
   "source": [
    "happiness2015.head()"
   ]
  },
  {
   "cell_type": "markdown",
   "metadata": {},
   "source": [
    "注意有些列名过长，使用`DataFrame.rename()`把这些名字改掉："
   ]
  },
  {
   "cell_type": "code",
   "execution_count": 46,
   "metadata": {},
   "outputs": [],
   "source": [
    "mapping = {'Economy (GDP per Capita)': 'Economy', 'Health (Life Expectancy)': 'Health', \n",
    "           'Trust (Government Corruption)': 'Trust' }\n",
    "\n",
    "happiness2015.rename(mapping, axis=1, inplace=True)"
   ]
  },
  {
   "cell_type": "code",
   "execution_count": 47,
   "metadata": {},
   "outputs": [
    {
     "data": {
      "text/html": [
       "<div>\n",
       "<style scoped>\n",
       "    .dataframe tbody tr th:only-of-type {\n",
       "        vertical-align: middle;\n",
       "    }\n",
       "\n",
       "    .dataframe tbody tr th {\n",
       "        vertical-align: top;\n",
       "    }\n",
       "\n",
       "    .dataframe thead th {\n",
       "        text-align: right;\n",
       "    }\n",
       "</style>\n",
       "<table border=\"1\" class=\"dataframe\">\n",
       "  <thead>\n",
       "    <tr style=\"text-align: right;\">\n",
       "      <th></th>\n",
       "      <th>Country</th>\n",
       "      <th>Happiness Score</th>\n",
       "      <th>Economy</th>\n",
       "      <th>Family</th>\n",
       "      <th>Health</th>\n",
       "      <th>Freedom</th>\n",
       "      <th>Trust</th>\n",
       "      <th>Generosity</th>\n",
       "    </tr>\n",
       "  </thead>\n",
       "  <tbody>\n",
       "    <tr>\n",
       "      <td>0</td>\n",
       "      <td>Switzerland</td>\n",
       "      <td>7.587</td>\n",
       "      <td>1.39651</td>\n",
       "      <td>1.34951</td>\n",
       "      <td>0.94143</td>\n",
       "      <td>0.66557</td>\n",
       "      <td>0.41978</td>\n",
       "      <td>0.29678</td>\n",
       "    </tr>\n",
       "    <tr>\n",
       "      <td>1</td>\n",
       "      <td>Iceland</td>\n",
       "      <td>7.561</td>\n",
       "      <td>1.30232</td>\n",
       "      <td>1.40223</td>\n",
       "      <td>0.94784</td>\n",
       "      <td>0.62877</td>\n",
       "      <td>0.14145</td>\n",
       "      <td>0.43630</td>\n",
       "    </tr>\n",
       "    <tr>\n",
       "      <td>2</td>\n",
       "      <td>Denmark</td>\n",
       "      <td>7.527</td>\n",
       "      <td>1.32548</td>\n",
       "      <td>1.36058</td>\n",
       "      <td>0.87464</td>\n",
       "      <td>0.64938</td>\n",
       "      <td>0.48357</td>\n",
       "      <td>0.34139</td>\n",
       "    </tr>\n",
       "    <tr>\n",
       "      <td>3</td>\n",
       "      <td>Norway</td>\n",
       "      <td>7.522</td>\n",
       "      <td>1.45900</td>\n",
       "      <td>1.33095</td>\n",
       "      <td>0.88521</td>\n",
       "      <td>0.66973</td>\n",
       "      <td>0.36503</td>\n",
       "      <td>0.34699</td>\n",
       "    </tr>\n",
       "    <tr>\n",
       "      <td>4</td>\n",
       "      <td>Canada</td>\n",
       "      <td>7.427</td>\n",
       "      <td>1.32629</td>\n",
       "      <td>1.32261</td>\n",
       "      <td>0.90563</td>\n",
       "      <td>0.63297</td>\n",
       "      <td>0.32957</td>\n",
       "      <td>0.45811</td>\n",
       "    </tr>\n",
       "  </tbody>\n",
       "</table>\n",
       "</div>"
      ],
      "text/plain": [
       "       Country  Happiness Score  Economy   Family   Health  Freedom    Trust  \\\n",
       "0  Switzerland            7.587  1.39651  1.34951  0.94143  0.66557  0.41978   \n",
       "1      Iceland            7.561  1.30232  1.40223  0.94784  0.62877  0.14145   \n",
       "2      Denmark            7.527  1.32548  1.36058  0.87464  0.64938  0.48357   \n",
       "3       Norway            7.522  1.45900  1.33095  0.88521  0.66973  0.36503   \n",
       "4       Canada            7.427  1.32629  1.32261  0.90563  0.63297  0.32957   \n",
       "\n",
       "   Generosity  \n",
       "0     0.29678  \n",
       "1     0.43630  \n",
       "2     0.34139  \n",
       "3     0.34699  \n",
       "4     0.45811  "
      ]
     },
     "execution_count": 47,
     "metadata": {},
     "output_type": "execute_result"
    }
   ],
   "source": [
    "happiness2015[['Country','Happiness Score','Economy','Family','Health','Freedom','Trust','Generosity']].head()"
   ]
  },
  {
   "cell_type": "markdown",
   "metadata": {},
   "source": [
    "回想一下，每个数字代表每个因素对幸福感评分的贡献程度。\n",
    "\n",
    "但是，这个定义不仅难以理解，而且跨多个列分析所有这些数字也可能具有挑战性。 相反，我们可以首先使用以下函数将这些数字转换为类别型数据，以表明该因素对幸福感评分有高影响还是低影响"
   ]
  },
  {
   "cell_type": "markdown",
   "metadata": {},
   "source": [
    " - ### Apply a Function Element-wise Using the Map and Apply Methods"
   ]
  },
  {
   "cell_type": "code",
   "execution_count": 48,
   "metadata": {},
   "outputs": [],
   "source": [
    "def label(element):\n",
    "    if element > 1:\n",
    "        return 'High'\n",
    "    else:\n",
    "        return 'Low'"
   ]
  },
  {
   "cell_type": "markdown",
   "metadata": {},
   "source": [
    "尽管pandas提供了许多内置函数来执行常见的数据清理任务，但在这种情况下，我们需要执行的转换对我们的数据非常有针对性，以至于不存在这种内置函数。 幸运的是，pandas有两种方法可用于将自定义函数（如上面定义的一种）应用于我们的数据，从以下两种方法开始：\n",
    "1. [Series.map()](https://pandas.pydata.org/pandas-docs/stable/reference/api/pandas.Series.map.html) method\n",
    "用于将系列中的每个值替换为另一个值，该值可以从函数，字典或Series中得出。\n",
    "2. [Series.apply()](https://pandas.pydata.org/pandas-docs/stable/reference/api/pandas.Series.apply.html) method 用于在Series值上调用函数"
   ]
  },
  {
   "cell_type": "markdown",
   "metadata": {},
   "source": [
    "以上两种方法 apply a function *element-wise* to a column. \n",
    "\n",
    "element-wise指的是我们一次向函数传递Series中的一个值，它执行某种转换。\n",
    "![Map_generic](Map_generic.svg)\n",
    "\n",
    "\n",
    "语法如下：\n",
    "\n",
    "![Map_Apply_Syntax](Map_Apply_Syntax.svg)"
   ]
  },
  {
   "cell_type": "code",
   "execution_count": 49,
   "metadata": {},
   "outputs": [
    {
     "data": {
      "text/plain": [
       "True"
      ]
     },
     "execution_count": 49,
     "metadata": {},
     "output_type": "execute_result"
    }
   ],
   "source": [
    "economy_impact_map = happiness2015['Economy'].map(label)\n",
    "\n",
    "economy_impact_apply = happiness2015['Economy'].apply(label)\n",
    "\n",
    "economy_impact_map.equals(economy_impact_apply)"
   ]
  },
  {
   "cell_type": "code",
   "execution_count": 50,
   "metadata": {},
   "outputs": [
    {
     "data": {
      "text/plain": [
       "0      High\n",
       "1      High\n",
       "2      High\n",
       "3      High\n",
       "4      High\n",
       "       ... \n",
       "153     Low\n",
       "154     Low\n",
       "155     Low\n",
       "156     Low\n",
       "157     Low\n",
       "Name: Economy, Length: 158, dtype: object"
      ]
     },
     "execution_count": 50,
     "metadata": {},
     "output_type": "execute_result"
    }
   ],
   "source": [
    "economy_impact_map"
   ]
  },
  {
   "cell_type": "code",
   "execution_count": 51,
   "metadata": {},
   "outputs": [
    {
     "data": {
      "text/plain": [
       "0      High\n",
       "1      High\n",
       "2      High\n",
       "3      High\n",
       "4      High\n",
       "       ... \n",
       "153     Low\n",
       "154     Low\n",
       "155     Low\n",
       "156     Low\n",
       "157     Low\n",
       "Name: Economy, Length: 158, dtype: object"
      ]
     },
     "execution_count": 51,
     "metadata": {},
     "output_type": "execute_result"
    }
   ],
   "source": [
    "economy_impact_apply"
   ]
  },
  {
   "cell_type": "markdown",
   "metadata": {},
   "source": [
    "上面，我们使用`Series.map()`和`Series.apply()`方法将一个函数应用于`Economy`列，并确认这两种方法均**产生相同的结果**。\n",
    "\n",
    "请注意，这两个方法**不会更改原始Series**。 如果要在原始Dataframe中使用新Series，则必须将结果分配回原始列或创建一个新列。\n",
    "\n",
    "建议创建一个新列，以防需要引用原始值："
   ]
  },
  {
   "cell_type": "code",
   "execution_count": 52,
   "metadata": {},
   "outputs": [
    {
     "data": {
      "text/html": [
       "<div>\n",
       "<style scoped>\n",
       "    .dataframe tbody tr th:only-of-type {\n",
       "        vertical-align: middle;\n",
       "    }\n",
       "\n",
       "    .dataframe tbody tr th {\n",
       "        vertical-align: top;\n",
       "    }\n",
       "\n",
       "    .dataframe thead th {\n",
       "        text-align: right;\n",
       "    }\n",
       "</style>\n",
       "<table border=\"1\" class=\"dataframe\">\n",
       "  <thead>\n",
       "    <tr style=\"text-align: right;\">\n",
       "      <th></th>\n",
       "      <th>Economy</th>\n",
       "      <th>Economy Impact</th>\n",
       "    </tr>\n",
       "  </thead>\n",
       "  <tbody>\n",
       "    <tr>\n",
       "      <td>0</td>\n",
       "      <td>1.39651</td>\n",
       "      <td>High</td>\n",
       "    </tr>\n",
       "    <tr>\n",
       "      <td>1</td>\n",
       "      <td>1.30232</td>\n",
       "      <td>High</td>\n",
       "    </tr>\n",
       "    <tr>\n",
       "      <td>2</td>\n",
       "      <td>1.32548</td>\n",
       "      <td>High</td>\n",
       "    </tr>\n",
       "    <tr>\n",
       "      <td>3</td>\n",
       "      <td>1.45900</td>\n",
       "      <td>High</td>\n",
       "    </tr>\n",
       "    <tr>\n",
       "      <td>4</td>\n",
       "      <td>1.32629</td>\n",
       "      <td>High</td>\n",
       "    </tr>\n",
       "  </tbody>\n",
       "</table>\n",
       "</div>"
      ],
      "text/plain": [
       "   Economy Economy Impact\n",
       "0  1.39651           High\n",
       "1  1.30232           High\n",
       "2  1.32548           High\n",
       "3  1.45900           High\n",
       "4  1.32629           High"
      ]
     },
     "execution_count": 52,
     "metadata": {},
     "output_type": "execute_result"
    }
   ],
   "source": [
    "def label(element):\n",
    "    if element > 1:\n",
    "        return 'High'\n",
    "    else:\n",
    "        return 'Low'\n",
    "    \n",
    "happiness2015['Economy Impact'] = happiness2015['Economy'].map(label)\n",
    "happiness2015[['Economy','Economy Impact']][:5]"
   ]
  },
  {
   "cell_type": "markdown",
   "metadata": {},
   "source": [
    "**`map()`和`apply()`的区别：**"
   ]
  },
  {
   "cell_type": "markdown",
   "metadata": {},
   "source": [
    "我们给`label()`函数设置一个新的参数："
   ]
  },
  {
   "cell_type": "code",
   "execution_count": 53,
   "metadata": {},
   "outputs": [],
   "source": [
    "def label(element, x):\n",
    "    if element > x:\n",
    "        return 'High'\n",
    "    else:\n",
    "        return 'Low'"
   ]
  },
  {
   "cell_type": "markdown",
   "metadata": {},
   "source": [
    "此时使用`map()`方法就会报错"
   ]
  },
  {
   "cell_type": "code",
   "execution_count": 54,
   "metadata": {},
   "outputs": [
    {
     "ename": "TypeError",
     "evalue": "map() got an unexpected keyword argument 'x'",
     "output_type": "error",
     "traceback": [
      "\u001b[0;31m---------------------------------------------------------------------------\u001b[0m",
      "\u001b[0;31mTypeError\u001b[0m                                 Traceback (most recent call last)",
      "\u001b[0;32m<ipython-input-54-0ce514873a98>\u001b[0m in \u001b[0;36m<module>\u001b[0;34m\u001b[0m\n\u001b[0;32m----> 1\u001b[0;31m \u001b[0meconomy_map\u001b[0m \u001b[0;34m=\u001b[0m \u001b[0mhappiness2015\u001b[0m\u001b[0;34m[\u001b[0m\u001b[0;34m'Economy'\u001b[0m\u001b[0;34m]\u001b[0m\u001b[0;34m.\u001b[0m\u001b[0mmap\u001b[0m\u001b[0;34m(\u001b[0m\u001b[0mlabel\u001b[0m\u001b[0;34m,\u001b[0m \u001b[0mx\u001b[0m \u001b[0;34m=\u001b[0m \u001b[0;36m.8\u001b[0m\u001b[0;34m)\u001b[0m\u001b[0;34m\u001b[0m\u001b[0;34m\u001b[0m\u001b[0m\n\u001b[0m",
      "\u001b[0;31mTypeError\u001b[0m: map() got an unexpected keyword argument 'x'"
     ]
    }
   ],
   "source": [
    "economy_map = happiness2015['Economy'].map(label, x = .8)"
   ]
  },
  {
   "cell_type": "markdown",
   "metadata": {},
   "source": [
    "`apply()`可以执行有多个参数的方法："
   ]
  },
  {
   "cell_type": "code",
   "execution_count": 55,
   "metadata": {},
   "outputs": [],
   "source": [
    "economy_impact_apply = happiness2015['Economy'].apply(label, x=0.8)"
   ]
  },
  {
   "cell_type": "markdown",
   "metadata": {},
   "source": [
    "注意：`apply()`和`map()`都是element-wise的，这意味着传递进去的方法都是一个元素一个元素的计算。\n",
    "\n",
    "recall pandas具有向量计算的特性，即多行或多列一起计算，这意味着使用`apply()`和`map()`的速度要比向量计算慢"
   ]
  },
  {
   "cell_type": "markdown",
   "metadata": {},
   "source": [
    "- ### Apply a Function Element-wise to Multiple Columns Using Applymap Method"
   ]
  },
  {
   "cell_type": "markdown",
   "metadata": {},
   "source": [
    "`Series.map()`和`Series.apply()`一次只能应用于一列，转换多列需要写多行：\n",
    "```\n",
    "happiness2015['Economy Impact'] = happiness2015['Economy'].apply(label)\n",
    "happiness2015['Health Impact'] = happiness2015['Health'].apply(label)\n",
    "happiness2015['Family Impact'] = happiness2015['Family'].apply(label)\n",
    "```\n",
    "想要同时转换多列，需要用到[DataFrame.applymap()](https://pandas.pydata.org/pandas-docs/stable/generated/pandas.DataFrame.applymap.html)方法\n",
    "![Applymap_syntax](Applymap_syntax.svg)"
   ]
  },
  {
   "cell_type": "code",
   "execution_count": 56,
   "metadata": {},
   "outputs": [
    {
     "data": {
      "text/html": [
       "<div>\n",
       "<style scoped>\n",
       "    .dataframe tbody tr th:only-of-type {\n",
       "        vertical-align: middle;\n",
       "    }\n",
       "\n",
       "    .dataframe tbody tr th {\n",
       "        vertical-align: top;\n",
       "    }\n",
       "\n",
       "    .dataframe thead th {\n",
       "        text-align: right;\n",
       "    }\n",
       "</style>\n",
       "<table border=\"1\" class=\"dataframe\">\n",
       "  <thead>\n",
       "    <tr style=\"text-align: right;\">\n",
       "      <th></th>\n",
       "      <th>Economy</th>\n",
       "      <th>Family</th>\n",
       "      <th>Health</th>\n",
       "      <th>Freedom</th>\n",
       "      <th>Trust</th>\n",
       "      <th>Generosity</th>\n",
       "    </tr>\n",
       "  </thead>\n",
       "  <tbody>\n",
       "    <tr>\n",
       "      <td>0</td>\n",
       "      <td>High</td>\n",
       "      <td>High</td>\n",
       "      <td>Low</td>\n",
       "      <td>Low</td>\n",
       "      <td>Low</td>\n",
       "      <td>Low</td>\n",
       "    </tr>\n",
       "    <tr>\n",
       "      <td>1</td>\n",
       "      <td>High</td>\n",
       "      <td>High</td>\n",
       "      <td>Low</td>\n",
       "      <td>Low</td>\n",
       "      <td>Low</td>\n",
       "      <td>Low</td>\n",
       "    </tr>\n",
       "    <tr>\n",
       "      <td>2</td>\n",
       "      <td>High</td>\n",
       "      <td>High</td>\n",
       "      <td>Low</td>\n",
       "      <td>Low</td>\n",
       "      <td>Low</td>\n",
       "      <td>Low</td>\n",
       "    </tr>\n",
       "    <tr>\n",
       "      <td>3</td>\n",
       "      <td>High</td>\n",
       "      <td>High</td>\n",
       "      <td>Low</td>\n",
       "      <td>Low</td>\n",
       "      <td>Low</td>\n",
       "      <td>Low</td>\n",
       "    </tr>\n",
       "    <tr>\n",
       "      <td>4</td>\n",
       "      <td>High</td>\n",
       "      <td>High</td>\n",
       "      <td>Low</td>\n",
       "      <td>Low</td>\n",
       "      <td>Low</td>\n",
       "      <td>Low</td>\n",
       "    </tr>\n",
       "  </tbody>\n",
       "</table>\n",
       "</div>"
      ],
      "text/plain": [
       "  Economy Family Health Freedom Trust Generosity\n",
       "0    High   High    Low     Low   Low        Low\n",
       "1    High   High    Low     Low   Low        Low\n",
       "2    High   High    Low     Low   Low        Low\n",
       "3    High   High    Low     Low   Low        Low\n",
       "4    High   High    Low     Low   Low        Low"
      ]
     },
     "execution_count": 56,
     "metadata": {},
     "output_type": "execute_result"
    }
   ],
   "source": [
    "def label(element):\n",
    "    if element > 1:\n",
    "        return 'High'\n",
    "    else:\n",
    "        return 'Low'\n",
    "    \n",
    "factors = ['Economy', 'Family', 'Health', 'Freedom', 'Trust', 'Generosity']\n",
    "\n",
    "factors_impact = happiness2015[factors].applymap(label)\n",
    "factors_impact[:5]"
   ]
  },
  {
   "cell_type": "markdown",
   "metadata": {},
   "source": [
    "- ### Apply Functions along an Axis using the Apply Method"
   ]
  },
  {
   "cell_type": "markdown",
   "metadata": {},
   "source": [
    "`apply()`方法同样也可以用于DataFrame，但是[DataFrame.apply](https://pandas.pydata.org/pandas-docs/stable/reference/api/pandas.DataFrame.apply.html)\n",
    "\n",
    "与Series的不同，`df.apply()`沿着轴应用函数，因此只能应用 *column-wise* 或 *row-wise* 的函数："
   ]
  },
  {
   "cell_type": "markdown",
   "metadata": {},
   "source": [
    "使用`df.apply()`计算每一列'High'和'Low'的数量："
   ]
  },
  {
   "cell_type": "code",
   "execution_count": 57,
   "metadata": {
    "scrolled": true
   },
   "outputs": [
    {
     "data": {
      "text/html": [
       "<div>\n",
       "<style scoped>\n",
       "    .dataframe tbody tr th:only-of-type {\n",
       "        vertical-align: middle;\n",
       "    }\n",
       "\n",
       "    .dataframe tbody tr th {\n",
       "        vertical-align: top;\n",
       "    }\n",
       "\n",
       "    .dataframe thead th {\n",
       "        text-align: right;\n",
       "    }\n",
       "</style>\n",
       "<table border=\"1\" class=\"dataframe\">\n",
       "  <thead>\n",
       "    <tr style=\"text-align: right;\">\n",
       "      <th></th>\n",
       "      <th>Economy</th>\n",
       "      <th>Family</th>\n",
       "      <th>Health</th>\n",
       "      <th>Freedom</th>\n",
       "      <th>Trust</th>\n",
       "      <th>Generosity</th>\n",
       "    </tr>\n",
       "  </thead>\n",
       "  <tbody>\n",
       "    <tr>\n",
       "      <td>High</td>\n",
       "      <td>66</td>\n",
       "      <td>89</td>\n",
       "      <td>2</td>\n",
       "      <td>NaN</td>\n",
       "      <td>NaN</td>\n",
       "      <td>NaN</td>\n",
       "    </tr>\n",
       "    <tr>\n",
       "      <td>Low</td>\n",
       "      <td>92</td>\n",
       "      <td>69</td>\n",
       "      <td>156</td>\n",
       "      <td>158.0</td>\n",
       "      <td>158.0</td>\n",
       "      <td>158.0</td>\n",
       "    </tr>\n",
       "  </tbody>\n",
       "</table>\n",
       "</div>"
      ],
      "text/plain": [
       "      Economy  Family  Health  Freedom  Trust  Generosity\n",
       "High       66      89       2      NaN    NaN         NaN\n",
       "Low        92      69     156    158.0  158.0       158.0"
      ]
     },
     "execution_count": 57,
     "metadata": {},
     "output_type": "execute_result"
    }
   ],
   "source": [
    "factors_impact.apply(pd.value_counts)"
   ]
  },
  {
   "cell_type": "markdown",
   "metadata": {},
   "source": [
    "当我们将`pd.value_counts`函数应用于`factors_impact`时，它首先计算了第一列`Economy`的频数，再计算第二列`Family`的频数，依此类推："
   ]
  },
  {
   "cell_type": "markdown",
   "metadata": {},
   "source": [
    "![Apply_counts](Apply_counts.svg)"
   ]
  },
  {
   "cell_type": "markdown",
   "metadata": {},
   "source": [
    "注意，我们之所以可以用`df.apply()`方法来转换多列，是因为pd.value_counts函数对Series进行操作。 如果我们尝试使用`df.apply()`方法将执行一个\"element-wise\"的函数，则会收到错误消息：\n",
    "\n",
    "`happiness2015[factors].apply(label)`\n",
    "\n",
    "`ValueError: ('The truth value of a Series is ambiguous. Use a.empty, a.bool(), a.item(), a.any() or a.all().', 'occurred at index Economy')`"
   ]
  },
  {
   "cell_type": "code",
   "execution_count": 58,
   "metadata": {},
   "outputs": [
    {
     "data": {
      "text/html": [
       "<div>\n",
       "<style scoped>\n",
       "    .dataframe tbody tr th:only-of-type {\n",
       "        vertical-align: middle;\n",
       "    }\n",
       "\n",
       "    .dataframe tbody tr th {\n",
       "        vertical-align: top;\n",
       "    }\n",
       "\n",
       "    .dataframe thead th {\n",
       "        text-align: right;\n",
       "    }\n",
       "</style>\n",
       "<table border=\"1\" class=\"dataframe\">\n",
       "  <thead>\n",
       "    <tr style=\"text-align: right;\">\n",
       "      <th></th>\n",
       "      <th>Economy</th>\n",
       "      <th>Family</th>\n",
       "      <th>Health</th>\n",
       "      <th>Freedom</th>\n",
       "      <th>Trust</th>\n",
       "      <th>Generosity</th>\n",
       "    </tr>\n",
       "  </thead>\n",
       "  <tbody>\n",
       "    <tr>\n",
       "      <td>High</td>\n",
       "      <td>0.417722</td>\n",
       "      <td>0.563291</td>\n",
       "      <td>0.012658</td>\n",
       "      <td>NaN</td>\n",
       "      <td>NaN</td>\n",
       "      <td>NaN</td>\n",
       "    </tr>\n",
       "    <tr>\n",
       "      <td>Low</td>\n",
       "      <td>0.582278</td>\n",
       "      <td>0.436709</td>\n",
       "      <td>0.987342</td>\n",
       "      <td>1.0</td>\n",
       "      <td>1.0</td>\n",
       "      <td>1.0</td>\n",
       "    </tr>\n",
       "  </tbody>\n",
       "</table>\n",
       "</div>"
      ],
      "text/plain": [
       "       Economy    Family    Health  Freedom  Trust  Generosity\n",
       "High  0.417722  0.563291  0.012658      NaN    NaN         NaN\n",
       "Low   0.582278  0.436709  0.987342      1.0    1.0         1.0"
      ]
     },
     "execution_count": 58,
     "metadata": {},
     "output_type": "execute_result"
    }
   ],
   "source": [
    "def v_counts(col):\n",
    "    num = col.value_counts()\n",
    "    den = col.size\n",
    "    return num/den\n",
    "\n",
    "v_counts_pct = factors_impact.apply(v_counts)\n",
    "v_counts_pct"
   ]
  },
  {
   "cell_type": "markdown",
   "metadata": {},
   "source": [
    "`Serise.size` 属性返回Series中的元素个数"
   ]
  },
  {
   "cell_type": "markdown",
   "metadata": {},
   "source": [
    "数据集中的6个factors再加上`Dystopia Residual`列的和，就是`Happiness Score`\n"
   ]
  },
  {
   "cell_type": "code",
   "execution_count": 115,
   "metadata": {
    "scrolled": true
   },
   "outputs": [
    {
     "data": {
      "text/html": [
       "<div>\n",
       "<style scoped>\n",
       "    .dataframe tbody tr th:only-of-type {\n",
       "        vertical-align: middle;\n",
       "    }\n",
       "\n",
       "    .dataframe tbody tr th {\n",
       "        vertical-align: top;\n",
       "    }\n",
       "\n",
       "    .dataframe thead th {\n",
       "        text-align: right;\n",
       "    }\n",
       "</style>\n",
       "<table border=\"1\" class=\"dataframe\">\n",
       "  <thead>\n",
       "    <tr style=\"text-align: right;\">\n",
       "      <th></th>\n",
       "      <th>Happiness Score</th>\n",
       "      <th>Factors Sum</th>\n",
       "    </tr>\n",
       "  </thead>\n",
       "  <tbody>\n",
       "    <tr>\n",
       "      <td>0</td>\n",
       "      <td>7.587</td>\n",
       "      <td>7.58696</td>\n",
       "    </tr>\n",
       "    <tr>\n",
       "      <td>1</td>\n",
       "      <td>7.561</td>\n",
       "      <td>7.56092</td>\n",
       "    </tr>\n",
       "    <tr>\n",
       "      <td>2</td>\n",
       "      <td>7.527</td>\n",
       "      <td>7.52708</td>\n",
       "    </tr>\n",
       "    <tr>\n",
       "      <td>3</td>\n",
       "      <td>7.522</td>\n",
       "      <td>7.52222</td>\n",
       "    </tr>\n",
       "    <tr>\n",
       "      <td>4</td>\n",
       "      <td>7.427</td>\n",
       "      <td>7.42694</td>\n",
       "    </tr>\n",
       "  </tbody>\n",
       "</table>\n",
       "</div>"
      ],
      "text/plain": [
       "   Happiness Score  Factors Sum\n",
       "0            7.587      7.58696\n",
       "1            7.561      7.56092\n",
       "2            7.527      7.52708\n",
       "3            7.522      7.52222\n",
       "4            7.427      7.42694"
      ]
     },
     "execution_count": 115,
     "metadata": {},
     "output_type": "execute_result"
    }
   ],
   "source": [
    "#Calculate the sum of the factor columns in each row.\n",
    "happiness2015['Factors Sum'] = happiness2015[['Economy', 'Family', 'Health', 'Freedom', 'Trust',\n",
    "                                              'Generosity', 'Dystopia Residual']].sum(axis=1)\n",
    "\n",
    "#Display the first five rows of the result and the Happiness Score column.\n",
    "happiness2015[['Happiness Score', 'Factors Sum']].head()"
   ]
  },
  {
   "cell_type": "markdown",
   "metadata": {},
   "source": [
    "因此我们可以计算各个factor的占幸福感分数的比例来评估哪个factor的贡献最大"
   ]
  },
  {
   "cell_type": "code",
   "execution_count": 60,
   "metadata": {},
   "outputs": [],
   "source": [
    "factors = ['Economy', 'Family', 'Health', 'Freedom', 'Trust', 'Generosity', 'Dystopia Residual']\n",
    "\n",
    "def percentages(col):\n",
    "    div = col/happiness2015['Happiness Score']# 通过数据框的index连接对应\n",
    "    return div * 100\n",
    "\n",
    "factor_percentages = happiness2015[factors].apply(percentages)"
   ]
  },
  {
   "cell_type": "markdown",
   "metadata": {},
   "source": [
    "`DataFrame.apply`*(func, axis=0, raw=False, result_type=None, args=(), kwds)*\n",
    "Apply a function along an axis of the DataFrame.\n",
    "\n",
    "Objects passed to the function are Series objects whose index is either the DataFrame’s index (`axis=0`) or the DataFrame’s columns (`axis=1`). By default (`result_type=None`), the final return type is inferred from the return type of the applied function. Otherwise, it depends on the result_type argument."
   ]
  },
  {
   "cell_type": "code",
   "execution_count": 61,
   "metadata": {
    "scrolled": true
   },
   "outputs": [
    {
     "data": {
      "text/html": [
       "<div>\n",
       "<style scoped>\n",
       "    .dataframe tbody tr th:only-of-type {\n",
       "        vertical-align: middle;\n",
       "    }\n",
       "\n",
       "    .dataframe tbody tr th {\n",
       "        vertical-align: top;\n",
       "    }\n",
       "\n",
       "    .dataframe thead th {\n",
       "        text-align: right;\n",
       "    }\n",
       "</style>\n",
       "<table border=\"1\" class=\"dataframe\">\n",
       "  <thead>\n",
       "    <tr style=\"text-align: right;\">\n",
       "      <th></th>\n",
       "      <th>Economy</th>\n",
       "      <th>Family</th>\n",
       "      <th>Health</th>\n",
       "      <th>Freedom</th>\n",
       "      <th>Trust</th>\n",
       "      <th>Generosity</th>\n",
       "      <th>Dystopia Residual</th>\n",
       "    </tr>\n",
       "  </thead>\n",
       "  <tbody>\n",
       "    <tr>\n",
       "      <td>0</td>\n",
       "      <td>18.406617</td>\n",
       "      <td>17.787136</td>\n",
       "      <td>12.408462</td>\n",
       "      <td>8.772506</td>\n",
       "      <td>5.532885</td>\n",
       "      <td>3.911691</td>\n",
       "      <td>33.180177</td>\n",
       "    </tr>\n",
       "    <tr>\n",
       "      <td>1</td>\n",
       "      <td>17.224177</td>\n",
       "      <td>18.545563</td>\n",
       "      <td>12.535908</td>\n",
       "      <td>8.315963</td>\n",
       "      <td>1.870784</td>\n",
       "      <td>5.770401</td>\n",
       "      <td>35.736146</td>\n",
       "    </tr>\n",
       "    <tr>\n",
       "      <td>2</td>\n",
       "      <td>17.609672</td>\n",
       "      <td>18.075993</td>\n",
       "      <td>11.620035</td>\n",
       "      <td>8.627342</td>\n",
       "      <td>6.424472</td>\n",
       "      <td>4.535539</td>\n",
       "      <td>33.108011</td>\n",
       "    </tr>\n",
       "    <tr>\n",
       "      <td>3</td>\n",
       "      <td>19.396437</td>\n",
       "      <td>17.694097</td>\n",
       "      <td>11.768280</td>\n",
       "      <td>8.903616</td>\n",
       "      <td>4.852832</td>\n",
       "      <td>4.613002</td>\n",
       "      <td>32.774661</td>\n",
       "    </tr>\n",
       "    <tr>\n",
       "      <td>4</td>\n",
       "      <td>17.857681</td>\n",
       "      <td>17.808132</td>\n",
       "      <td>12.193753</td>\n",
       "      <td>8.522553</td>\n",
       "      <td>4.437458</td>\n",
       "      <td>6.168170</td>\n",
       "      <td>33.011445</td>\n",
       "    </tr>\n",
       "  </tbody>\n",
       "</table>\n",
       "</div>"
      ],
      "text/plain": [
       "     Economy     Family     Health   Freedom     Trust  Generosity  \\\n",
       "0  18.406617  17.787136  12.408462  8.772506  5.532885    3.911691   \n",
       "1  17.224177  18.545563  12.535908  8.315963  1.870784    5.770401   \n",
       "2  17.609672  18.075993  11.620035  8.627342  6.424472    4.535539   \n",
       "3  19.396437  17.694097  11.768280  8.903616  4.852832    4.613002   \n",
       "4  17.857681  17.808132  12.193753  8.522553  4.437458    6.168170   \n",
       "\n",
       "   Dystopia Residual  \n",
       "0          33.180177  \n",
       "1          35.736146  \n",
       "2          33.108011  \n",
       "3          32.774661  \n",
       "4          33.011445  "
      ]
     },
     "execution_count": 61,
     "metadata": {},
     "output_type": "execute_result"
    }
   ],
   "source": [
    "factor_percentages.head()"
   ]
  },
  {
   "cell_type": "markdown",
   "metadata": {},
   "source": [
    "- ### Reshaping Data with the Melt Function"
   ]
  },
  {
   "cell_type": "markdown",
   "metadata": {},
   "source": [
    "我们可以通过 添加一列描述factor的变量 把以上多个列的values放在一列中，比如：\n",
    "\n",
    "从："
   ]
  },
  {
   "cell_type": "code",
   "execution_count": 62,
   "metadata": {},
   "outputs": [
    {
     "data": {
      "text/html": [
       "<div>\n",
       "<style scoped>\n",
       "    .dataframe tbody tr th:only-of-type {\n",
       "        vertical-align: middle;\n",
       "    }\n",
       "\n",
       "    .dataframe tbody tr th {\n",
       "        vertical-align: top;\n",
       "    }\n",
       "\n",
       "    .dataframe thead th {\n",
       "        text-align: right;\n",
       "    }\n",
       "</style>\n",
       "<table border=\"1\" class=\"dataframe\">\n",
       "  <thead>\n",
       "    <tr style=\"text-align: right;\">\n",
       "      <th></th>\n",
       "      <th>Country</th>\n",
       "      <th>Economy</th>\n",
       "      <th>Family</th>\n",
       "      <th>Health</th>\n",
       "    </tr>\n",
       "  </thead>\n",
       "  <tbody>\n",
       "    <tr>\n",
       "      <td>0</td>\n",
       "      <td>Switzerland</td>\n",
       "      <td>1.39651</td>\n",
       "      <td>1.34951</td>\n",
       "      <td>0.94143</td>\n",
       "    </tr>\n",
       "    <tr>\n",
       "      <td>1</td>\n",
       "      <td>Iceland</td>\n",
       "      <td>1.30232</td>\n",
       "      <td>1.40223</td>\n",
       "      <td>0.94784</td>\n",
       "    </tr>\n",
       "  </tbody>\n",
       "</table>\n",
       "</div>"
      ],
      "text/plain": [
       "       Country  Economy   Family   Health\n",
       "0  Switzerland  1.39651  1.34951  0.94143\n",
       "1      Iceland  1.30232  1.40223  0.94784"
      ]
     },
     "execution_count": 62,
     "metadata": {},
     "output_type": "execute_result"
    }
   ],
   "source": [
    "happy_two = happiness2015[['Country','Economy', 'Family', 'Health']][:2]\n",
    "happy_two"
   ]
  },
  {
   "cell_type": "markdown",
   "metadata": {},
   "source": [
    "到："
   ]
  },
  {
   "cell_type": "code",
   "execution_count": 63,
   "metadata": {},
   "outputs": [
    {
     "data": {
      "text/html": [
       "<div>\n",
       "<style scoped>\n",
       "    .dataframe tbody tr th:only-of-type {\n",
       "        vertical-align: middle;\n",
       "    }\n",
       "\n",
       "    .dataframe tbody tr th {\n",
       "        vertical-align: top;\n",
       "    }\n",
       "\n",
       "    .dataframe thead th {\n",
       "        text-align: right;\n",
       "    }\n",
       "</style>\n",
       "<table border=\"1\" class=\"dataframe\">\n",
       "  <thead>\n",
       "    <tr style=\"text-align: right;\">\n",
       "      <th></th>\n",
       "      <th>Country</th>\n",
       "      <th>variable</th>\n",
       "      <th>value</th>\n",
       "    </tr>\n",
       "  </thead>\n",
       "  <tbody>\n",
       "    <tr>\n",
       "      <td>0</td>\n",
       "      <td>Switzerland</td>\n",
       "      <td>Economy</td>\n",
       "      <td>1.39651</td>\n",
       "    </tr>\n",
       "    <tr>\n",
       "      <td>1</td>\n",
       "      <td>Iceland</td>\n",
       "      <td>Economy</td>\n",
       "      <td>1.30232</td>\n",
       "    </tr>\n",
       "    <tr>\n",
       "      <td>2</td>\n",
       "      <td>Switzerland</td>\n",
       "      <td>Family</td>\n",
       "      <td>1.34951</td>\n",
       "    </tr>\n",
       "    <tr>\n",
       "      <td>3</td>\n",
       "      <td>Iceland</td>\n",
       "      <td>Family</td>\n",
       "      <td>1.40223</td>\n",
       "    </tr>\n",
       "    <tr>\n",
       "      <td>4</td>\n",
       "      <td>Switzerland</td>\n",
       "      <td>Health</td>\n",
       "      <td>0.94143</td>\n",
       "    </tr>\n",
       "    <tr>\n",
       "      <td>5</td>\n",
       "      <td>Iceland</td>\n",
       "      <td>Health</td>\n",
       "      <td>0.94784</td>\n",
       "    </tr>\n",
       "  </tbody>\n",
       "</table>\n",
       "</div>"
      ],
      "text/plain": [
       "       Country variable    value\n",
       "0  Switzerland  Economy  1.39651\n",
       "1      Iceland  Economy  1.30232\n",
       "2  Switzerland   Family  1.34951\n",
       "3      Iceland   Family  1.40223\n",
       "4  Switzerland   Health  0.94143\n",
       "5      Iceland   Health  0.94784"
      ]
     },
     "execution_count": 63,
     "metadata": {},
     "output_type": "execute_result"
    }
   ],
   "source": [
    "pd.melt(happy_two, id_vars=['Country'], value_vars=['Economy', 'Family', 'Health'])"
   ]
  },
  {
   "cell_type": "markdown",
   "metadata": {},
   "source": [
    "![Melt_Syntax](Melt_Syntax.svg)"
   ]
  },
  {
   "cell_type": "code",
   "execution_count": 64,
   "metadata": {},
   "outputs": [],
   "source": [
    "main_cols = ['Country', 'Region', 'Happiness Rank', 'Happiness Score']\n",
    "factors = ['Economy', 'Family', 'Health', 'Freedom', 'Trust', 'Generosity', 'Dystopia Residual']\n",
    "\n",
    "melt = pd.melt(happiness2015, id_vars=main_cols, value_vars=factors)\n",
    "melt['Percentage'] = round((melt['value'] / melt['Happiness Score']) * 100, 2)"
   ]
  },
  {
   "cell_type": "code",
   "execution_count": 65,
   "metadata": {},
   "outputs": [
    {
     "data": {
      "text/html": [
       "<div>\n",
       "<style scoped>\n",
       "    .dataframe tbody tr th:only-of-type {\n",
       "        vertical-align: middle;\n",
       "    }\n",
       "\n",
       "    .dataframe tbody tr th {\n",
       "        vertical-align: top;\n",
       "    }\n",
       "\n",
       "    .dataframe thead th {\n",
       "        text-align: right;\n",
       "    }\n",
       "</style>\n",
       "<table border=\"1\" class=\"dataframe\">\n",
       "  <thead>\n",
       "    <tr style=\"text-align: right;\">\n",
       "      <th></th>\n",
       "      <th>Country</th>\n",
       "      <th>Region</th>\n",
       "      <th>Happiness Rank</th>\n",
       "      <th>Happiness Score</th>\n",
       "      <th>variable</th>\n",
       "      <th>value</th>\n",
       "      <th>Percentage</th>\n",
       "    </tr>\n",
       "  </thead>\n",
       "  <tbody>\n",
       "    <tr>\n",
       "      <td>0</td>\n",
       "      <td>Switzerland</td>\n",
       "      <td>Western Europe</td>\n",
       "      <td>1</td>\n",
       "      <td>7.587</td>\n",
       "      <td>Economy</td>\n",
       "      <td>1.39651</td>\n",
       "      <td>18.41</td>\n",
       "    </tr>\n",
       "    <tr>\n",
       "      <td>1</td>\n",
       "      <td>Iceland</td>\n",
       "      <td>Western Europe</td>\n",
       "      <td>2</td>\n",
       "      <td>7.561</td>\n",
       "      <td>Economy</td>\n",
       "      <td>1.30232</td>\n",
       "      <td>17.22</td>\n",
       "    </tr>\n",
       "    <tr>\n",
       "      <td>2</td>\n",
       "      <td>Denmark</td>\n",
       "      <td>Western Europe</td>\n",
       "      <td>3</td>\n",
       "      <td>7.527</td>\n",
       "      <td>Economy</td>\n",
       "      <td>1.32548</td>\n",
       "      <td>17.61</td>\n",
       "    </tr>\n",
       "    <tr>\n",
       "      <td>3</td>\n",
       "      <td>Norway</td>\n",
       "      <td>Western Europe</td>\n",
       "      <td>4</td>\n",
       "      <td>7.522</td>\n",
       "      <td>Economy</td>\n",
       "      <td>1.45900</td>\n",
       "      <td>19.40</td>\n",
       "    </tr>\n",
       "    <tr>\n",
       "      <td>4</td>\n",
       "      <td>Canada</td>\n",
       "      <td>North America</td>\n",
       "      <td>5</td>\n",
       "      <td>7.427</td>\n",
       "      <td>Economy</td>\n",
       "      <td>1.32629</td>\n",
       "      <td>17.86</td>\n",
       "    </tr>\n",
       "  </tbody>\n",
       "</table>\n",
       "</div>"
      ],
      "text/plain": [
       "       Country          Region  Happiness Rank  Happiness Score variable  \\\n",
       "0  Switzerland  Western Europe               1            7.587  Economy   \n",
       "1      Iceland  Western Europe               2            7.561  Economy   \n",
       "2      Denmark  Western Europe               3            7.527  Economy   \n",
       "3       Norway  Western Europe               4            7.522  Economy   \n",
       "4       Canada   North America               5            7.427  Economy   \n",
       "\n",
       "     value  Percentage  \n",
       "0  1.39651       18.41  \n",
       "1  1.30232       17.22  \n",
       "2  1.32548       17.61  \n",
       "3  1.45900       19.40  \n",
       "4  1.32629       17.86  "
      ]
     },
     "execution_count": 65,
     "metadata": {},
     "output_type": "execute_result"
    }
   ],
   "source": [
    "melt[:5]"
   ]
  },
  {
   "cell_type": "code",
   "execution_count": 66,
   "metadata": {
    "scrolled": true
   },
   "outputs": [
    {
     "data": {
      "text/plain": [
       "<matplotlib.axes._subplots.AxesSubplot at 0x7fc1a0d15c90>"
      ]
     },
     "execution_count": 66,
     "metadata": {},
     "output_type": "execute_result"
    },
    {
     "data": {
      "image/png": "[encoded data removed]",
      "text/plain": [
       "<Figure size 432x288 with 1 Axes>"
      ]
     },
     "metadata": {},
     "output_type": "display_data"
    }
   ],
   "source": [
    "pv_melt = melt.pivot_table(index='variable', values='value', aggfunc='mean')\n",
    "pv_melt.plot(kind='pie', y='value', legend=False)"
   ]
  },
  {
   "cell_type": "markdown",
   "metadata": {},
   "source": [
    "**总结**:\n",
    "\n",
    "|Method | Series or Dataframe Method | Applies Functions Element-wise?|\n",
    "|-------|----------------------------|--------------------------------|\n",
    "|`Map`|\tSeries|\tYes|\n",
    "|`Apply`|\tSeries\t|Yes|\n",
    "|`Applymap`\t|Dataframe\t|Yes|\n",
    "|`Apply`|\tDataframe\t|No, applies functions along an axis|"
   ]
  },
  {
   "cell_type": "markdown",
   "metadata": {},
   "source": [
    "此外，还有一种 \"un-melt\" 的方法，即把列的信息转化到行（与`melt`相反），该方法为[df.pivot](https://pandas.pydata.org/pandas-docs/stable/reference/api/pandas.DataFrame.pivot.html)（并非数据透视表的`df.pivot_table`）"
   ]
  },
  {
   "cell_type": "code",
   "execution_count": 67,
   "metadata": {},
   "outputs": [
    {
     "data": {
      "text/html": [
       "<div>\n",
       "<style scoped>\n",
       "    .dataframe tbody tr th:only-of-type {\n",
       "        vertical-align: middle;\n",
       "    }\n",
       "\n",
       "    .dataframe tbody tr th {\n",
       "        vertical-align: top;\n",
       "    }\n",
       "\n",
       "    .dataframe thead th {\n",
       "        text-align: right;\n",
       "    }\n",
       "</style>\n",
       "<table border=\"1\" class=\"dataframe\">\n",
       "  <thead>\n",
       "    <tr style=\"text-align: right;\">\n",
       "      <th></th>\n",
       "      <th>foo</th>\n",
       "      <th>bar</th>\n",
       "      <th>baz</th>\n",
       "      <th>zoo</th>\n",
       "    </tr>\n",
       "  </thead>\n",
       "  <tbody>\n",
       "    <tr>\n",
       "      <td>0</td>\n",
       "      <td>one</td>\n",
       "      <td>A</td>\n",
       "      <td>1</td>\n",
       "      <td>x</td>\n",
       "    </tr>\n",
       "    <tr>\n",
       "      <td>1</td>\n",
       "      <td>one</td>\n",
       "      <td>B</td>\n",
       "      <td>2</td>\n",
       "      <td>y</td>\n",
       "    </tr>\n",
       "    <tr>\n",
       "      <td>2</td>\n",
       "      <td>one</td>\n",
       "      <td>C</td>\n",
       "      <td>3</td>\n",
       "      <td>z</td>\n",
       "    </tr>\n",
       "    <tr>\n",
       "      <td>3</td>\n",
       "      <td>two</td>\n",
       "      <td>A</td>\n",
       "      <td>4</td>\n",
       "      <td>q</td>\n",
       "    </tr>\n",
       "    <tr>\n",
       "      <td>4</td>\n",
       "      <td>two</td>\n",
       "      <td>B</td>\n",
       "      <td>5</td>\n",
       "      <td>w</td>\n",
       "    </tr>\n",
       "    <tr>\n",
       "      <td>5</td>\n",
       "      <td>two</td>\n",
       "      <td>C</td>\n",
       "      <td>6</td>\n",
       "      <td>t</td>\n",
       "    </tr>\n",
       "  </tbody>\n",
       "</table>\n",
       "</div>"
      ],
      "text/plain": [
       "   foo bar  baz zoo\n",
       "0  one   A    1   x\n",
       "1  one   B    2   y\n",
       "2  one   C    3   z\n",
       "3  two   A    4   q\n",
       "4  two   B    5   w\n",
       "5  two   C    6   t"
      ]
     },
     "execution_count": 67,
     "metadata": {},
     "output_type": "execute_result"
    }
   ],
   "source": [
    "df = pd.DataFrame({'foo': ['one', 'one', 'one', 'two', 'two',\n",
    "                           'two'],\n",
    "                   'bar': ['A', 'B', 'C', 'A', 'B', 'C'],\n",
    "                   'baz': [1, 2, 3, 4, 5, 6],\n",
    "                   'zoo': ['x', 'y', 'z', 'q', 'w', 't']})\n",
    "df"
   ]
  },
  {
   "cell_type": "code",
   "execution_count": 68,
   "metadata": {},
   "outputs": [
    {
     "data": {
      "text/html": [
       "<div>\n",
       "<style scoped>\n",
       "    .dataframe tbody tr th:only-of-type {\n",
       "        vertical-align: middle;\n",
       "    }\n",
       "\n",
       "    .dataframe tbody tr th {\n",
       "        vertical-align: top;\n",
       "    }\n",
       "\n",
       "    .dataframe thead tr th {\n",
       "        text-align: left;\n",
       "    }\n",
       "\n",
       "    .dataframe thead tr:last-of-type th {\n",
       "        text-align: right;\n",
       "    }\n",
       "</style>\n",
       "<table border=\"1\" class=\"dataframe\">\n",
       "  <thead>\n",
       "    <tr>\n",
       "      <th></th>\n",
       "      <th colspan=\"3\" halign=\"left\">baz</th>\n",
       "      <th colspan=\"3\" halign=\"left\">zoo</th>\n",
       "    </tr>\n",
       "    <tr>\n",
       "      <th>bar</th>\n",
       "      <th>A</th>\n",
       "      <th>B</th>\n",
       "      <th>C</th>\n",
       "      <th>A</th>\n",
       "      <th>B</th>\n",
       "      <th>C</th>\n",
       "    </tr>\n",
       "    <tr>\n",
       "      <th>foo</th>\n",
       "      <th></th>\n",
       "      <th></th>\n",
       "      <th></th>\n",
       "      <th></th>\n",
       "      <th></th>\n",
       "      <th></th>\n",
       "    </tr>\n",
       "  </thead>\n",
       "  <tbody>\n",
       "    <tr>\n",
       "      <td>one</td>\n",
       "      <td>1</td>\n",
       "      <td>2</td>\n",
       "      <td>3</td>\n",
       "      <td>x</td>\n",
       "      <td>y</td>\n",
       "      <td>z</td>\n",
       "    </tr>\n",
       "    <tr>\n",
       "      <td>two</td>\n",
       "      <td>4</td>\n",
       "      <td>5</td>\n",
       "      <td>6</td>\n",
       "      <td>q</td>\n",
       "      <td>w</td>\n",
       "      <td>t</td>\n",
       "    </tr>\n",
       "  </tbody>\n",
       "</table>\n",
       "</div>"
      ],
      "text/plain": [
       "    baz       zoo      \n",
       "bar   A  B  C   A  B  C\n",
       "foo                    \n",
       "one   1  2  3   x  y  z\n",
       "two   4  5  6   q  w  t"
      ]
     },
     "execution_count": 68,
     "metadata": {},
     "output_type": "execute_result"
    }
   ],
   "source": [
    "df.pivot(index='foo', columns='bar')"
   ]
  },
  {
   "cell_type": "code",
   "execution_count": 69,
   "metadata": {
    "scrolled": true
   },
   "outputs": [
    {
     "data": {
      "text/html": [
       "<div>\n",
       "<style scoped>\n",
       "    .dataframe tbody tr th:only-of-type {\n",
       "        vertical-align: middle;\n",
       "    }\n",
       "\n",
       "    .dataframe tbody tr th {\n",
       "        vertical-align: top;\n",
       "    }\n",
       "\n",
       "    .dataframe thead th {\n",
       "        text-align: right;\n",
       "    }\n",
       "</style>\n",
       "<table border=\"1\" class=\"dataframe\">\n",
       "  <thead>\n",
       "    <tr style=\"text-align: right;\">\n",
       "      <th>bar</th>\n",
       "      <th>A</th>\n",
       "      <th>B</th>\n",
       "      <th>C</th>\n",
       "    </tr>\n",
       "    <tr>\n",
       "      <th>foo</th>\n",
       "      <th></th>\n",
       "      <th></th>\n",
       "      <th></th>\n",
       "    </tr>\n",
       "  </thead>\n",
       "  <tbody>\n",
       "    <tr>\n",
       "      <td>one</td>\n",
       "      <td>1</td>\n",
       "      <td>2</td>\n",
       "      <td>3</td>\n",
       "    </tr>\n",
       "    <tr>\n",
       "      <td>two</td>\n",
       "      <td>4</td>\n",
       "      <td>5</td>\n",
       "      <td>6</td>\n",
       "    </tr>\n",
       "  </tbody>\n",
       "</table>\n",
       "</div>"
      ],
      "text/plain": [
       "bar  A  B  C\n",
       "foo         \n",
       "one  1  2  3\n",
       "two  4  5  6"
      ]
     },
     "execution_count": 69,
     "metadata": {},
     "output_type": "execute_result"
    }
   ],
   "source": [
    "df.pivot(index='foo', columns='bar', values='baz')"
   ]
  },
  {
   "cell_type": "code",
   "execution_count": 70,
   "metadata": {},
   "outputs": [
    {
     "data": {
      "text/html": [
       "<div>\n",
       "<style scoped>\n",
       "    .dataframe tbody tr th:only-of-type {\n",
       "        vertical-align: middle;\n",
       "    }\n",
       "\n",
       "    .dataframe tbody tr th {\n",
       "        vertical-align: top;\n",
       "    }\n",
       "\n",
       "    .dataframe thead tr th {\n",
       "        text-align: left;\n",
       "    }\n",
       "\n",
       "    .dataframe thead tr:last-of-type th {\n",
       "        text-align: right;\n",
       "    }\n",
       "</style>\n",
       "<table border=\"1\" class=\"dataframe\">\n",
       "  <thead>\n",
       "    <tr>\n",
       "      <th></th>\n",
       "      <th colspan=\"3\" halign=\"left\">baz</th>\n",
       "      <th colspan=\"3\" halign=\"left\">zoo</th>\n",
       "    </tr>\n",
       "    <tr>\n",
       "      <th>bar</th>\n",
       "      <th>A</th>\n",
       "      <th>B</th>\n",
       "      <th>C</th>\n",
       "      <th>A</th>\n",
       "      <th>B</th>\n",
       "      <th>C</th>\n",
       "    </tr>\n",
       "    <tr>\n",
       "      <th>foo</th>\n",
       "      <th></th>\n",
       "      <th></th>\n",
       "      <th></th>\n",
       "      <th></th>\n",
       "      <th></th>\n",
       "      <th></th>\n",
       "    </tr>\n",
       "  </thead>\n",
       "  <tbody>\n",
       "    <tr>\n",
       "      <td>one</td>\n",
       "      <td>1</td>\n",
       "      <td>2</td>\n",
       "      <td>3</td>\n",
       "      <td>x</td>\n",
       "      <td>y</td>\n",
       "      <td>z</td>\n",
       "    </tr>\n",
       "    <tr>\n",
       "      <td>two</td>\n",
       "      <td>4</td>\n",
       "      <td>5</td>\n",
       "      <td>6</td>\n",
       "      <td>q</td>\n",
       "      <td>w</td>\n",
       "      <td>t</td>\n",
       "    </tr>\n",
       "  </tbody>\n",
       "</table>\n",
       "</div>"
      ],
      "text/plain": [
       "    baz       zoo      \n",
       "bar   A  B  C   A  B  C\n",
       "foo                    \n",
       "one   1  2  3   x  y  z\n",
       "two   4  5  6   q  w  t"
      ]
     },
     "execution_count": 70,
     "metadata": {},
     "output_type": "execute_result"
    }
   ],
   "source": [
    "df.pivot(index='foo', columns='bar', values=['baz', 'zoo'])"
   ]
  },
  {
   "cell_type": "code",
   "execution_count": 71,
   "metadata": {},
   "outputs": [
    {
     "data": {
      "text/html": [
       "<div>\n",
       "<style scoped>\n",
       "    .dataframe tbody tr th:only-of-type {\n",
       "        vertical-align: middle;\n",
       "    }\n",
       "\n",
       "    .dataframe tbody tr th {\n",
       "        vertical-align: top;\n",
       "    }\n",
       "\n",
       "    .dataframe thead th {\n",
       "        text-align: right;\n",
       "    }\n",
       "</style>\n",
       "<table border=\"1\" class=\"dataframe\">\n",
       "  <thead>\n",
       "    <tr style=\"text-align: right;\">\n",
       "      <th>bar</th>\n",
       "      <th>A</th>\n",
       "      <th>B</th>\n",
       "      <th>C</th>\n",
       "    </tr>\n",
       "    <tr>\n",
       "      <th>foo</th>\n",
       "      <th></th>\n",
       "      <th></th>\n",
       "      <th></th>\n",
       "    </tr>\n",
       "  </thead>\n",
       "  <tbody>\n",
       "    <tr>\n",
       "      <td>one</td>\n",
       "      <td>1</td>\n",
       "      <td>2</td>\n",
       "      <td>3</td>\n",
       "    </tr>\n",
       "    <tr>\n",
       "      <td>two</td>\n",
       "      <td>4</td>\n",
       "      <td>5</td>\n",
       "      <td>6</td>\n",
       "    </tr>\n",
       "  </tbody>\n",
       "</table>\n",
       "</div>"
      ],
      "text/plain": [
       "bar  A  B  C\n",
       "foo         \n",
       "one  1  2  3\n",
       "two  4  5  6"
      ]
     },
     "execution_count": 71,
     "metadata": {},
     "output_type": "execute_result"
    }
   ],
   "source": [
    "df.pivot(index='foo', columns='bar')['baz']"
   ]
  },
  {
   "cell_type": "markdown",
   "metadata": {},
   "source": [
    "# 2.4.4 Working With Strings In Pandas"
   ]
  },
  {
   "cell_type": "markdown",
   "metadata": {},
   "source": [
    "### 复习："
   ]
  },
  {
   "cell_type": "code",
   "execution_count": 72,
   "metadata": {},
   "outputs": [],
   "source": [
    "laptops = pd.read_csv('laptops.csv', encoding='Latin-1')\n",
    "def clean_col(col):\n",
    "    col = col.strip()  # 移除string前后的空格\n",
    "    col = col.replace('Operating System','os')  # 替换\n",
    "    col = col.replace('(','')\n",
    "    col = col.replace(')','')\n",
    "    col = col.replace(' ','_')\n",
    "    col = col.lower() # 小写\n",
    "    return col\n",
    "\n",
    "new_columns = []\n",
    "for c in laptops.columns:  # df.columns 指向列名\n",
    "    clean_c = clean_col(c)\n",
    "    new_columns.append(clean_c)\n",
    "    \n",
    "laptops.columns = new_columns # 可以通过直接更改df.columns更改列名"
   ]
  },
  {
   "cell_type": "code",
   "execution_count": 73,
   "metadata": {},
   "outputs": [],
   "source": [
    "laptops['ram'] = laptops['ram'].str.replace('GB','') # 在 Series.str 后可以调用类似于 string 里的方法\n",
    "unique_ram = laptops['ram'].unique()\n",
    "laptops['ram'] = laptops['ram'].astype(int) # 更改 Series 的数据类型 dtype"
   ]
  },
  {
   "cell_type": "code",
   "execution_count": 74,
   "metadata": {},
   "outputs": [
    {
     "name": "stdout",
     "output_type": "stream",
     "text": [
      "0    Intel Iris Plus Graphics 640\n",
      "1          Intel HD Graphics 6000\n",
      "2           Intel HD Graphics 620\n",
      "3              AMD Radeon Pro 455\n",
      "4    Intel Iris Plus Graphics 650\n",
      "Name: gpu, dtype: object\n"
     ]
    }
   ],
   "source": [
    "print(laptops[\"gpu\"].head())"
   ]
  },
  {
   "cell_type": "code",
   "execution_count": 75,
   "metadata": {},
   "outputs": [
    {
     "data": {
      "text/plain": [
       "0       [Intel, Iris, Plus, Graphics, 640]\n",
       "1              [Intel, HD, Graphics, 6000]\n",
       "2               [Intel, HD, Graphics, 620]\n",
       "3                  [AMD, Radeon, Pro, 455]\n",
       "4       [Intel, Iris, Plus, Graphics, 650]\n",
       "                       ...                \n",
       "1298            [Intel, HD, Graphics, 520]\n",
       "1299            [Intel, HD, Graphics, 520]\n",
       "1300                 [Intel, HD, Graphics]\n",
       "1301               [AMD, Radeon, R5, M330]\n",
       "1302                 [Intel, HD, Graphics]\n",
       "Name: gpu, Length: 1303, dtype: object"
      ]
     },
     "execution_count": 75,
     "metadata": {},
     "output_type": "execute_result"
    }
   ],
   "source": [
    "laptops[\"gpu\"].str.split()  # split()方法将 string 分割，储存在数组里"
   ]
  },
  {
   "cell_type": "code",
   "execution_count": 76,
   "metadata": {},
   "outputs": [
    {
     "data": {
      "text/plain": [
       "Intel      1240\n",
       "AMD          62\n",
       "Samsung       1\n",
       "Name: cpu_manufacturer, dtype: int64"
      ]
     },
     "execution_count": 76,
     "metadata": {},
     "output_type": "execute_result"
    }
   ],
   "source": [
    "laptops['cpu_manufacturer'] = laptops['cpu'].str.split().str[0] # 仅取数组中的第一个元素\n",
    "laptops['cpu_manufacturer'].value_counts()"
   ]
  },
  {
   "cell_type": "code",
   "execution_count": 77,
   "metadata": {},
   "outputs": [
    {
     "data": {
      "text/plain": [
       "0       Intel\n",
       "1       Intel\n",
       "2       Intel\n",
       "3       Intel\n",
       "4       Intel\n",
       "        ...  \n",
       "1298    Intel\n",
       "1299    Intel\n",
       "1300    Intel\n",
       "1301    Intel\n",
       "1302    Intel\n",
       "Name: cpu_manufacturer, Length: 1303, dtype: object"
      ]
     },
     "execution_count": 77,
     "metadata": {},
     "output_type": "execute_result"
    }
   ],
   "source": [
    "laptops['cpu_manufacturer']"
   ]
  },
  {
   "cell_type": "markdown",
   "metadata": {},
   "source": [
    "`Series.map()`传递字典时："
   ]
  },
  {
   "cell_type": "code",
   "execution_count": 78,
   "metadata": {},
   "outputs": [],
   "source": [
    "mapping_dict = {\n",
    "    'Android': 'Android',\n",
    "    'Chrome OS': 'Chrome OS',\n",
    "    'Linux': 'Linux',\n",
    "    'Mac OS': 'macOS',\n",
    "    'No OS': 'No OS',\n",
    "    'Windows': 'Windows',\n",
    "    'macOS': 'macOS'\n",
    "}\n",
    "\n",
    "laptops['os'] = laptops['os'].map(mapping_dict)  # 按照key替换value"
   ]
  },
  {
   "cell_type": "code",
   "execution_count": 79,
   "metadata": {},
   "outputs": [],
   "source": [
    "bad = ['k', 'g', 's']  # 用循环替换数据中的字符\n",
    "for word in bad:\n",
    "    laptops['weight'] = laptops['weight'].str.replace(word,'')\n",
    "    \n",
    "laptops.rename({'weight':'weight_kg'}, inplace = True, axis = 1)\n",
    "laptops['weight_kg'] = laptops['weight_kg'].astype(float)"
   ]
  },
  {
   "cell_type": "markdown",
   "metadata": {},
   "source": [
    "以上可以看出，所有的方法都是基于Series的，所以无论是`Series.str.strip` 还是 `Series.map()`, 都是对整列的所有元素执行操作"
   ]
  },
  {
   "cell_type": "markdown",
   "metadata": {},
   "source": [
    "- ### Introduction"
   ]
  },
  {
   "cell_type": "markdown",
   "metadata": {},
   "source": [
    "In this mission, we'll learn a couple other string cleaning tasks such as:\n",
    "\n",
    "- Finding specific strings or substrings in columns\n",
    "- Extracting substrings from unstructured data\n",
    "- Removing strings or substrings from a series"
   ]
  },
  {
   "cell_type": "markdown",
   "metadata": {},
   "source": [
    "We'll work with the 2015 **World Happiness Report** again and additional economic data from the **World Bank**. "
   ]
  },
  {
   "cell_type": "code",
   "execution_count": 80,
   "metadata": {},
   "outputs": [
    {
     "data": {
      "text/html": [
       "<div>\n",
       "<style scoped>\n",
       "    .dataframe tbody tr th:only-of-type {\n",
       "        vertical-align: middle;\n",
       "    }\n",
       "\n",
       "    .dataframe tbody tr th {\n",
       "        vertical-align: top;\n",
       "    }\n",
       "\n",
       "    .dataframe thead th {\n",
       "        text-align: right;\n",
       "    }\n",
       "</style>\n",
       "<table border=\"1\" class=\"dataframe\">\n",
       "  <thead>\n",
       "    <tr style=\"text-align: right;\">\n",
       "      <th></th>\n",
       "      <th>CountryCode</th>\n",
       "      <th>ShortName</th>\n",
       "      <th>TableName</th>\n",
       "      <th>LongName</th>\n",
       "      <th>Alpha2Code</th>\n",
       "      <th>CurrencyUnit</th>\n",
       "      <th>SpecialNotes</th>\n",
       "      <th>Region</th>\n",
       "      <th>IncomeGroup</th>\n",
       "      <th>Wb2Code</th>\n",
       "      <th>...</th>\n",
       "      <th>GovernmentAccountingConcept</th>\n",
       "      <th>ImfDataDisseminationStandard</th>\n",
       "      <th>LatestPopulationCensus</th>\n",
       "      <th>LatestHouseholdSurvey</th>\n",
       "      <th>SourceOfMostRecentIncomeAndExpenditureData</th>\n",
       "      <th>VitalRegistrationComplete</th>\n",
       "      <th>LatestAgriculturalCensus</th>\n",
       "      <th>LatestIndustrialData</th>\n",
       "      <th>LatestTradeData</th>\n",
       "      <th>LatestWaterWithdrawalData</th>\n",
       "    </tr>\n",
       "  </thead>\n",
       "  <tbody>\n",
       "    <tr>\n",
       "      <td>0</td>\n",
       "      <td>AFG</td>\n",
       "      <td>Afghanistan</td>\n",
       "      <td>Afghanistan</td>\n",
       "      <td>Islamic State of Afghanistan</td>\n",
       "      <td>AF</td>\n",
       "      <td>Afghan afghani</td>\n",
       "      <td>Fiscal year end: March 20; reporting period fo...</td>\n",
       "      <td>South Asia</td>\n",
       "      <td>Low income</td>\n",
       "      <td>AF</td>\n",
       "      <td>...</td>\n",
       "      <td>Consolidated central government</td>\n",
       "      <td>General Data Dissemination System (GDDS)</td>\n",
       "      <td>1979</td>\n",
       "      <td>Multiple Indicator Cluster Survey (MICS), 2010/11</td>\n",
       "      <td>Integrated household survey (IHS), 2008</td>\n",
       "      <td>NaN</td>\n",
       "      <td>2013/14</td>\n",
       "      <td>NaN</td>\n",
       "      <td>2013.0</td>\n",
       "      <td>2000.0</td>\n",
       "    </tr>\n",
       "    <tr>\n",
       "      <td>1</td>\n",
       "      <td>ALB</td>\n",
       "      <td>Albania</td>\n",
       "      <td>Albania</td>\n",
       "      <td>Republic of Albania</td>\n",
       "      <td>AL</td>\n",
       "      <td>Albanian lek</td>\n",
       "      <td>NaN</td>\n",
       "      <td>Europe &amp; Central Asia</td>\n",
       "      <td>Upper middle income</td>\n",
       "      <td>AL</td>\n",
       "      <td>...</td>\n",
       "      <td>Budgetary central government</td>\n",
       "      <td>General Data Dissemination System (GDDS)</td>\n",
       "      <td>2011</td>\n",
       "      <td>Demographic and Health Survey (DHS), 2008/09</td>\n",
       "      <td>Living Standards Measurement Study Survey (LSM...</td>\n",
       "      <td>Yes</td>\n",
       "      <td>2012</td>\n",
       "      <td>2011.0</td>\n",
       "      <td>2013.0</td>\n",
       "      <td>2006.0</td>\n",
       "    </tr>\n",
       "    <tr>\n",
       "      <td>2</td>\n",
       "      <td>DZA</td>\n",
       "      <td>Algeria</td>\n",
       "      <td>Algeria</td>\n",
       "      <td>People's Democratic Republic of Algeria</td>\n",
       "      <td>DZ</td>\n",
       "      <td>Algerian dinar</td>\n",
       "      <td>NaN</td>\n",
       "      <td>Middle East &amp; North Africa</td>\n",
       "      <td>Upper middle income</td>\n",
       "      <td>DZ</td>\n",
       "      <td>...</td>\n",
       "      <td>Budgetary central government</td>\n",
       "      <td>General Data Dissemination System (GDDS)</td>\n",
       "      <td>2008</td>\n",
       "      <td>Multiple Indicator Cluster Survey (MICS), 2012</td>\n",
       "      <td>Integrated household survey (IHS), 1995</td>\n",
       "      <td>NaN</td>\n",
       "      <td>NaN</td>\n",
       "      <td>2010.0</td>\n",
       "      <td>2013.0</td>\n",
       "      <td>2001.0</td>\n",
       "    </tr>\n",
       "    <tr>\n",
       "      <td>3</td>\n",
       "      <td>ASM</td>\n",
       "      <td>American Samoa</td>\n",
       "      <td>American Samoa</td>\n",
       "      <td>American Samoa</td>\n",
       "      <td>AS</td>\n",
       "      <td>U.S. dollar</td>\n",
       "      <td>NaN</td>\n",
       "      <td>East Asia &amp; Pacific</td>\n",
       "      <td>Upper middle income</td>\n",
       "      <td>AS</td>\n",
       "      <td>...</td>\n",
       "      <td>NaN</td>\n",
       "      <td>NaN</td>\n",
       "      <td>2010</td>\n",
       "      <td>NaN</td>\n",
       "      <td>NaN</td>\n",
       "      <td>Yes</td>\n",
       "      <td>2007</td>\n",
       "      <td>NaN</td>\n",
       "      <td>NaN</td>\n",
       "      <td>NaN</td>\n",
       "    </tr>\n",
       "    <tr>\n",
       "      <td>4</td>\n",
       "      <td>ADO</td>\n",
       "      <td>Andorra</td>\n",
       "      <td>Andorra</td>\n",
       "      <td>Principality of Andorra</td>\n",
       "      <td>AD</td>\n",
       "      <td>Euro</td>\n",
       "      <td>NaN</td>\n",
       "      <td>Europe &amp; Central Asia</td>\n",
       "      <td>High income: nonOECD</td>\n",
       "      <td>AD</td>\n",
       "      <td>...</td>\n",
       "      <td>NaN</td>\n",
       "      <td>NaN</td>\n",
       "      <td>2011. Population data compiled from administra...</td>\n",
       "      <td>NaN</td>\n",
       "      <td>NaN</td>\n",
       "      <td>Yes</td>\n",
       "      <td>NaN</td>\n",
       "      <td>NaN</td>\n",
       "      <td>2006.0</td>\n",
       "      <td>NaN</td>\n",
       "    </tr>\n",
       "  </tbody>\n",
       "</table>\n",
       "<p>5 rows × 31 columns</p>\n",
       "</div>"
      ],
      "text/plain": [
       "  CountryCode       ShortName       TableName  \\\n",
       "0         AFG     Afghanistan     Afghanistan   \n",
       "1         ALB         Albania         Albania   \n",
       "2         DZA         Algeria         Algeria   \n",
       "3         ASM  American Samoa  American Samoa   \n",
       "4         ADO         Andorra         Andorra   \n",
       "\n",
       "                                  LongName Alpha2Code    CurrencyUnit  \\\n",
       "0             Islamic State of Afghanistan         AF  Afghan afghani   \n",
       "1                      Republic of Albania         AL    Albanian lek   \n",
       "2  People's Democratic Republic of Algeria         DZ  Algerian dinar   \n",
       "3                           American Samoa         AS     U.S. dollar   \n",
       "4                  Principality of Andorra         AD            Euro   \n",
       "\n",
       "                                        SpecialNotes  \\\n",
       "0  Fiscal year end: March 20; reporting period fo...   \n",
       "1                                                NaN   \n",
       "2                                                NaN   \n",
       "3                                                NaN   \n",
       "4                                                NaN   \n",
       "\n",
       "                       Region           IncomeGroup Wb2Code  ...  \\\n",
       "0                  South Asia            Low income      AF  ...   \n",
       "1       Europe & Central Asia   Upper middle income      AL  ...   \n",
       "2  Middle East & North Africa   Upper middle income      DZ  ...   \n",
       "3         East Asia & Pacific   Upper middle income      AS  ...   \n",
       "4       Europe & Central Asia  High income: nonOECD      AD  ...   \n",
       "\n",
       "       GovernmentAccountingConcept              ImfDataDisseminationStandard  \\\n",
       "0  Consolidated central government  General Data Dissemination System (GDDS)   \n",
       "1     Budgetary central government  General Data Dissemination System (GDDS)   \n",
       "2     Budgetary central government  General Data Dissemination System (GDDS)   \n",
       "3                              NaN                                       NaN   \n",
       "4                              NaN                                       NaN   \n",
       "\n",
       "                              LatestPopulationCensus  \\\n",
       "0                                               1979   \n",
       "1                                               2011   \n",
       "2                                               2008   \n",
       "3                                               2010   \n",
       "4  2011. Population data compiled from administra...   \n",
       "\n",
       "                               LatestHouseholdSurvey  \\\n",
       "0  Multiple Indicator Cluster Survey (MICS), 2010/11   \n",
       "1       Demographic and Health Survey (DHS), 2008/09   \n",
       "2     Multiple Indicator Cluster Survey (MICS), 2012   \n",
       "3                                                NaN   \n",
       "4                                                NaN   \n",
       "\n",
       "          SourceOfMostRecentIncomeAndExpenditureData  \\\n",
       "0            Integrated household survey (IHS), 2008   \n",
       "1  Living Standards Measurement Study Survey (LSM...   \n",
       "2            Integrated household survey (IHS), 1995   \n",
       "3                                                NaN   \n",
       "4                                                NaN   \n",
       "\n",
       "  VitalRegistrationComplete LatestAgriculturalCensus LatestIndustrialData  \\\n",
       "0                       NaN                  2013/14                  NaN   \n",
       "1                       Yes                     2012               2011.0   \n",
       "2                       NaN                      NaN               2010.0   \n",
       "3                       Yes                     2007                  NaN   \n",
       "4                       Yes                      NaN                  NaN   \n",
       "\n",
       "  LatestTradeData LatestWaterWithdrawalData  \n",
       "0          2013.0                    2000.0  \n",
       "1          2013.0                    2006.0  \n",
       "2          2013.0                    2001.0  \n",
       "3             NaN                       NaN  \n",
       "4          2006.0                       NaN  \n",
       "\n",
       "[5 rows x 31 columns]"
      ]
     },
     "execution_count": 80,
     "metadata": {},
     "output_type": "execute_result"
    }
   ],
   "source": [
    "world_dev = pd.read_csv(\"World_dev.csv\")\n",
    "world_dev[:5]"
   ]
  },
  {
   "cell_type": "markdown",
   "metadata": {},
   "source": [
    "Below are descriptions for the columns we'll be working with:\n",
    "\n",
    "- `ShortName` - Name of the country\n",
    "- `Region` - The region the country belongs to\n",
    "- `IncomeGroup` - The income group the country belongs to, based on Gross National Income (GNI) per capita\n",
    "- `CurrencyUnit` - Name of country's currency\n",
    "- `SourceOfMostRecentIncomeAndExpenditureData` - The name of the survey used to collect the income and expenditure data\n",
    "- `SpecialNotes` - Contains any miscellaneous notes about the data"
   ]
  },
  {
   "cell_type": "markdown",
   "metadata": {},
   "source": [
    "当key的名字不同时，`pd.merge()`的语法：\n",
    "\n",
    "`pd.merge(left=df1, right=df2, how='left', left_on='left_df_Column_Name', right_on='right_df_Column_Name')`"
   ]
  },
  {
   "cell_type": "code",
   "execution_count": 81,
   "metadata": {},
   "outputs": [],
   "source": [
    "merged = pd.merge(left=happiness2015, right=world_dev, left_on='Country',\n",
    "                  right_on='ShortName', how='left')\n",
    "\n",
    "col_renaming = {'SourceOfMostRecentIncomeAndExpenditureData': 'IESurvey'}\n",
    "merged.rename(col_renaming, axis=1, inplace=True)"
   ]
  },
  {
   "cell_type": "markdown",
   "metadata": {},
   "source": [
    "- ### Using Apply to Transform Strings"
   ]
  },
  {
   "cell_type": "markdown",
   "metadata": {},
   "source": [
    "Let's work with the `CurrencyUnit` column first. Suppose we wanted to extract the unit of currency without the leading nationality. For example, instead of \"Danish krone\" or \"Norwegian krone\", we just needed \"krone\".\n",
    "\n",
    "用`string.split()`实现"
   ]
  },
  {
   "cell_type": "code",
   "execution_count": 82,
   "metadata": {},
   "outputs": [
    {
     "data": {
      "text/plain": [
       "'krone'"
      ]
     },
     "execution_count": 82,
     "metadata": {},
     "output_type": "execute_result"
    }
   ],
   "source": [
    "words = 'Danish krone'\n",
    "\n",
    "#Use the string.split() method to return the following list: ['Danish', 'krone']\n",
    "listwords = words.split()\n",
    "\n",
    "#Use the index -1 to return the last word of the list.\n",
    "listwords[-1]"
   ]
  },
  {
   "cell_type": "code",
   "execution_count": 83,
   "metadata": {},
   "outputs": [
    {
     "data": {
      "text/plain": [
       "0       franc\n",
       "1       krona\n",
       "2       krone\n",
       "3       krone\n",
       "4      dollar\n",
       "        ...  \n",
       "153     franc\n",
       "154     franc\n",
       "155       NaN\n",
       "156     franc\n",
       "157     franc\n",
       "Name: CurrencyUnit, Length: 158, dtype: object"
      ]
     },
     "execution_count": 83,
     "metadata": {},
     "output_type": "execute_result"
    }
   ],
   "source": [
    "merged['CurrencyUnit'].str.split().str[-1]"
   ]
  },
  {
   "cell_type": "code",
   "execution_count": 84,
   "metadata": {},
   "outputs": [
    {
     "data": {
      "text/plain": [
       "0     franc\n",
       "1     krona\n",
       "2     krone\n",
       "3     krone\n",
       "4    dollar\n",
       "Name: Currency Apply, dtype: object"
      ]
     },
     "execution_count": 84,
     "metadata": {},
     "output_type": "execute_result"
    }
   ],
   "source": [
    "def extract_last_word(element):\n",
    "    element = str(element)\n",
    "    return element.split()[-1]\n",
    "\n",
    "merged['Currency Apply'] = merged['CurrencyUnit'].apply(extract_last_word)\n",
    "\n",
    "merged['Currency Apply'].head()"
   ]
  },
  {
   "cell_type": "code",
   "execution_count": 85,
   "metadata": {},
   "outputs": [
    {
     "data": {
      "text/plain": [
       "0     franc\n",
       "1     krona\n",
       "2     krone\n",
       "3     krone\n",
       "4    dollar\n",
       "Name: CurrencyUnit, dtype: object"
      ]
     },
     "execution_count": 85,
     "metadata": {},
     "output_type": "execute_result"
    }
   ],
   "source": [
    "# 等价于 \n",
    "merged['CurrencyUnit'].str.split().str[-1].head() # 向量计算\n",
    "# 不过空值一个显示为NaN，一个为nan，所以两个不完全相等"
   ]
  },
  {
   "cell_type": "markdown",
   "metadata": {},
   "source": [
    "注意：`apply()`和`map()`都是element-wise的，这意味着传递进去的方法都是一个元素一个元素的计算。\n",
    "\n",
    "recall pandas具有向量化运行的特性，即多行或多列一起计算，这意味着使用`apply()`和`map()`的速度要比向量计算慢\n",
    "\n",
    "![Split](Split.png)"
   ]
  },
  {
   "cell_type": "markdown",
   "metadata": {},
   "source": [
    "- ### Vectorized String Methods Overview"
   ]
  },
  {
   "cell_type": "markdown",
   "metadata": {},
   "source": [
    "`str`属性指示应该将Series中的每个对象都视为一个字符串，而不必像使用`apply`方法那样将类型显式更改为字符串。"
   ]
  },
  {
   "cell_type": "markdown",
   "metadata": {},
   "source": [
    "其他的一些string向量化运行方法：\n",
    "\n",
    "|Method\t|Description|\n",
    "|-------|-----------|\n",
    "|Series.str.split()|\tSplits each element in the Series.|\n",
    "|Series.str.strip()|\tStrips whitespace from each string in the Series.|\n",
    "|Series.str.lower()|\tConverts strings in the Series to lowercase.|\n",
    "|Series.str.upper()|\tConverts strings in the Series to uppercase.|\n",
    "|Series.str.get()|\tRetrieves the ith element of each element in the Series.|\n",
    "|Series.str.replace()|\tReplaces a regex or string in the Series with another string.|\n",
    "|Series.str.cat()|\tConcatenates strings in a Series.|\n",
    "|Series.str.extract()|\tExtracts substrings from the Series matching a regex pattern.|"
   ]
  },
  {
   "cell_type": "markdown",
   "metadata": {},
   "source": [
    "Note that we can also slice each element in the Series to extract characters, but we'd still need to use the `str` attribute. For example, below we access the first 5 characters in each element of the `CurrencyUnit` column:"
   ]
  },
  {
   "cell_type": "code",
   "execution_count": 86,
   "metadata": {},
   "outputs": [
    {
     "data": {
      "text/plain": [
       "0    Swiss\n",
       "1    Icela\n",
       "2    Danis\n",
       "Name: CurrencyUnit, dtype: object"
      ]
     },
     "execution_count": 86,
     "metadata": {},
     "output_type": "execute_result"
    }
   ],
   "source": [
    "merged['CurrencyUnit'].str[0:5][:3]"
   ]
  },
  {
   "cell_type": "code",
   "execution_count": 87,
   "metadata": {},
   "outputs": [
    {
     "data": {
      "text/plain": [
       "'Curre'"
      ]
     },
     "execution_count": 87,
     "metadata": {},
     "output_type": "execute_result"
    }
   ],
   "source": [
    "'CurrencyUnit'[:5]"
   ]
  },
  {
   "cell_type": "markdown",
   "metadata": {},
   "source": [
    "String 方法可连在一起写："
   ]
  },
  {
   "cell_type": "code",
   "execution_count": 88,
   "metadata": {},
   "outputs": [
    {
     "data": {
      "text/plain": [
       "0      [SWISS, FRANC]\n",
       "1    [ICELAND, KRONA]\n",
       "2     [DANISH, KRONE]\n",
       "Name: CurrencyUnit, dtype: object"
      ]
     },
     "execution_count": 88,
     "metadata": {},
     "output_type": "execute_result"
    }
   ],
   "source": [
    "merged['CurrencyUnit'].str.upper().str.split()[:3]"
   ]
  },
  {
   "cell_type": "code",
   "execution_count": 89,
   "metadata": {},
   "outputs": [
    {
     "data": {
      "text/plain": [
       "0     franc\n",
       "1     krona\n",
       "2     krone\n",
       "3     krone\n",
       "4    dollar\n",
       "Name: Currency Vectorized, dtype: object"
      ]
     },
     "execution_count": 89,
     "metadata": {},
     "output_type": "execute_result"
    }
   ],
   "source": [
    "merged['Currency Vectorized'] = merged['CurrencyUnit'].str.split().str.get(-1)\n",
    "\n",
    "merged['Currency Vectorized'].head()"
   ]
  },
  {
   "cell_type": "markdown",
   "metadata": {},
   "source": [
    "- ### Exploring Missing Values with Vectorized String Methods"
   ]
  },
  {
   "cell_type": "code",
   "execution_count": 90,
   "metadata": {},
   "outputs": [
    {
     "data": {
      "text/plain": [
       "13"
      ]
     },
     "execution_count": 90,
     "metadata": {},
     "output_type": "execute_result"
    }
   ],
   "source": [
    "merged['CurrencyUnit'].isnull().sum()"
   ]
  },
  {
   "cell_type": "markdown",
   "metadata": {},
   "source": [
    "So, we know that the `CurrencyUnit` column has 13 missing values."
   ]
  },
  {
   "cell_type": "code",
   "execution_count": 118,
   "metadata": {},
   "outputs": [
    {
     "data": {
      "text/plain": [
       "14.0    21\n",
       "4.0     20\n",
       "12.0    17\n",
       "13.0    14\n",
       "NaN     13\n",
       "15.0    13\n",
       "16.0    12\n",
       "18.0     9\n",
       "17.0     9\n",
       "11.0     8\n",
       "22.0     7\n",
       "25.0     5\n",
       "19.0     3\n",
       "9.0      2\n",
       "10.0     1\n",
       "39.0     1\n",
       "26.0     1\n",
       "23.0     1\n",
       "20.0     1\n",
       "Name: CurrencyUnit, dtype: int64"
      ]
     },
     "execution_count": 118,
     "metadata": {},
     "output_type": "execute_result"
    }
   ],
   "source": [
    "lengths = merged['CurrencyUnit'].str.len()\n",
    "lengths.value_counts(dropna=False)"
   ]
  },
  {
   "cell_type": "markdown",
   "metadata": {},
   "source": [
    "value_counts contains `NaN`s, it means`Series.str.len()` method excluded `NaN`s and didn't treat them as strings."
   ]
  },
  {
   "cell_type": "markdown",
   "metadata": {},
   "source": [
    "- ### Finding Specific Words in Strings"
   ]
  },
  {
   "cell_type": "markdown",
   "metadata": {},
   "source": [
    "以上, we identified 3 benefits of using vectorized string methods:\n",
    "\n",
    "- Better performance\n",
    "- Code that is easier to read and write\n",
    "- Automatically excludes missing values"
   ]
  },
  {
   "cell_type": "code",
   "execution_count": 92,
   "metadata": {
    "scrolled": true
   },
   "outputs": [
    {
     "data": {
      "text/plain": [
       "0                                                  NaN\n",
       "1                                                  NaN\n",
       "2                                                  NaN\n",
       "3                                                  NaN\n",
       "4    Fiscal year end: March 31; reporting period fo...\n",
       "Name: SpecialNotes, dtype: object"
      ]
     },
     "execution_count": 92,
     "metadata": {},
     "output_type": "execute_result"
    }
   ],
   "source": [
    "merged['SpecialNotes'][:5]"
   ]
  },
  {
   "cell_type": "markdown",
   "metadata": {},
   "source": [
    "假设我们需要解析一个Series的元素，以查找某一特定的substring，该substring在每个string中的位置不一样。 例如，`SpecialNotes`列中 许多行提到 “national accounts” ，但这些词出现在每个string的不同地方：\n",
    "\n",
    "```April 2013 database update: Based on IMF data, national accounts data were revised for 2000 onward; the **base year** changed to 2002.\n",
    "Based on IMF data, national accounts data have been revised for 2005 onward; the new base year is 2005.```"
   ]
  },
  {
   "cell_type": "markdown",
   "metadata": {},
   "source": [
    "假如想要知道有多少行出现了\"national accounts\",就涉及到了正则表达式的概念（**regular expressions**, or **regex**）\n",
    "\n",
    "正则表达式是描述搜索模式的字符序列，用于匹配字符串中的字符：\n",
    "\n",
    "![Regular_Expressions](Regular_Expressions.png)"
   ]
  },
  {
   "cell_type": "markdown",
   "metadata": {},
   "source": [
    "[Series.str.contains()](https://pandas.pydata.org/pandas-docs/stable/reference/api/pandas.Series.str.contains.html): 检测pattern或regex是否包含在Series或Index的字符串中，返回boolean Series或Index。"
   ]
  },
  {
   "cell_type": "code",
   "execution_count": 93,
   "metadata": {
    "scrolled": true
   },
   "outputs": [
    {
     "data": {
      "text/plain": [
       "0     NaN\n",
       "1     NaN\n",
       "2     NaN\n",
       "3     NaN\n",
       "4    True\n",
       "Name: SpecialNotes, dtype: object"
      ]
     },
     "execution_count": 93,
     "metadata": {},
     "output_type": "execute_result"
    }
   ],
   "source": [
    "pattern = r\"[Nn]ational accounts\"\n",
    "\n",
    "national_accounts = merged['SpecialNotes'].str.contains(pattern)\n",
    "national_accounts.head()"
   ]
  },
  {
   "cell_type": "markdown",
   "metadata": {},
   "source": [
    "中括号`[]` indicate that either **\"national accounts\"** or **\"National accounts\"** should produce a match."
   ]
  },
  {
   "cell_type": "code",
   "execution_count": 94,
   "metadata": {},
   "outputs": [
    {
     "data": {
      "text/plain": [
       "NaN      65\n",
       "True     54\n",
       "False    39\n",
       "Name: SpecialNotes, dtype: int64"
      ]
     },
     "execution_count": 94,
     "metadata": {},
     "output_type": "execute_result"
    }
   ],
   "source": [
    "national_accounts.value_counts(dropna=False)"
   ]
  },
  {
   "cell_type": "markdown",
   "metadata": {},
   "source": [
    "使用 boolean indexing 的方法选取所有`SpecialNotes`列含有\"national accounts\" 或 \"National accounts\" 的数据"
   ]
  },
  {
   "cell_type": "code",
   "execution_count": 95,
   "metadata": {},
   "outputs": [
    {
     "ename": "ValueError",
     "evalue": "cannot index with vector containing NA / NaN values",
     "output_type": "error",
     "traceback": [
      "\u001b[0;31m---------------------------------------------------------------------------\u001b[0m",
      "\u001b[0;31mValueError\u001b[0m                                Traceback (most recent call last)",
      "\u001b[0;32m<ipython-input-95-9c700c3b3679>\u001b[0m in \u001b[0;36m<module>\u001b[0;34m\u001b[0m\n\u001b[0;32m----> 1\u001b[0;31m \u001b[0mmerged\u001b[0m\u001b[0;34m[\u001b[0m\u001b[0mnational_accounts\u001b[0m\u001b[0;34m]\u001b[0m\u001b[0;34m\u001b[0m\u001b[0;34m\u001b[0m\u001b[0m\n\u001b[0m",
      "\u001b[0;32m/opt/anaconda3/lib/python3.7/site-packages/pandas/core/frame.py\u001b[0m in \u001b[0;36m__getitem__\u001b[0;34m(self, key)\u001b[0m\n\u001b[1;32m   2968\u001b[0m \u001b[0;34m\u001b[0m\u001b[0m\n\u001b[1;32m   2969\u001b[0m         \u001b[0;31m# Do we have a (boolean) 1d indexer?\u001b[0m\u001b[0;34m\u001b[0m\u001b[0;34m\u001b[0m\u001b[0;34m\u001b[0m\u001b[0m\n\u001b[0;32m-> 2970\u001b[0;31m         \u001b[0;32mif\u001b[0m \u001b[0mcom\u001b[0m\u001b[0;34m.\u001b[0m\u001b[0mis_bool_indexer\u001b[0m\u001b[0;34m(\u001b[0m\u001b[0mkey\u001b[0m\u001b[0;34m)\u001b[0m\u001b[0;34m:\u001b[0m\u001b[0;34m\u001b[0m\u001b[0;34m\u001b[0m\u001b[0m\n\u001b[0m\u001b[1;32m   2971\u001b[0m             \u001b[0;32mreturn\u001b[0m \u001b[0mself\u001b[0m\u001b[0;34m.\u001b[0m\u001b[0m_getitem_bool_array\u001b[0m\u001b[0;34m(\u001b[0m\u001b[0mkey\u001b[0m\u001b[0;34m)\u001b[0m\u001b[0;34m\u001b[0m\u001b[0;34m\u001b[0m\u001b[0m\n\u001b[1;32m   2972\u001b[0m \u001b[0;34m\u001b[0m\u001b[0m\n",
      "\u001b[0;32m/opt/anaconda3/lib/python3.7/site-packages/pandas/core/common.py\u001b[0m in \u001b[0;36mis_bool_indexer\u001b[0;34m(key)\u001b[0m\n\u001b[1;32m    128\u001b[0m             \u001b[0;32mif\u001b[0m \u001b[0;32mnot\u001b[0m \u001b[0mlib\u001b[0m\u001b[0;34m.\u001b[0m\u001b[0mis_bool_array\u001b[0m\u001b[0;34m(\u001b[0m\u001b[0mkey\u001b[0m\u001b[0;34m)\u001b[0m\u001b[0;34m:\u001b[0m\u001b[0;34m\u001b[0m\u001b[0;34m\u001b[0m\u001b[0m\n\u001b[1;32m    129\u001b[0m                 \u001b[0;32mif\u001b[0m \u001b[0misna\u001b[0m\u001b[0;34m(\u001b[0m\u001b[0mkey\u001b[0m\u001b[0;34m)\u001b[0m\u001b[0;34m.\u001b[0m\u001b[0many\u001b[0m\u001b[0;34m(\u001b[0m\u001b[0;34m)\u001b[0m\u001b[0;34m:\u001b[0m\u001b[0;34m\u001b[0m\u001b[0;34m\u001b[0m\u001b[0m\n\u001b[0;32m--> 130\u001b[0;31m                     \u001b[0;32mraise\u001b[0m \u001b[0mValueError\u001b[0m\u001b[0;34m(\u001b[0m\u001b[0mna_msg\u001b[0m\u001b[0;34m)\u001b[0m\u001b[0;34m\u001b[0m\u001b[0;34m\u001b[0m\u001b[0m\n\u001b[0m\u001b[1;32m    131\u001b[0m                 \u001b[0;32mreturn\u001b[0m \u001b[0;32mFalse\u001b[0m\u001b[0;34m\u001b[0m\u001b[0;34m\u001b[0m\u001b[0m\n\u001b[1;32m    132\u001b[0m             \u001b[0;32mreturn\u001b[0m \u001b[0;32mTrue\u001b[0m\u001b[0;34m\u001b[0m\u001b[0;34m\u001b[0m\u001b[0m\n",
      "\u001b[0;31mValueError\u001b[0m: cannot index with vector containing NA / NaN values"
     ]
    }
   ],
   "source": [
    "merged[national_accounts]"
   ]
  },
  {
   "cell_type": "markdown",
   "metadata": {},
   "source": [
    "报错的原因是`national_accounts`里有空值，\n",
    "\n",
    "解决该问题的一个方法是吧空值转换为`False`\n",
    "![Missing_values](Missing_values.svg)"
   ]
  },
  {
   "cell_type": "code",
   "execution_count": 96,
   "metadata": {
    "scrolled": false
   },
   "outputs": [
    {
     "data": {
      "text/html": [
       "<div>\n",
       "<style scoped>\n",
       "    .dataframe tbody tr th:only-of-type {\n",
       "        vertical-align: middle;\n",
       "    }\n",
       "\n",
       "    .dataframe tbody tr th {\n",
       "        vertical-align: top;\n",
       "    }\n",
       "\n",
       "    .dataframe thead th {\n",
       "        text-align: right;\n",
       "    }\n",
       "</style>\n",
       "<table border=\"1\" class=\"dataframe\">\n",
       "  <thead>\n",
       "    <tr style=\"text-align: right;\">\n",
       "      <th></th>\n",
       "      <th>Country</th>\n",
       "      <th>Region_x</th>\n",
       "      <th>Happiness Rank</th>\n",
       "      <th>Happiness Score</th>\n",
       "      <th>Standard Error</th>\n",
       "      <th>Economy</th>\n",
       "      <th>Family</th>\n",
       "      <th>Health</th>\n",
       "      <th>Freedom</th>\n",
       "      <th>Trust</th>\n",
       "      <th>...</th>\n",
       "      <th>LatestPopulationCensus</th>\n",
       "      <th>LatestHouseholdSurvey</th>\n",
       "      <th>IESurvey</th>\n",
       "      <th>VitalRegistrationComplete</th>\n",
       "      <th>LatestAgriculturalCensus</th>\n",
       "      <th>LatestIndustrialData</th>\n",
       "      <th>LatestTradeData</th>\n",
       "      <th>LatestWaterWithdrawalData</th>\n",
       "      <th>Currency Apply</th>\n",
       "      <th>Currency Vectorized</th>\n",
       "    </tr>\n",
       "  </thead>\n",
       "  <tbody>\n",
       "    <tr>\n",
       "      <td>4</td>\n",
       "      <td>Canada</td>\n",
       "      <td>North America</td>\n",
       "      <td>5</td>\n",
       "      <td>7.427</td>\n",
       "      <td>0.03553</td>\n",
       "      <td>1.32629</td>\n",
       "      <td>1.32261</td>\n",
       "      <td>0.90563</td>\n",
       "      <td>0.63297</td>\n",
       "      <td>0.32957</td>\n",
       "      <td>...</td>\n",
       "      <td>2011</td>\n",
       "      <td>NaN</td>\n",
       "      <td>Labor force survey (LFS), 2010</td>\n",
       "      <td>Yes</td>\n",
       "      <td>2011</td>\n",
       "      <td>2011.0</td>\n",
       "      <td>2013.0</td>\n",
       "      <td>1986.0</td>\n",
       "      <td>dollar</td>\n",
       "      <td>dollar</td>\n",
       "    </tr>\n",
       "    <tr>\n",
       "      <td>7</td>\n",
       "      <td>Sweden</td>\n",
       "      <td>Western Europe</td>\n",
       "      <td>8</td>\n",
       "      <td>7.364</td>\n",
       "      <td>0.03157</td>\n",
       "      <td>1.33171</td>\n",
       "      <td>1.28907</td>\n",
       "      <td>0.91087</td>\n",
       "      <td>0.65980</td>\n",
       "      <td>0.43844</td>\n",
       "      <td>...</td>\n",
       "      <td>2011</td>\n",
       "      <td>NaN</td>\n",
       "      <td>Income survey (IS), 2005</td>\n",
       "      <td>Yes</td>\n",
       "      <td>2010</td>\n",
       "      <td>2010.0</td>\n",
       "      <td>2013.0</td>\n",
       "      <td>2007.0</td>\n",
       "      <td>krona</td>\n",
       "      <td>krona</td>\n",
       "    </tr>\n",
       "    <tr>\n",
       "      <td>8</td>\n",
       "      <td>New Zealand</td>\n",
       "      <td>Australia and New Zealand</td>\n",
       "      <td>9</td>\n",
       "      <td>7.286</td>\n",
       "      <td>0.03371</td>\n",
       "      <td>1.25018</td>\n",
       "      <td>1.31967</td>\n",
       "      <td>0.90837</td>\n",
       "      <td>0.63938</td>\n",
       "      <td>0.42922</td>\n",
       "      <td>...</td>\n",
       "      <td>2013</td>\n",
       "      <td>NaN</td>\n",
       "      <td>NaN</td>\n",
       "      <td>Yes</td>\n",
       "      <td>2012</td>\n",
       "      <td>2010.0</td>\n",
       "      <td>2013.0</td>\n",
       "      <td>2002.0</td>\n",
       "      <td>dollar</td>\n",
       "      <td>dollar</td>\n",
       "    </tr>\n",
       "    <tr>\n",
       "      <td>9</td>\n",
       "      <td>Australia</td>\n",
       "      <td>Australia and New Zealand</td>\n",
       "      <td>10</td>\n",
       "      <td>7.284</td>\n",
       "      <td>0.04083</td>\n",
       "      <td>1.33358</td>\n",
       "      <td>1.30923</td>\n",
       "      <td>0.93156</td>\n",
       "      <td>0.65124</td>\n",
       "      <td>0.35637</td>\n",
       "      <td>...</td>\n",
       "      <td>2011</td>\n",
       "      <td>NaN</td>\n",
       "      <td>Expenditure survey/budget survey (ES/BS), 2003</td>\n",
       "      <td>Yes</td>\n",
       "      <td>2011</td>\n",
       "      <td>2011.0</td>\n",
       "      <td>2013.0</td>\n",
       "      <td>2000.0</td>\n",
       "      <td>dollar</td>\n",
       "      <td>dollar</td>\n",
       "    </tr>\n",
       "    <tr>\n",
       "      <td>14</td>\n",
       "      <td>United States</td>\n",
       "      <td>North America</td>\n",
       "      <td>15</td>\n",
       "      <td>7.119</td>\n",
       "      <td>0.03839</td>\n",
       "      <td>1.39451</td>\n",
       "      <td>1.24711</td>\n",
       "      <td>0.86179</td>\n",
       "      <td>0.54604</td>\n",
       "      <td>0.15890</td>\n",
       "      <td>...</td>\n",
       "      <td>2010</td>\n",
       "      <td>NaN</td>\n",
       "      <td>Labor force survey (LFS), 2010</td>\n",
       "      <td>Yes</td>\n",
       "      <td>2012</td>\n",
       "      <td>2008.0</td>\n",
       "      <td>2013.0</td>\n",
       "      <td>2005.0</td>\n",
       "      <td>dollar</td>\n",
       "      <td>dollar</td>\n",
       "    </tr>\n",
       "  </tbody>\n",
       "</table>\n",
       "<p>5 rows × 48 columns</p>\n",
       "</div>"
      ],
      "text/plain": [
       "          Country                   Region_x  Happiness Rank  Happiness Score  \\\n",
       "4          Canada              North America               5            7.427   \n",
       "7          Sweden             Western Europe               8            7.364   \n",
       "8     New Zealand  Australia and New Zealand               9            7.286   \n",
       "9       Australia  Australia and New Zealand              10            7.284   \n",
       "14  United States              North America              15            7.119   \n",
       "\n",
       "    Standard Error  Economy   Family   Health  Freedom    Trust  ...  \\\n",
       "4          0.03553  1.32629  1.32261  0.90563  0.63297  0.32957  ...   \n",
       "7          0.03157  1.33171  1.28907  0.91087  0.65980  0.43844  ...   \n",
       "8          0.03371  1.25018  1.31967  0.90837  0.63938  0.42922  ...   \n",
       "9          0.04083  1.33358  1.30923  0.93156  0.65124  0.35637  ...   \n",
       "14         0.03839  1.39451  1.24711  0.86179  0.54604  0.15890  ...   \n",
       "\n",
       "    LatestPopulationCensus  LatestHouseholdSurvey  \\\n",
       "4                     2011                    NaN   \n",
       "7                     2011                    NaN   \n",
       "8                     2013                    NaN   \n",
       "9                     2011                    NaN   \n",
       "14                    2010                    NaN   \n",
       "\n",
       "                                          IESurvey VitalRegistrationComplete  \\\n",
       "4                   Labor force survey (LFS), 2010                       Yes   \n",
       "7                         Income survey (IS), 2005                       Yes   \n",
       "8                                              NaN                       Yes   \n",
       "9   Expenditure survey/budget survey (ES/BS), 2003                       Yes   \n",
       "14                  Labor force survey (LFS), 2010                       Yes   \n",
       "\n",
       "    LatestAgriculturalCensus LatestIndustrialData LatestTradeData  \\\n",
       "4                       2011               2011.0          2013.0   \n",
       "7                       2010               2010.0          2013.0   \n",
       "8                       2012               2010.0          2013.0   \n",
       "9                       2011               2011.0          2013.0   \n",
       "14                      2012               2008.0          2013.0   \n",
       "\n",
       "   LatestWaterWithdrawalData Currency Apply Currency Vectorized  \n",
       "4                     1986.0         dollar              dollar  \n",
       "7                     2007.0          krona               krona  \n",
       "8                     2002.0         dollar              dollar  \n",
       "9                     2000.0         dollar              dollar  \n",
       "14                    2005.0         dollar              dollar  \n",
       "\n",
       "[5 rows x 48 columns]"
      ]
     },
     "execution_count": 96,
     "metadata": {},
     "output_type": "execute_result"
    }
   ],
   "source": [
    "national_accounts = merged['SpecialNotes'].str.contains(pattern, na=False)\n",
    "merged_national_accounts = merged[national_accounts]\n",
    "merged_national_accounts.head()"
   ]
  },
  {
   "cell_type": "markdown",
   "metadata": {},
   "source": [
    "- ### Extracting Substrings from a Series"
   ]
  },
  {
   "cell_type": "markdown",
   "metadata": {},
   "source": [
    "假设我们要提取`SpecialNotes`列中的年份。应注意，年份中的字符遵循特定的pattern：\n",
    "![Years](Years.png)\n",
    "\n",
    "第一个数字为 `1` 或 `2`, 后三个为 `0` 到 `9`.\n",
    "\n",
    "对于正则表达式，我们可以用以下语法表示数字范围："
   ]
  },
  {
   "cell_type": "code",
   "execution_count": 97,
   "metadata": {},
   "outputs": [],
   "source": [
    "pattern = r\"[0-9]\""
   ]
  },
  {
   "cell_type": "markdown",
   "metadata": {},
   "source": [
    "表示字母范围："
   ]
  },
  {
   "cell_type": "code",
   "execution_count": 98,
   "metadata": {},
   "outputs": [],
   "source": [
    "#lowercase letters\n",
    "pattern1 = r\"[a-z]\"\n",
    "\n",
    "#uppercase letters\n",
    "pattern2 = r\"[A-Z]\""
   ]
  },
  {
   "cell_type": "markdown",
   "metadata": {},
   "source": [
    "我们还可以使这些范围更具限制性。 例如，如果我们想在一列中找到一个三个字符的子字符串，该子字符串以1到6之间的数字开头，并以任何形式的两个字母结尾，则可以使用以下语法："
   ]
  },
  {
   "cell_type": "code",
   "execution_count": 99,
   "metadata": {},
   "outputs": [],
   "source": [
    "pattern = r\"[1-6][a-z][a-z]\""
   ]
  },
  {
   "cell_type": "markdown",
   "metadata": {},
   "source": [
    "如果我们有一个重复的pattern，我们也可以使用大括号{ }表示重复的次数：\n",
    "\n",
    "`pattern = r\"[1-6][a-z][a-z]\" = r\"[1-6][a-z]{2}\"`"
   ]
  },
  {
   "cell_type": "markdown",
   "metadata": {},
   "source": [
    "使用 [Series.str.extract()](https://pandas.pydata.org/pandas-docs/stable/reference/api/pandas.Series.str.extract.html) 方法提取`SpecialNotes`列中的年份"
   ]
  },
  {
   "cell_type": "code",
   "execution_count": 100,
   "metadata": {},
   "outputs": [],
   "source": [
    "pattern =r\"([1-2][0-9]{3})\"  #之所以这里带 \"()\" 是 extract 方法的要求\n",
    "\n",
    "years = merged['SpecialNotes'].str.extract(pattern)"
   ]
  },
  {
   "cell_type": "code",
   "execution_count": 101,
   "metadata": {},
   "outputs": [
    {
     "data": {
      "text/plain": [
       "NaN     77\n",
       "2010    14\n",
       "1999    13\n",
       "2013     8\n",
       "2009     6\n",
       "2006     5\n",
       "2005     5\n",
       "2011     4\n",
       "2007     4\n",
       "2012     3\n",
       "2000     3\n",
       "2008     3\n",
       "1990     2\n",
       "2014     2\n",
       "2004     2\n",
       "2001     2\n",
       "1997     1\n",
       "2015     1\n",
       "1965     1\n",
       "1993     1\n",
       "1960     1\n",
       "Name: 0, dtype: int64"
      ]
     },
     "execution_count": 101,
     "metadata": {},
     "output_type": "execute_result"
    }
   ],
   "source": [
    "years[0].value_counts(dropna=False)"
   ]
  },
  {
   "cell_type": "markdown",
   "metadata": {},
   "source": [
    "当使用`Series.str.extract()`方法时，我们将正则表达式括在小括号中。括号表示只有和pattern匹配的字符才应被提取并和返回到Series。我们称其为**Capturing Group**。\n",
    "\n",
    "捕获组就是把正则表达式中子表达式匹配的内容，保存到内存中以*数字编号*或*显式命名*的组里，方便后面引用。\n",
    "\n",
    "![Parantheses](Parantheses.png)\n",
    "如果capturing group在某一行里不存在，则返回NaN"
   ]
  },
  {
   "cell_type": "markdown",
   "metadata": {},
   "source": [
    "`extract()`默认`expand`为`True`，返回DataFrame，\n",
    "\n",
    "把参数`expand`设置为`False`可以返回Series"
   ]
  },
  {
   "cell_type": "code",
   "execution_count": 102,
   "metadata": {
    "scrolled": true
   },
   "outputs": [
    {
     "data": {
      "text/plain": [
       "0       NaN\n",
       "1       NaN\n",
       "2       NaN\n",
       "3       NaN\n",
       "4       NaN\n",
       "       ... \n",
       "153    2006\n",
       "154     NaN\n",
       "155     NaN\n",
       "156     NaN\n",
       "157    2013\n",
       "Name: SpecialNotes, Length: 158, dtype: object"
      ]
     },
     "execution_count": 102,
     "metadata": {},
     "output_type": "execute_result"
    }
   ],
   "source": [
    "merged['SpecialNotes'].str.extract(pattern, expand=False)"
   ]
  },
  {
   "cell_type": "markdown",
   "metadata": {},
   "source": [
    "- ###  Extracting All Matches of a Pattern from a Series"
   ]
  },
  {
   "cell_type": "markdown",
   "metadata": {},
   "source": [
    "`Series.str.extract()` 只会提取pattern的第一个匹配项，想要提取所有匹配项需要用到[Series.str.extractall()](https://pandas.pydata.org/pandas-docs/stable/reference/api/pandas.Series.str.extractall.html)方法。\n",
    "\n",
    "我们将演示此方法，但首先，通过使用[df.set_index](https://pandas.pydata.org/pandas-docs/stable/reference/api/pandas.DataFrame.set_index.html)方法将`Country`列设置为索引，使结果更易于阅读。"
   ]
  },
  {
   "cell_type": "code",
   "execution_count": 103,
   "metadata": {},
   "outputs": [],
   "source": [
    "merged = merged.set_index('Country')"
   ]
  },
  {
   "cell_type": "code",
   "execution_count": 104,
   "metadata": {},
   "outputs": [
    {
     "data": {
      "text/html": [
       "<div>\n",
       "<style scoped>\n",
       "    .dataframe tbody tr th:only-of-type {\n",
       "        vertical-align: middle;\n",
       "    }\n",
       "\n",
       "    .dataframe tbody tr th {\n",
       "        vertical-align: top;\n",
       "    }\n",
       "\n",
       "    .dataframe thead th {\n",
       "        text-align: right;\n",
       "    }\n",
       "</style>\n",
       "<table border=\"1\" class=\"dataframe\">\n",
       "  <thead>\n",
       "    <tr style=\"text-align: right;\">\n",
       "      <th></th>\n",
       "      <th>Region_x</th>\n",
       "      <th>Happiness Rank</th>\n",
       "      <th>Happiness Score</th>\n",
       "      <th>Standard Error</th>\n",
       "      <th>Economy</th>\n",
       "      <th>Family</th>\n",
       "      <th>Health</th>\n",
       "      <th>Freedom</th>\n",
       "      <th>Trust</th>\n",
       "      <th>Generosity</th>\n",
       "      <th>...</th>\n",
       "      <th>LatestPopulationCensus</th>\n",
       "      <th>LatestHouseholdSurvey</th>\n",
       "      <th>IESurvey</th>\n",
       "      <th>VitalRegistrationComplete</th>\n",
       "      <th>LatestAgriculturalCensus</th>\n",
       "      <th>LatestIndustrialData</th>\n",
       "      <th>LatestTradeData</th>\n",
       "      <th>LatestWaterWithdrawalData</th>\n",
       "      <th>Currency Apply</th>\n",
       "      <th>Currency Vectorized</th>\n",
       "    </tr>\n",
       "    <tr>\n",
       "      <th>Country</th>\n",
       "      <th></th>\n",
       "      <th></th>\n",
       "      <th></th>\n",
       "      <th></th>\n",
       "      <th></th>\n",
       "      <th></th>\n",
       "      <th></th>\n",
       "      <th></th>\n",
       "      <th></th>\n",
       "      <th></th>\n",
       "      <th></th>\n",
       "      <th></th>\n",
       "      <th></th>\n",
       "      <th></th>\n",
       "      <th></th>\n",
       "      <th></th>\n",
       "      <th></th>\n",
       "      <th></th>\n",
       "      <th></th>\n",
       "      <th></th>\n",
       "      <th></th>\n",
       "    </tr>\n",
       "  </thead>\n",
       "  <tbody>\n",
       "    <tr>\n",
       "      <td>Switzerland</td>\n",
       "      <td>Western Europe</td>\n",
       "      <td>1</td>\n",
       "      <td>7.587</td>\n",
       "      <td>0.03411</td>\n",
       "      <td>1.39651</td>\n",
       "      <td>1.34951</td>\n",
       "      <td>0.94143</td>\n",
       "      <td>0.66557</td>\n",
       "      <td>0.41978</td>\n",
       "      <td>0.29678</td>\n",
       "      <td>...</td>\n",
       "      <td>2010</td>\n",
       "      <td>NaN</td>\n",
       "      <td>Expenditure survey/budget survey (ES/BS), 2004</td>\n",
       "      <td>Yes</td>\n",
       "      <td>2008</td>\n",
       "      <td>2010.0</td>\n",
       "      <td>2013.0</td>\n",
       "      <td>2000.0</td>\n",
       "      <td>franc</td>\n",
       "      <td>franc</td>\n",
       "    </tr>\n",
       "    <tr>\n",
       "      <td>Iceland</td>\n",
       "      <td>Western Europe</td>\n",
       "      <td>2</td>\n",
       "      <td>7.561</td>\n",
       "      <td>0.04884</td>\n",
       "      <td>1.30232</td>\n",
       "      <td>1.40223</td>\n",
       "      <td>0.94784</td>\n",
       "      <td>0.62877</td>\n",
       "      <td>0.14145</td>\n",
       "      <td>0.43630</td>\n",
       "      <td>...</td>\n",
       "      <td>2011</td>\n",
       "      <td>NaN</td>\n",
       "      <td>Integrated household survey (IHS), 2010</td>\n",
       "      <td>Yes</td>\n",
       "      <td>2010</td>\n",
       "      <td>2005.0</td>\n",
       "      <td>2013.0</td>\n",
       "      <td>2005.0</td>\n",
       "      <td>krona</td>\n",
       "      <td>krona</td>\n",
       "    </tr>\n",
       "    <tr>\n",
       "      <td>Denmark</td>\n",
       "      <td>Western Europe</td>\n",
       "      <td>3</td>\n",
       "      <td>7.527</td>\n",
       "      <td>0.03328</td>\n",
       "      <td>1.32548</td>\n",
       "      <td>1.36058</td>\n",
       "      <td>0.87464</td>\n",
       "      <td>0.64938</td>\n",
       "      <td>0.48357</td>\n",
       "      <td>0.34139</td>\n",
       "      <td>...</td>\n",
       "      <td>2011</td>\n",
       "      <td>NaN</td>\n",
       "      <td>Income tax registers (ITR), 2010</td>\n",
       "      <td>Yes</td>\n",
       "      <td>2010</td>\n",
       "      <td>2010.0</td>\n",
       "      <td>2013.0</td>\n",
       "      <td>2009.0</td>\n",
       "      <td>krone</td>\n",
       "      <td>krone</td>\n",
       "    </tr>\n",
       "  </tbody>\n",
       "</table>\n",
       "<p>3 rows × 47 columns</p>\n",
       "</div>"
      ],
      "text/plain": [
       "                   Region_x  Happiness Rank  Happiness Score  Standard Error  \\\n",
       "Country                                                                        \n",
       "Switzerland  Western Europe               1            7.587         0.03411   \n",
       "Iceland      Western Europe               2            7.561         0.04884   \n",
       "Denmark      Western Europe               3            7.527         0.03328   \n",
       "\n",
       "             Economy   Family   Health  Freedom    Trust  Generosity  ...  \\\n",
       "Country                                                               ...   \n",
       "Switzerland  1.39651  1.34951  0.94143  0.66557  0.41978     0.29678  ...   \n",
       "Iceland      1.30232  1.40223  0.94784  0.62877  0.14145     0.43630  ...   \n",
       "Denmark      1.32548  1.36058  0.87464  0.64938  0.48357     0.34139  ...   \n",
       "\n",
       "             LatestPopulationCensus  LatestHouseholdSurvey  \\\n",
       "Country                                                      \n",
       "Switzerland                    2010                    NaN   \n",
       "Iceland                        2011                    NaN   \n",
       "Denmark                        2011                    NaN   \n",
       "\n",
       "                                                   IESurvey  \\\n",
       "Country                                                       \n",
       "Switzerland  Expenditure survey/budget survey (ES/BS), 2004   \n",
       "Iceland             Integrated household survey (IHS), 2010   \n",
       "Denmark                    Income tax registers (ITR), 2010   \n",
       "\n",
       "             VitalRegistrationComplete LatestAgriculturalCensus  \\\n",
       "Country                                                           \n",
       "Switzerland                        Yes                     2008   \n",
       "Iceland                            Yes                     2010   \n",
       "Denmark                            Yes                     2010   \n",
       "\n",
       "            LatestIndustrialData LatestTradeData LatestWaterWithdrawalData  \\\n",
       "Country                                                                      \n",
       "Switzerland               2010.0          2013.0                    2000.0   \n",
       "Iceland                   2005.0          2013.0                    2005.0   \n",
       "Denmark                   2010.0          2013.0                    2009.0   \n",
       "\n",
       "            Currency Apply Currency Vectorized  \n",
       "Country                                         \n",
       "Switzerland          franc               franc  \n",
       "Iceland              krona               krona  \n",
       "Denmark              krone               krone  \n",
       "\n",
       "[3 rows x 47 columns]"
      ]
     },
     "execution_count": 104,
     "metadata": {},
     "output_type": "execute_result"
    }
   ],
   "source": [
    "merged.head(3)"
   ]
  },
  {
   "cell_type": "markdown",
   "metadata": {},
   "source": [
    "我们可以给捕获组命名: `(?P<Column_Name>...)`\n",
    "\n",
    "以下，给捕获组命名为`Years`"
   ]
  },
  {
   "cell_type": "code",
   "execution_count": 105,
   "metadata": {},
   "outputs": [
    {
     "data": {
      "text/html": [
       "<div>\n",
       "<style scoped>\n",
       "    .dataframe tbody tr th:only-of-type {\n",
       "        vertical-align: middle;\n",
       "    }\n",
       "\n",
       "    .dataframe tbody tr th {\n",
       "        vertical-align: top;\n",
       "    }\n",
       "\n",
       "    .dataframe thead th {\n",
       "        text-align: right;\n",
       "    }\n",
       "</style>\n",
       "<table border=\"1\" class=\"dataframe\">\n",
       "  <thead>\n",
       "    <tr style=\"text-align: right;\">\n",
       "      <th></th>\n",
       "      <th></th>\n",
       "      <th>Years</th>\n",
       "    </tr>\n",
       "    <tr>\n",
       "      <th>Country</th>\n",
       "      <th>match</th>\n",
       "      <th></th>\n",
       "    </tr>\n",
       "  </thead>\n",
       "  <tbody>\n",
       "    <tr>\n",
       "      <td rowspan=\"2\" valign=\"top\">Finland</td>\n",
       "      <td>0</td>\n",
       "      <td>1999</td>\n",
       "    </tr>\n",
       "    <tr>\n",
       "      <td>1</td>\n",
       "      <td>1999</td>\n",
       "    </tr>\n",
       "    <tr>\n",
       "      <td rowspan=\"3\" valign=\"top\">Netherlands</td>\n",
       "      <td>0</td>\n",
       "      <td>1999</td>\n",
       "    </tr>\n",
       "    <tr>\n",
       "      <td>1</td>\n",
       "      <td>2037</td>\n",
       "    </tr>\n",
       "    <tr>\n",
       "      <td>2</td>\n",
       "      <td>1999</td>\n",
       "    </tr>\n",
       "    <tr>\n",
       "      <td>...</td>\n",
       "      <td>...</td>\n",
       "      <td>...</td>\n",
       "    </tr>\n",
       "    <tr>\n",
       "      <td rowspan=\"2\" valign=\"top\">Rwanda</td>\n",
       "      <td>1</td>\n",
       "      <td>2011</td>\n",
       "    </tr>\n",
       "    <tr>\n",
       "      <td>2</td>\n",
       "      <td>2008</td>\n",
       "    </tr>\n",
       "    <tr>\n",
       "      <td rowspan=\"3\" valign=\"top\">Togo</td>\n",
       "      <td>0</td>\n",
       "      <td>2013</td>\n",
       "    </tr>\n",
       "    <tr>\n",
       "      <td>1</td>\n",
       "      <td>2000</td>\n",
       "    </tr>\n",
       "    <tr>\n",
       "      <td>2</td>\n",
       "      <td>2000</td>\n",
       "    </tr>\n",
       "  </tbody>\n",
       "</table>\n",
       "<p>164 rows × 1 columns</p>\n",
       "</div>"
      ],
      "text/plain": [
       "                  Years\n",
       "Country     match      \n",
       "Finland     0      1999\n",
       "            1      1999\n",
       "Netherlands 0      1999\n",
       "            1      2037\n",
       "            2      1999\n",
       "...                 ...\n",
       "Rwanda      1      2011\n",
       "            2      2008\n",
       "Togo        0      2013\n",
       "            1      2000\n",
       "            2      2000\n",
       "\n",
       "[164 rows x 1 columns]"
      ]
     },
     "execution_count": 105,
     "metadata": {},
     "output_type": "execute_result"
    }
   ],
   "source": [
    "pattern = r\"(?P<Years>[1-2][0-9]{3})\"\n",
    "merged['SpecialNotes'].str.extractall(pattern)"
   ]
  },
  {
   "cell_type": "markdown",
   "metadata": {},
   "source": [
    "![Extractall](Extractall.png)"
   ]
  },
  {
   "cell_type": "markdown",
   "metadata": {},
   "source": [
    "Let's look at the `IESurvey` column next. This column has years in two different formats:\n",
    "\n",
    "```Integrated household survey (IHS), 2012\n",
    "Integrated household survey (IHS), 2010/11```"
   ]
  },
  {
   "cell_type": "code",
   "execution_count": 106,
   "metadata": {},
   "outputs": [
    {
     "data": {
      "text/plain": [
       "2012    33\n",
       "2010    28\n",
       "2011    22\n",
       "2013    12\n",
       "2009     8\n",
       "2008     6\n",
       "2005     6\n",
       "2007     4\n",
       "2004     3\n",
       "2003     1\n",
       "1999     1\n",
       "2000     1\n",
       "2006     1\n",
       "2002     1\n",
       "1992     1\n",
       "1998     1\n",
       "1995     1\n",
       "Name: Years, dtype: int64"
      ]
     },
     "execution_count": 106,
     "metadata": {},
     "output_type": "execute_result"
    }
   ],
   "source": [
    "years = merged['IESurvey'].str.extractall(pattern)\n",
    "years['Years'].value_counts()"
   ]
  },
  {
   "cell_type": "markdown",
   "metadata": {},
   "source": [
    "当我们尝试使用extractall方法从IESurvey列中提取所有年份时，我们没有成功，因为我们的某些年份具有以下格式：\n",
    "![Years_updated](Years_updated.png)\n",
    "\n",
    "正则表达式只匹配到了`/`前的年份，`/`后的没有匹配，解决这一问题需要再指定两个（捕获）组，一个组提取`/`，一个组提取后面的两个数字:"
   ]
  },
  {
   "cell_type": "code",
   "execution_count": 107,
   "metadata": {},
   "outputs": [],
   "source": [
    "pattern = r\"(?P<First_Year>[1-2][0-9]{3})(/)?(?P<Second_Year>[0-9]{2})?\"\n",
    "years = merged['IESurvey'].str.extractall(pattern)"
   ]
  },
  {
   "cell_type": "markdown",
   "metadata": {},
   "source": [
    "注意，在新加的两个组后面各有一个`?`，这表明这两个组是optional的。"
   ]
  },
  {
   "cell_type": "code",
   "execution_count": 108,
   "metadata": {},
   "outputs": [
    {
     "data": {
      "text/html": [
       "<div>\n",
       "<style scoped>\n",
       "    .dataframe tbody tr th:only-of-type {\n",
       "        vertical-align: middle;\n",
       "    }\n",
       "\n",
       "    .dataframe tbody tr th {\n",
       "        vertical-align: top;\n",
       "    }\n",
       "\n",
       "    .dataframe thead th {\n",
       "        text-align: right;\n",
       "    }\n",
       "</style>\n",
       "<table border=\"1\" class=\"dataframe\">\n",
       "  <thead>\n",
       "    <tr style=\"text-align: right;\">\n",
       "      <th></th>\n",
       "      <th></th>\n",
       "      <th>First_Year</th>\n",
       "      <th>1</th>\n",
       "      <th>Second_Year</th>\n",
       "    </tr>\n",
       "    <tr>\n",
       "      <th>Country</th>\n",
       "      <th>match</th>\n",
       "      <th></th>\n",
       "      <th></th>\n",
       "      <th></th>\n",
       "    </tr>\n",
       "  </thead>\n",
       "  <tbody>\n",
       "    <tr>\n",
       "      <td>Switzerland</td>\n",
       "      <td>0</td>\n",
       "      <td>2004</td>\n",
       "      <td>NaN</td>\n",
       "      <td>NaN</td>\n",
       "    </tr>\n",
       "    <tr>\n",
       "      <td>Iceland</td>\n",
       "      <td>0</td>\n",
       "      <td>2010</td>\n",
       "      <td>NaN</td>\n",
       "      <td>NaN</td>\n",
       "    </tr>\n",
       "    <tr>\n",
       "      <td>Denmark</td>\n",
       "      <td>0</td>\n",
       "      <td>2010</td>\n",
       "      <td>NaN</td>\n",
       "      <td>NaN</td>\n",
       "    </tr>\n",
       "  </tbody>\n",
       "</table>\n",
       "</div>"
      ],
      "text/plain": [
       "                  First_Year    1 Second_Year\n",
       "Country     match                            \n",
       "Switzerland 0           2004  NaN         NaN\n",
       "Iceland     0           2010  NaN         NaN\n",
       "Denmark     0           2010  NaN         NaN"
      ]
     },
     "execution_count": 108,
     "metadata": {},
     "output_type": "execute_result"
    }
   ],
   "source": [
    "years[:3]"
   ]
  },
  {
   "cell_type": "code",
   "execution_count": 109,
   "metadata": {},
   "outputs": [
    {
     "data": {
      "text/html": [
       "<div>\n",
       "<style scoped>\n",
       "    .dataframe tbody tr th:only-of-type {\n",
       "        vertical-align: middle;\n",
       "    }\n",
       "\n",
       "    .dataframe tbody tr th {\n",
       "        vertical-align: top;\n",
       "    }\n",
       "\n",
       "    .dataframe thead th {\n",
       "        text-align: right;\n",
       "    }\n",
       "</style>\n",
       "<table border=\"1\" class=\"dataframe\">\n",
       "  <thead>\n",
       "    <tr style=\"text-align: right;\">\n",
       "      <th></th>\n",
       "      <th></th>\n",
       "      <th>First_Year</th>\n",
       "      <th>1</th>\n",
       "      <th>Second_Year</th>\n",
       "    </tr>\n",
       "    <tr>\n",
       "      <th>Country</th>\n",
       "      <th>match</th>\n",
       "      <th></th>\n",
       "      <th></th>\n",
       "      <th></th>\n",
       "    </tr>\n",
       "  </thead>\n",
       "  <tbody>\n",
       "    <tr>\n",
       "      <td>Kenya</td>\n",
       "      <td>0</td>\n",
       "      <td>2005</td>\n",
       "      <td>/</td>\n",
       "      <td>06</td>\n",
       "    </tr>\n",
       "    <tr>\n",
       "      <td>Angola</td>\n",
       "      <td>0</td>\n",
       "      <td>2008</td>\n",
       "      <td>/</td>\n",
       "      <td>09</td>\n",
       "    </tr>\n",
       "    <tr>\n",
       "      <td>Mozambique</td>\n",
       "      <td>0</td>\n",
       "      <td>2008</td>\n",
       "      <td>/</td>\n",
       "      <td>09</td>\n",
       "    </tr>\n",
       "  </tbody>\n",
       "</table>\n",
       "</div>"
      ],
      "text/plain": [
       "                 First_Year  1 Second_Year\n",
       "Country    match                          \n",
       "Kenya      0           2005  /          06\n",
       "Angola     0           2008  /          09\n",
       "Mozambique 0           2008  /          09"
      ]
     },
     "execution_count": 109,
     "metadata": {},
     "output_type": "execute_result"
    }
   ],
   "source": [
    "#按值排序便于观察\n",
    "years.sort_values('Second_Year')[:3]"
   ]
  },
  {
   "cell_type": "markdown",
   "metadata": {},
   "source": [
    "DataFrame的三列对应着`pattern`的三个捕获组，`/`的名字是`1`是因为没有给它命名"
   ]
  },
  {
   "cell_type": "markdown",
   "metadata": {},
   "source": [
    "把表变得更可读："
   ]
  },
  {
   "cell_type": "code",
   "execution_count": 110,
   "metadata": {},
   "outputs": [
    {
     "data": {
      "text/html": [
       "<div>\n",
       "<style scoped>\n",
       "    .dataframe tbody tr th:only-of-type {\n",
       "        vertical-align: middle;\n",
       "    }\n",
       "\n",
       "    .dataframe tbody tr th {\n",
       "        vertical-align: top;\n",
       "    }\n",
       "\n",
       "    .dataframe thead th {\n",
       "        text-align: right;\n",
       "    }\n",
       "</style>\n",
       "<table border=\"1\" class=\"dataframe\">\n",
       "  <thead>\n",
       "    <tr style=\"text-align: right;\">\n",
       "      <th></th>\n",
       "      <th></th>\n",
       "      <th>First_Year</th>\n",
       "      <th>Second_Year</th>\n",
       "    </tr>\n",
       "    <tr>\n",
       "      <th>Country</th>\n",
       "      <th>match</th>\n",
       "      <th></th>\n",
       "      <th></th>\n",
       "    </tr>\n",
       "  </thead>\n",
       "  <tbody>\n",
       "    <tr>\n",
       "      <td>Kenya</td>\n",
       "      <td>0</td>\n",
       "      <td>2005</td>\n",
       "      <td>2006</td>\n",
       "    </tr>\n",
       "    <tr>\n",
       "      <td>Angola</td>\n",
       "      <td>0</td>\n",
       "      <td>2008</td>\n",
       "      <td>2009</td>\n",
       "    </tr>\n",
       "    <tr>\n",
       "      <td>Mozambique</td>\n",
       "      <td>0</td>\n",
       "      <td>2008</td>\n",
       "      <td>2009</td>\n",
       "    </tr>\n",
       "  </tbody>\n",
       "</table>\n",
       "</div>"
      ],
      "text/plain": [
       "                 First_Year Second_Year\n",
       "Country    match                       \n",
       "Kenya      0           2005        2006\n",
       "Angola     0           2008        2009\n",
       "Mozambique 0           2008        2009"
      ]
     },
     "execution_count": 110,
     "metadata": {},
     "output_type": "execute_result"
    }
   ],
   "source": [
    "# 注意 这里没有用小括号把 / 括起来，这样在DataFrame中就不会有这一列（没有被提取）\n",
    "pattern = r\"(?P<First_Year>[1-2][0-9]{3})/?(?P<Second_Year>[0-9]{2})?\"\n",
    "\n",
    "years = merged['IESurvey'].str.extractall(pattern)\n",
    "# 提取 years['First_Year']的前两个数字，把他分配到 years['Second_Year']上\n",
    "first_two_year = years['First_Year'].str[:2]\n",
    "years['Second_Year'] = first_two_year + years['Second_Year']\n",
    "years.sort_values('Second_Year')[:3]"
   ]
  },
  {
   "cell_type": "markdown",
   "metadata": {},
   "source": [
    "- ### Challenge: Clean a String Column, Aggregate the Data, and Plot the Results"
   ]
  },
  {
   "cell_type": "code",
   "execution_count": 111,
   "metadata": {
    "scrolled": true
   },
   "outputs": [
    {
     "data": {
      "text/plain": [
       "UPPER MIDDLE    39\n",
       "LOWER MIDDLE    35\n",
       "HIGH OECD       30\n",
       "LOW             24\n",
       "HIGH NONOECD    17\n",
       "Name: IncomeGroup, dtype: int64"
      ]
     },
     "execution_count": 111,
     "metadata": {},
     "output_type": "execute_result"
    }
   ],
   "source": [
    "dictionary = {'Upper middle income':'UPPER MIDDLE',\n",
    "              'Lower middle income':'LOWER MIDDLE',\n",
    "              'High income: OECD':'HIGH OECD',\n",
    "              'Low income':'LOW',\n",
    "              'High income: nonOECD':'HIGH NONOECD'}\n",
    "\n",
    "merged['IncomeGroup'] = merged['IncomeGroup'].map(dictionary)\n",
    "# 用 vectorized string method\n",
    "# merged['IncomeGroup'] = merged['IncomeGroup'].str.replace(' income', '').str.replace(':', '').str.upper()\n",
    "merged['IncomeGroup'].value_counts()"
   ]
  },
  {
   "cell_type": "code",
   "execution_count": 112,
   "metadata": {},
   "outputs": [
    {
     "data": {
      "image/png": "[encoded data removed]",
      "text/plain": [
       "<Figure size 432x288 with 1 Axes>"
      ]
     },
     "metadata": {
      "needs_background": "light"
     },
     "output_type": "display_data"
    }
   ],
   "source": [
    "import matplotlib.pyplot as plt\n",
    "pv_incomes = merged.pivot_table(index='IncomeGroup', values='Happiness Score', aggfunc='mean')\n",
    "pv_incomes.plot(kind='bar',rot=30,ylim=(0,10))\n",
    "plt.show()"
   ]
  },
  {
   "cell_type": "markdown",
   "metadata": {},
   "source": [
    "# 2.4.5 Working With Missing And Duplicate Data"
   ]
  },
  {
   "cell_type": "markdown",
   "metadata": {},
   "source": [
    "In the Pandas Fundamentals course, we learned that there are various ways to handle missing data:\n",
    "\n",
    "- Remove any rows that have missing values.\n",
    "- Remove any columns that have missing values.\n",
    "- Fill the missing values with some other value.\n",
    "- Leave the missing values as is."
   ]
  },
  {
   "cell_type": "markdown",
   "metadata": {},
   "source": [
    "In this mission, we'll explore each of these options in detail and learn when to use them. We'll work with the 2015, 2016, and 2017 World Happiness Reports again - more specifically, we'll combine them and clean missing values as we start to define a more complete data cleaning workflow. You can find the data sets here, along with descriptions of each of the columns."
   ]
  },
  {
   "cell_type": "code",
   "execution_count": 29,
   "metadata": {
    "scrolled": true
   },
   "outputs": [],
   "source": [
    "happiness2015 = pd.read_csv('wh_2015.csv')\n",
    "happiness2016 = pd.read_csv('wh_2016.csv')\n",
    "happiness2017 = pd.read_csv('wh_2017.csv')"
   ]
  },
  {
   "cell_type": "markdown",
   "metadata": {},
   "source": [
    "In this mission, we'll work with modified versions of the data sets. Each data set has already been updated so that each contains the same countries. For example, if a country appeared in the original 2015 report, but not in the original 2016 report, a row like the one below was added to the 2016 data set:"
   ]
  },
  {
   "cell_type": "code",
   "execution_count": 4,
   "metadata": {
    "scrolled": true
   },
   "outputs": [
    {
     "data": {
      "text/html": [
       "<div>\n",
       "<style scoped>\n",
       "    .dataframe tbody tr th:only-of-type {\n",
       "        vertical-align: middle;\n",
       "    }\n",
       "\n",
       "    .dataframe tbody tr th {\n",
       "        vertical-align: top;\n",
       "    }\n",
       "\n",
       "    .dataframe thead th {\n",
       "        text-align: right;\n",
       "    }\n",
       "</style>\n",
       "<table border=\"1\" class=\"dataframe\">\n",
       "  <thead>\n",
       "    <tr style=\"text-align: right;\">\n",
       "      <th></th>\n",
       "      <th>Country</th>\n",
       "      <th>Region</th>\n",
       "      <th>Happiness Rank</th>\n",
       "      <th>Happiness Score</th>\n",
       "      <th>Lower Confidence Interval</th>\n",
       "      <th>Upper Confidence Interval</th>\n",
       "      <th>Economy (GDP per Capita)</th>\n",
       "      <th>Family</th>\n",
       "      <th>Health (Life Expectancy)</th>\n",
       "      <th>Freedom</th>\n",
       "      <th>Trust (Government Corruption)</th>\n",
       "      <th>Generosity</th>\n",
       "      <th>Dystopia Residual</th>\n",
       "      <th>Year</th>\n",
       "    </tr>\n",
       "  </thead>\n",
       "  <tbody>\n",
       "    <tr>\n",
       "      <td>157</td>\n",
       "      <td>Central African Republic</td>\n",
       "      <td>NaN</td>\n",
       "      <td>NaN</td>\n",
       "      <td>NaN</td>\n",
       "      <td>NaN</td>\n",
       "      <td>NaN</td>\n",
       "      <td>NaN</td>\n",
       "      <td>NaN</td>\n",
       "      <td>NaN</td>\n",
       "      <td>NaN</td>\n",
       "      <td>NaN</td>\n",
       "      <td>NaN</td>\n",
       "      <td>NaN</td>\n",
       "      <td>2016</td>\n",
       "    </tr>\n",
       "  </tbody>\n",
       "</table>\n",
       "</div>"
      ],
      "text/plain": [
       "                      Country Region  Happiness Rank  Happiness Score  \\\n",
       "157  Central African Republic    NaN             NaN              NaN   \n",
       "\n",
       "     Lower Confidence Interval  Upper Confidence Interval  \\\n",
       "157                        NaN                        NaN   \n",
       "\n",
       "     Economy (GDP per Capita)  Family  Health (Life Expectancy)  Freedom  \\\n",
       "157                       NaN     NaN                       NaN      NaN   \n",
       "\n",
       "     Trust (Government Corruption)  Generosity  Dystopia Residual  Year  \n",
       "157                            NaN         NaN                NaN  2016  "
      ]
     },
     "execution_count": 4,
     "metadata": {},
     "output_type": "execute_result"
    }
   ],
   "source": [
    "happiness2016[happiness2016['Country']=='Central African Republic']"
   ]
  },
  {
   "cell_type": "markdown",
   "metadata": {},
   "source": [
    "使用[DataFrame.shape](https://pandas.pydata.org/pandas-docs/stable/reference/api/pandas.DataFrame.shape.html)属性确认三个df的行数和列数："
   ]
  },
  {
   "cell_type": "code",
   "execution_count": 5,
   "metadata": {},
   "outputs": [
    {
     "data": {
      "text/plain": [
       "(164, 13)"
      ]
     },
     "execution_count": 5,
     "metadata": {},
     "output_type": "execute_result"
    }
   ],
   "source": [
    "happiness2015.shape"
   ]
  },
  {
   "cell_type": "code",
   "execution_count": 6,
   "metadata": {},
   "outputs": [
    {
     "data": {
      "text/plain": [
       "(164, 14)"
      ]
     },
     "execution_count": 6,
     "metadata": {},
     "output_type": "execute_result"
    }
   ],
   "source": [
    "happiness2016.shape "
   ]
  },
  {
   "cell_type": "code",
   "execution_count": 7,
   "metadata": {},
   "outputs": [
    {
     "data": {
      "text/plain": [
       "(164, 13)"
      ]
     },
     "execution_count": 7,
     "metadata": {},
     "output_type": "execute_result"
    }
   ],
   "source": [
    "happiness2017.shape"
   ]
  },
  {
   "cell_type": "markdown",
   "metadata": {},
   "source": [
    "- ### Identifying Missing Values"
   ]
  },
  {
   "cell_type": "markdown",
   "metadata": {},
   "source": [
    "pandas用`NaN`或`None`表示空值。\n",
    "\n",
    "However, it's good to note that pandas will not automatically identify values such as `n/a`, `-`, or `--` as `NaN` or `None`, but they may also indicate data is missing. See [here](https://stackoverflow.com/questions/40011531/in-pandas-when-using-read-csv-how-to-assign-a-nan-to-a-value-thats-not-the#answer-40011736) for more information on how to use the `pd.read_csv()` function to read those values in as `NaN`"
   ]
  },
  {
   "cell_type": "markdown",
   "metadata": {},
   "source": [
    "[Series.isnull()](https://pandas.pydata.org/pandas-docs/stable/reference/api/pandas.Series.isnull.html)识别happiness score缺失的行"
   ]
  },
  {
   "cell_type": "code",
   "execution_count": 8,
   "metadata": {},
   "outputs": [
    {
     "data": {
      "text/html": [
       "<div>\n",
       "<style scoped>\n",
       "    .dataframe tbody tr th:only-of-type {\n",
       "        vertical-align: middle;\n",
       "    }\n",
       "\n",
       "    .dataframe tbody tr th {\n",
       "        vertical-align: top;\n",
       "    }\n",
       "\n",
       "    .dataframe thead th {\n",
       "        text-align: right;\n",
       "    }\n",
       "</style>\n",
       "<table border=\"1\" class=\"dataframe\">\n",
       "  <thead>\n",
       "    <tr style=\"text-align: right;\">\n",
       "      <th></th>\n",
       "      <th>Country</th>\n",
       "      <th>Region</th>\n",
       "      <th>Happiness Rank</th>\n",
       "      <th>Happiness Score</th>\n",
       "      <th>Standard Error</th>\n",
       "      <th>Economy (GDP per Capita)</th>\n",
       "      <th>Family</th>\n",
       "      <th>Health (Life Expectancy)</th>\n",
       "      <th>Freedom</th>\n",
       "      <th>Trust (Government Corruption)</th>\n",
       "      <th>Generosity</th>\n",
       "      <th>Dystopia Residual</th>\n",
       "      <th>Year</th>\n",
       "    </tr>\n",
       "  </thead>\n",
       "  <tbody>\n",
       "    <tr>\n",
       "      <td>158</td>\n",
       "      <td>Belize</td>\n",
       "      <td>NaN</td>\n",
       "      <td>NaN</td>\n",
       "      <td>NaN</td>\n",
       "      <td>NaN</td>\n",
       "      <td>NaN</td>\n",
       "      <td>NaN</td>\n",
       "      <td>NaN</td>\n",
       "      <td>NaN</td>\n",
       "      <td>NaN</td>\n",
       "      <td>NaN</td>\n",
       "      <td>NaN</td>\n",
       "      <td>2015</td>\n",
       "    </tr>\n",
       "    <tr>\n",
       "      <td>159</td>\n",
       "      <td>Namibia</td>\n",
       "      <td>NaN</td>\n",
       "      <td>NaN</td>\n",
       "      <td>NaN</td>\n",
       "      <td>NaN</td>\n",
       "      <td>NaN</td>\n",
       "      <td>NaN</td>\n",
       "      <td>NaN</td>\n",
       "      <td>NaN</td>\n",
       "      <td>NaN</td>\n",
       "      <td>NaN</td>\n",
       "      <td>NaN</td>\n",
       "      <td>2015</td>\n",
       "    </tr>\n",
       "    <tr>\n",
       "      <td>160</td>\n",
       "      <td>Puerto Rico</td>\n",
       "      <td>NaN</td>\n",
       "      <td>NaN</td>\n",
       "      <td>NaN</td>\n",
       "      <td>NaN</td>\n",
       "      <td>NaN</td>\n",
       "      <td>NaN</td>\n",
       "      <td>NaN</td>\n",
       "      <td>NaN</td>\n",
       "      <td>NaN</td>\n",
       "      <td>NaN</td>\n",
       "      <td>NaN</td>\n",
       "      <td>2015</td>\n",
       "    </tr>\n",
       "    <tr>\n",
       "      <td>161</td>\n",
       "      <td>Somalia</td>\n",
       "      <td>NaN</td>\n",
       "      <td>NaN</td>\n",
       "      <td>NaN</td>\n",
       "      <td>NaN</td>\n",
       "      <td>NaN</td>\n",
       "      <td>NaN</td>\n",
       "      <td>NaN</td>\n",
       "      <td>NaN</td>\n",
       "      <td>NaN</td>\n",
       "      <td>NaN</td>\n",
       "      <td>NaN</td>\n",
       "      <td>2015</td>\n",
       "    </tr>\n",
       "    <tr>\n",
       "      <td>162</td>\n",
       "      <td>Somaliland Region</td>\n",
       "      <td>NaN</td>\n",
       "      <td>NaN</td>\n",
       "      <td>NaN</td>\n",
       "      <td>NaN</td>\n",
       "      <td>NaN</td>\n",
       "      <td>NaN</td>\n",
       "      <td>NaN</td>\n",
       "      <td>NaN</td>\n",
       "      <td>NaN</td>\n",
       "      <td>NaN</td>\n",
       "      <td>NaN</td>\n",
       "      <td>2015</td>\n",
       "    </tr>\n",
       "    <tr>\n",
       "      <td>163</td>\n",
       "      <td>South Sudan</td>\n",
       "      <td>NaN</td>\n",
       "      <td>NaN</td>\n",
       "      <td>NaN</td>\n",
       "      <td>NaN</td>\n",
       "      <td>NaN</td>\n",
       "      <td>NaN</td>\n",
       "      <td>NaN</td>\n",
       "      <td>NaN</td>\n",
       "      <td>NaN</td>\n",
       "      <td>NaN</td>\n",
       "      <td>NaN</td>\n",
       "      <td>2015</td>\n",
       "    </tr>\n",
       "  </tbody>\n",
       "</table>\n",
       "</div>"
      ],
      "text/plain": [
       "               Country Region  Happiness Rank  Happiness Score  \\\n",
       "158             Belize    NaN             NaN              NaN   \n",
       "159            Namibia    NaN             NaN              NaN   \n",
       "160        Puerto Rico    NaN             NaN              NaN   \n",
       "161            Somalia    NaN             NaN              NaN   \n",
       "162  Somaliland Region    NaN             NaN              NaN   \n",
       "163        South Sudan    NaN             NaN              NaN   \n",
       "\n",
       "     Standard Error  Economy (GDP per Capita)  Family  \\\n",
       "158             NaN                       NaN     NaN   \n",
       "159             NaN                       NaN     NaN   \n",
       "160             NaN                       NaN     NaN   \n",
       "161             NaN                       NaN     NaN   \n",
       "162             NaN                       NaN     NaN   \n",
       "163             NaN                       NaN     NaN   \n",
       "\n",
       "     Health (Life Expectancy)  Freedom  Trust (Government Corruption)  \\\n",
       "158                       NaN      NaN                            NaN   \n",
       "159                       NaN      NaN                            NaN   \n",
       "160                       NaN      NaN                            NaN   \n",
       "161                       NaN      NaN                            NaN   \n",
       "162                       NaN      NaN                            NaN   \n",
       "163                       NaN      NaN                            NaN   \n",
       "\n",
       "     Generosity  Dystopia Residual  Year  \n",
       "158         NaN                NaN  2015  \n",
       "159         NaN                NaN  2015  \n",
       "160         NaN                NaN  2015  \n",
       "161         NaN                NaN  2015  \n",
       "162         NaN                NaN  2015  \n",
       "163         NaN                NaN  2015  "
      ]
     },
     "execution_count": 8,
     "metadata": {},
     "output_type": "execute_result"
    }
   ],
   "source": [
    "missing = happiness2015['Happiness Score'].isnull()\n",
    "happiness2015[missing]"
   ]
  },
  {
   "cell_type": "markdown",
   "metadata": {},
   "source": [
    "对于大的数据集，可以用`sum`："
   ]
  },
  {
   "cell_type": "code",
   "execution_count": 9,
   "metadata": {
    "scrolled": true
   },
   "outputs": [
    {
     "data": {
      "text/plain": [
       "Country                          0\n",
       "Region                           6\n",
       "Happiness Rank                   6\n",
       "Happiness Score                  6\n",
       "Standard Error                   6\n",
       "Economy (GDP per Capita)         6\n",
       "Family                           6\n",
       "Health (Life Expectancy)         6\n",
       "Freedom                          6\n",
       "Trust (Government Corruption)    6\n",
       "Generosity                       6\n",
       "Dystopia Residual                6\n",
       "Year                             0\n",
       "dtype: int64"
      ]
     },
     "execution_count": 9,
     "metadata": {},
     "output_type": "execute_result"
    }
   ],
   "source": [
    "happiness2015.isnull().sum()"
   ]
  },
  {
   "cell_type": "code",
   "execution_count": 10,
   "metadata": {},
   "outputs": [
    {
     "data": {
      "text/plain": [
       "Country                          0\n",
       "Region                           7\n",
       "Happiness Rank                   7\n",
       "Happiness Score                  7\n",
       "Lower Confidence Interval        7\n",
       "Upper Confidence Interval        7\n",
       "Economy (GDP per Capita)         7\n",
       "Family                           7\n",
       "Health (Life Expectancy)         7\n",
       "Freedom                          7\n",
       "Trust (Government Corruption)    7\n",
       "Generosity                       7\n",
       "Dystopia Residual                7\n",
       "Year                             0\n",
       "dtype: int64"
      ]
     },
     "execution_count": 10,
     "metadata": {},
     "output_type": "execute_result"
    }
   ],
   "source": [
    "happiness2016.isnull().sum()"
   ]
  },
  {
   "cell_type": "code",
   "execution_count": 11,
   "metadata": {},
   "outputs": [
    {
     "data": {
      "text/plain": [
       "Country                          0\n",
       "Happiness.Rank                   9\n",
       "Happiness.Score                  9\n",
       "Whisker.high                     9\n",
       "Whisker.low                      9\n",
       "Economy..GDP.per.Capita.         9\n",
       "Family                           9\n",
       "Health..Life.Expectancy.         9\n",
       "Freedom                          9\n",
       "Generosity                       9\n",
       "Trust..Government.Corruption.    9\n",
       "Dystopia.Residual                9\n",
       "Year                             0\n",
       "dtype: int64"
      ]
     },
     "execution_count": 11,
     "metadata": {},
     "output_type": "execute_result"
    }
   ],
   "source": [
    "happiness2017.isnull().sum()"
   ]
  },
  {
   "cell_type": "markdown",
   "metadata": {},
   "source": [
    "- ### Correcting Data Cleaning Errors that Result in Missing Values"
   ]
  },
  {
   "cell_type": "markdown",
   "metadata": {},
   "source": [
    "最好在 *数据转换前* 检查缺失值，这样在如果在数据转换后引入了缺失值，我们可以知道到底是真的缺失还是由于转换操作导致的缺失。\n",
    "\n",
    "As we progress through this mission, we'll use the following workflow to clean our missing values, starting with checking for errors:\n",
    "\n",
    "1. Check for errors in data cleaning/transformation.\n",
    "2. Use data from additional sources to fill missing values.\n",
    "3. Drop row/column.\n",
    "4. Fill missing values with reasonable estimates computed from the available data."
   ]
  },
  {
   "cell_type": "markdown",
   "metadata": {},
   "source": [
    "Combine the 2015, 2016, and 2017 World Happiness Reports:"
   ]
  },
  {
   "cell_type": "code",
   "execution_count": 112,
   "metadata": {},
   "outputs": [
    {
     "name": "stderr",
     "output_type": "stream",
     "text": [
      "/opt/anaconda3/lib/python3.7/site-packages/ipykernel_launcher.py:1: FutureWarning: Sorting because non-concatenation axis is not aligned. A future version\n",
      "of pandas will change to not sort by default.\n",
      "\n",
      "To accept the future behavior, pass 'sort=False'.\n",
      "\n",
      "To retain the current behavior and silence the warning, pass 'sort=True'.\n",
      "\n",
      "  \"\"\"Entry point for launching an IPython kernel.\n"
     ]
    },
    {
     "data": {
      "text/plain": [
       "Country                          0\n",
       "Dystopia Residual               22\n",
       "Economy Gdp Per Capita          22\n",
       "Family                          22\n",
       "Freedom                         22\n",
       "Generosity                      22\n",
       "Happiness Rank                  22\n",
       "Happiness Score                 22\n",
       "Health Life Expectancy          22\n",
       "Lower Confidence Interval      335\n",
       "Region                         177\n",
       "Standard Error                 334\n",
       "Trust Government Corruption     22\n",
       "Upper Confidence Interval      335\n",
       "Whisker High                   337\n",
       "Whisker Low                    337\n",
       "Year                             0\n",
       "dtype: int64"
      ]
     },
     "execution_count": 112,
     "metadata": {},
     "output_type": "execute_result"
    }
   ],
   "source": [
    "combined = pd.concat([happiness2015, happiness2016, happiness2017], ignore_index=True)\n",
    "combined.isnull().sum()"
   ]
  },
  {
   "cell_type": "markdown",
   "metadata": {},
   "source": [
    "We can see above that our dataframe has many missing values and these missing values follow a pattern. Most columns fall into one of the following categories:\n",
    "\n",
    "177 missing values (about 1/3 of the total values)   \n",
    "337 missing values (about 2/3 of the total values)"
   ]
  },
  {
   "cell_type": "markdown",
   "metadata": {},
   "source": [
    "#### 从以上结果可以发现有些相同的内容有不同的列名，如   \n",
    "`Trust (Government Corruption)   \n",
    " Trust..Government.Corruption.`\n",
    " \n",
    "可以使用`str.replace()`更新列名："
   ]
  },
  {
   "cell_type": "code",
   "execution_count": 113,
   "metadata": {},
   "outputs": [
    {
     "name": "stdout",
     "output_type": "stream",
     "text": [
      "   (A)  (B)  C)\n",
      "0    1    4   7\n",
      "1    2    5   8\n",
      "2    3    6   9\n"
     ]
    }
   ],
   "source": [
    "df = pd.DataFrame({'(A)':[1,2,3],\n",
    "                   '(B)':[4,5,6],\n",
    "                   'C)':[7,8,9]})\n",
    "\n",
    "print (df)"
   ]
  },
  {
   "cell_type": "code",
   "execution_count": 114,
   "metadata": {},
   "outputs": [
    {
     "name": "stdout",
     "output_type": "stream",
     "text": [
      "   _A_  _B_  C_\n",
      "0    1    4   7\n",
      "1    2    5   8\n",
      "2    3    6   9\n"
     ]
    }
   ],
   "source": [
    "# 把列名中的 () 替换为 _\n",
    "df.columns = df.columns.str.replace(r\"[()]\", \"_\")\n",
    "print (df)"
   ]
  },
  {
   "cell_type": "markdown",
   "metadata": {},
   "source": [
    "接下来更新列名，并重新组合DataFrame:"
   ]
  },
  {
   "cell_type": "code",
   "execution_count": 115,
   "metadata": {},
   "outputs": [
    {
     "name": "stderr",
     "output_type": "stream",
     "text": [
      "/opt/anaconda3/lib/python3.7/site-packages/ipykernel_launcher.py:5: FutureWarning: Sorting because non-concatenation axis is not aligned. A future version\n",
      "of pandas will change to not sort by default.\n",
      "\n",
      "To accept the future behavior, pass 'sort=False'.\n",
      "\n",
      "To retain the current behavior and silence the warning, pass 'sort=True'.\n",
      "\n",
      "  \"\"\"\n"
     ]
    },
    {
     "data": {
      "text/plain": [
       "Country                          0\n",
       "Dystopia Residual               22\n",
       "Economy Gdp Per Capita          22\n",
       "Family                          22\n",
       "Freedom                         22\n",
       "Generosity                      22\n",
       "Happiness Rank                  22\n",
       "Happiness Score                 22\n",
       "Health Life Expectancy          22\n",
       "Lower Confidence Interval      335\n",
       "Region                         177\n",
       "Standard Error                 334\n",
       "Trust Government Corruption     22\n",
       "Upper Confidence Interval      335\n",
       "Whisker High                   337\n",
       "Whisker Low                    337\n",
       "Year                             0\n",
       "dtype: int64"
      ]
     },
     "execution_count": 115,
     "metadata": {},
     "output_type": "execute_result"
    }
   ],
   "source": [
    "happiness2015.columns = happiness2015.columns.str.replace(r'[()]','').str.strip().str.title()\n",
    "happiness2016.columns = happiness2016.columns.str.replace(r'[()]','').str.strip().str.title()\n",
    "happiness2017.columns = happiness2017.columns.str.replace('.', ' ').str.replace('\\s+', ' ').str.strip().str.title()\n",
    "\n",
    "combined = pd.concat([happiness2015,happiness2016,happiness2017], ignore_index=True)\n",
    "\n",
    "combined.isnull().sum()"
   ]
  },
  {
   "cell_type": "markdown",
   "metadata": {},
   "source": [
    "- ### Visualizing Missing Data"
   ]
  },
  {
   "cell_type": "markdown",
   "metadata": {},
   "source": [
    "通过绘制热图[heatmap](https://seaborn.pydata.org/generated/seaborn.heatmap.html)更好地观察缺失值\n",
    "\n",
    "通过`seaborn`绘制热图，首先把index设为`Year`以便观察"
   ]
  },
  {
   "cell_type": "code",
   "execution_count": 116,
   "metadata": {
    "scrolled": false
   },
   "outputs": [
    {
     "data": {
      "text/plain": [
       "<matplotlib.axes._subplots.AxesSubplot at 0x7fae1ce1dad0>"
      ]
     },
     "execution_count": 116,
     "metadata": {},
     "output_type": "execute_result"
    },
    {
     "data": {
      "image/png": "[encoded data removed]",
      "text/plain": [
       "<Figure size 432x288 with 1 Axes>"
      ]
     },
     "metadata": {
      "needs_background": "light"
     },
     "output_type": "display_data"
    }
   ],
   "source": [
    "import seaborn as sns\n",
    "combined_updated = combined.set_index('Year')\n",
    "sns.heatmap(combined_updated.isnull(), cbar=False)"
   ]
  },
  {
   "cell_type": "markdown",
   "metadata": {},
   "source": [
    "图中黑色表示无缺失，粉色表示缺失"
   ]
  },
  {
   "cell_type": "markdown",
   "metadata": {},
   "source": [
    "We can make the following observations:\n",
    "\n",
    "- No values are missing in the `COUNTRY` column.\n",
    "- There are some rows in the 2015, 2016, and 2017 data with missing values in all columns EXCEPT the `COUNTRY` column.\n",
    "- Some columns only have data populated for one year.\n",
    "- It looks like the `REGION` data is missing for the year `2017`."
   ]
  },
  {
   "cell_type": "markdown",
   "metadata": {},
   "source": [
    "验证2017数据的`Region`是缺失的，注意2017数据有164行"
   ]
  },
  {
   "cell_type": "code",
   "execution_count": 117,
   "metadata": {},
   "outputs": [
    {
     "data": {
      "text/plain": [
       "164"
      ]
     },
     "execution_count": 117,
     "metadata": {},
     "output_type": "execute_result"
    }
   ],
   "source": [
    "regions_2017 = combined.loc[combined['Year']==2017,'Region']\n",
    "regions_2017.isnull().sum()"
   ]
  },
  {
   "cell_type": "markdown",
   "metadata": {},
   "source": [
    "- ###  Using Data From Additional Sources to Fill in Missing Values"
   ]
  },
  {
   "cell_type": "markdown",
   "metadata": {},
   "source": [
    "Recall once more that each year contains the same countries. Since the regions are fixed values - the region a country was assigned to in 2015 or 2016 won't change - we should be able to assign the 2015 or 2016 region to the 2017 row.\n",
    "\n",
    "删除重复项[df.drop_duplocates()](https://pandas.pydata.org/pandas-docs/stable/reference/api/pandas.DataFrame.drop_duplicates.html)"
   ]
  },
  {
   "cell_type": "code",
   "execution_count": 118,
   "metadata": {},
   "outputs": [],
   "source": [
    "regions = combined[['Country','Region']].drop_duplicates().dropna()"
   ]
  },
  {
   "cell_type": "code",
   "execution_count": 119,
   "metadata": {},
   "outputs": [
    {
     "data": {
      "text/html": [
       "<div>\n",
       "<style scoped>\n",
       "    .dataframe tbody tr th:only-of-type {\n",
       "        vertical-align: middle;\n",
       "    }\n",
       "\n",
       "    .dataframe tbody tr th {\n",
       "        vertical-align: top;\n",
       "    }\n",
       "\n",
       "    .dataframe thead th {\n",
       "        text-align: right;\n",
       "    }\n",
       "</style>\n",
       "<table border=\"1\" class=\"dataframe\">\n",
       "  <thead>\n",
       "    <tr style=\"text-align: right;\">\n",
       "      <th></th>\n",
       "      <th>Country</th>\n",
       "      <th>Region</th>\n",
       "    </tr>\n",
       "  </thead>\n",
       "  <tbody>\n",
       "    <tr>\n",
       "      <td>0</td>\n",
       "      <td>Switzerland</td>\n",
       "      <td>Western Europe</td>\n",
       "    </tr>\n",
       "    <tr>\n",
       "      <td>1</td>\n",
       "      <td>Iceland</td>\n",
       "      <td>Western Europe</td>\n",
       "    </tr>\n",
       "    <tr>\n",
       "      <td>2</td>\n",
       "      <td>Denmark</td>\n",
       "      <td>Western Europe</td>\n",
       "    </tr>\n",
       "    <tr>\n",
       "      <td>3</td>\n",
       "      <td>Norway</td>\n",
       "      <td>Western Europe</td>\n",
       "    </tr>\n",
       "    <tr>\n",
       "      <td>4</td>\n",
       "      <td>Canada</td>\n",
       "      <td>North America</td>\n",
       "    </tr>\n",
       "    <tr>\n",
       "      <td>...</td>\n",
       "      <td>...</td>\n",
       "      <td>...</td>\n",
       "    </tr>\n",
       "    <tr>\n",
       "      <td>215</td>\n",
       "      <td>Belize</td>\n",
       "      <td>Latin America and Caribbean</td>\n",
       "    </tr>\n",
       "    <tr>\n",
       "      <td>239</td>\n",
       "      <td>Somalia</td>\n",
       "      <td>Sub-Saharan Africa</td>\n",
       "    </tr>\n",
       "    <tr>\n",
       "      <td>260</td>\n",
       "      <td>Somaliland Region</td>\n",
       "      <td>Sub-Saharan Africa</td>\n",
       "    </tr>\n",
       "    <tr>\n",
       "      <td>276</td>\n",
       "      <td>Namibia</td>\n",
       "      <td>Sub-Saharan Africa</td>\n",
       "    </tr>\n",
       "    <tr>\n",
       "      <td>306</td>\n",
       "      <td>South Sudan</td>\n",
       "      <td>Sub-Saharan Africa</td>\n",
       "    </tr>\n",
       "  </tbody>\n",
       "</table>\n",
       "<p>164 rows × 2 columns</p>\n",
       "</div>"
      ],
      "text/plain": [
       "               Country                       Region\n",
       "0          Switzerland               Western Europe\n",
       "1              Iceland               Western Europe\n",
       "2              Denmark               Western Europe\n",
       "3               Norway               Western Europe\n",
       "4               Canada                North America\n",
       "..                 ...                          ...\n",
       "215             Belize  Latin America and Caribbean\n",
       "239            Somalia           Sub-Saharan Africa\n",
       "260  Somaliland Region           Sub-Saharan Africa\n",
       "276            Namibia           Sub-Saharan Africa\n",
       "306        South Sudan           Sub-Saharan Africa\n",
       "\n",
       "[164 rows x 2 columns]"
      ]
     },
     "execution_count": 119,
     "metadata": {},
     "output_type": "execute_result"
    }
   ],
   "source": [
    "regions"
   ]
  },
  {
   "cell_type": "code",
   "execution_count": 120,
   "metadata": {},
   "outputs": [
    {
     "data": {
      "text/plain": [
       "Country                          0\n",
       "Dystopia Residual               22\n",
       "Economy Gdp Per Capita          22\n",
       "Family                          22\n",
       "Freedom                         22\n",
       "Generosity                      22\n",
       "Happiness Rank                  22\n",
       "Happiness Score                 22\n",
       "Health Life Expectancy          22\n",
       "Lower Confidence Interval      335\n",
       "Standard Error                 334\n",
       "Trust Government Corruption     22\n",
       "Upper Confidence Interval      335\n",
       "Whisker High                   337\n",
       "Whisker Low                    337\n",
       "Year                             0\n",
       "Region_y                         0\n",
       "dtype: int64"
      ]
     },
     "execution_count": 120,
     "metadata": {},
     "output_type": "execute_result"
    }
   ],
   "source": [
    "combined = pd.merge(left=combined, right=regions, how='left', on='Country')\n",
    "combined = combined.drop('Region_x', axis=1)\n",
    "combined.isnull().sum()"
   ]
  },
  {
   "cell_type": "markdown",
   "metadata": {},
   "source": [
    "- ### Identifying Duplicates Values"
   ]
  },
  {
   "cell_type": "markdown",
   "metadata": {},
   "source": [
    "We'll use the [DataFrame.duplicated()](https://pandas.pydata.org/pandas-docs/stable/reference/api/pandas.DataFrame.duplicated.html) method to check for duplicate values. If no parameters are specified, the method will check for any rows in which **all** columns have the same values."
   ]
  },
  {
   "cell_type": "code",
   "execution_count": 121,
   "metadata": {},
   "outputs": [
    {
     "data": {
      "text/html": [
       "<div>\n",
       "<style scoped>\n",
       "    .dataframe tbody tr th:only-of-type {\n",
       "        vertical-align: middle;\n",
       "    }\n",
       "\n",
       "    .dataframe tbody tr th {\n",
       "        vertical-align: top;\n",
       "    }\n",
       "\n",
       "    .dataframe thead th {\n",
       "        text-align: right;\n",
       "    }\n",
       "</style>\n",
       "<table border=\"1\" class=\"dataframe\">\n",
       "  <thead>\n",
       "    <tr style=\"text-align: right;\">\n",
       "      <th></th>\n",
       "      <th>Country</th>\n",
       "      <th>Dystopia Residual</th>\n",
       "      <th>Economy Gdp Per Capita</th>\n",
       "      <th>Family</th>\n",
       "      <th>Freedom</th>\n",
       "      <th>Generosity</th>\n",
       "      <th>Happiness Rank</th>\n",
       "      <th>Happiness Score</th>\n",
       "      <th>Health Life Expectancy</th>\n",
       "      <th>Lower Confidence Interval</th>\n",
       "      <th>Standard Error</th>\n",
       "      <th>Trust Government Corruption</th>\n",
       "      <th>Upper Confidence Interval</th>\n",
       "      <th>Whisker High</th>\n",
       "      <th>Whisker Low</th>\n",
       "      <th>Year</th>\n",
       "      <th>Region_y</th>\n",
       "    </tr>\n",
       "  </thead>\n",
       "  <tbody>\n",
       "    <tr>\n",
       "      <td>162</td>\n",
       "      <td>SOMALILAND REGION</td>\n",
       "      <td>NaN</td>\n",
       "      <td>NaN</td>\n",
       "      <td>NaN</td>\n",
       "      <td>NaN</td>\n",
       "      <td>NaN</td>\n",
       "      <td>NaN</td>\n",
       "      <td>NaN</td>\n",
       "      <td>NaN</td>\n",
       "      <td>NaN</td>\n",
       "      <td>NaN</td>\n",
       "      <td>NaN</td>\n",
       "      <td>NaN</td>\n",
       "      <td>NaN</td>\n",
       "      <td>NaN</td>\n",
       "      <td>2015</td>\n",
       "      <td>Sub-Saharan Africa</td>\n",
       "    </tr>\n",
       "    <tr>\n",
       "      <td>326</td>\n",
       "      <td>SOMALILAND REGION</td>\n",
       "      <td>NaN</td>\n",
       "      <td>NaN</td>\n",
       "      <td>NaN</td>\n",
       "      <td>NaN</td>\n",
       "      <td>NaN</td>\n",
       "      <td>NaN</td>\n",
       "      <td>NaN</td>\n",
       "      <td>NaN</td>\n",
       "      <td>NaN</td>\n",
       "      <td>NaN</td>\n",
       "      <td>NaN</td>\n",
       "      <td>NaN</td>\n",
       "      <td>NaN</td>\n",
       "      <td>NaN</td>\n",
       "      <td>2016</td>\n",
       "      <td>Sub-Saharan Africa</td>\n",
       "    </tr>\n",
       "    <tr>\n",
       "      <td>489</td>\n",
       "      <td>SOMALILAND REGION</td>\n",
       "      <td>NaN</td>\n",
       "      <td>NaN</td>\n",
       "      <td>NaN</td>\n",
       "      <td>NaN</td>\n",
       "      <td>NaN</td>\n",
       "      <td>NaN</td>\n",
       "      <td>NaN</td>\n",
       "      <td>NaN</td>\n",
       "      <td>NaN</td>\n",
       "      <td>NaN</td>\n",
       "      <td>NaN</td>\n",
       "      <td>NaN</td>\n",
       "      <td>NaN</td>\n",
       "      <td>NaN</td>\n",
       "      <td>2017</td>\n",
       "      <td>Sub-Saharan Africa</td>\n",
       "    </tr>\n",
       "  </tbody>\n",
       "</table>\n",
       "</div>"
      ],
      "text/plain": [
       "               Country  Dystopia Residual  Economy Gdp Per Capita  Family  \\\n",
       "162  SOMALILAND REGION                NaN                     NaN     NaN   \n",
       "326  SOMALILAND REGION                NaN                     NaN     NaN   \n",
       "489  SOMALILAND REGION                NaN                     NaN     NaN   \n",
       "\n",
       "     Freedom  Generosity  Happiness Rank  Happiness Score  \\\n",
       "162      NaN         NaN             NaN              NaN   \n",
       "326      NaN         NaN             NaN              NaN   \n",
       "489      NaN         NaN             NaN              NaN   \n",
       "\n",
       "     Health Life Expectancy  Lower Confidence Interval  Standard Error  \\\n",
       "162                     NaN                        NaN             NaN   \n",
       "326                     NaN                        NaN             NaN   \n",
       "489                     NaN                        NaN             NaN   \n",
       "\n",
       "     Trust Government Corruption  Upper Confidence Interval  Whisker High  \\\n",
       "162                          NaN                        NaN           NaN   \n",
       "326                          NaN                        NaN           NaN   \n",
       "489                          NaN                        NaN           NaN   \n",
       "\n",
       "     Whisker Low  Year            Region_y  \n",
       "162          NaN  2015  Sub-Saharan Africa  \n",
       "326          NaN  2016  Sub-Saharan Africa  \n",
       "489          NaN  2017  Sub-Saharan Africa  "
      ]
     },
     "execution_count": 121,
     "metadata": {},
     "output_type": "execute_result"
    }
   ],
   "source": [
    "combined['Country'] = combined['Country'].str.upper() # 确保检查时不会因为大小写导致遗漏重复项\n",
    "dups = combined.duplicated(['Country', 'Year'])\n",
    "combined[dups]"
   ]
  },
  {
   "cell_type": "markdown",
   "metadata": {},
   "source": [
    "Since the dataframe is empty, we can tell that there are no rows with exactly the same country AND year."
   ]
  },
  {
   "cell_type": "markdown",
   "metadata": {},
   "source": [
    "- ### Correcting Duplicates Values"
   ]
  },
  {
   "cell_type": "code",
   "execution_count": 122,
   "metadata": {},
   "outputs": [
    {
     "data": {
      "text/html": [
       "<div>\n",
       "<style scoped>\n",
       "    .dataframe tbody tr th:only-of-type {\n",
       "        vertical-align: middle;\n",
       "    }\n",
       "\n",
       "    .dataframe tbody tr th {\n",
       "        vertical-align: top;\n",
       "    }\n",
       "\n",
       "    .dataframe thead th {\n",
       "        text-align: right;\n",
       "    }\n",
       "</style>\n",
       "<table border=\"1\" class=\"dataframe\">\n",
       "  <thead>\n",
       "    <tr style=\"text-align: right;\">\n",
       "      <th></th>\n",
       "      <th>Country</th>\n",
       "      <th>Dystopia Residual</th>\n",
       "      <th>Economy Gdp Per Capita</th>\n",
       "      <th>Family</th>\n",
       "      <th>Freedom</th>\n",
       "      <th>Generosity</th>\n",
       "      <th>Happiness Rank</th>\n",
       "      <th>Happiness Score</th>\n",
       "      <th>Health Life Expectancy</th>\n",
       "      <th>Lower Confidence Interval</th>\n",
       "      <th>Standard Error</th>\n",
       "      <th>Trust Government Corruption</th>\n",
       "      <th>Upper Confidence Interval</th>\n",
       "      <th>Whisker High</th>\n",
       "      <th>Whisker Low</th>\n",
       "      <th>Year</th>\n",
       "      <th>Region_y</th>\n",
       "    </tr>\n",
       "  </thead>\n",
       "  <tbody>\n",
       "    <tr>\n",
       "      <td>90</td>\n",
       "      <td>SOMALILAND REGION</td>\n",
       "      <td>2.11032</td>\n",
       "      <td>0.18847</td>\n",
       "      <td>0.95152</td>\n",
       "      <td>0.46582</td>\n",
       "      <td>0.50318</td>\n",
       "      <td>91.0</td>\n",
       "      <td>5.057</td>\n",
       "      <td>0.43873</td>\n",
       "      <td>NaN</td>\n",
       "      <td>0.06161</td>\n",
       "      <td>0.39928</td>\n",
       "      <td>NaN</td>\n",
       "      <td>NaN</td>\n",
       "      <td>NaN</td>\n",
       "      <td>2015</td>\n",
       "      <td>Sub-Saharan Africa</td>\n",
       "    </tr>\n",
       "    <tr>\n",
       "      <td>162</td>\n",
       "      <td>SOMALILAND REGION</td>\n",
       "      <td>NaN</td>\n",
       "      <td>NaN</td>\n",
       "      <td>NaN</td>\n",
       "      <td>NaN</td>\n",
       "      <td>NaN</td>\n",
       "      <td>NaN</td>\n",
       "      <td>NaN</td>\n",
       "      <td>NaN</td>\n",
       "      <td>NaN</td>\n",
       "      <td>NaN</td>\n",
       "      <td>NaN</td>\n",
       "      <td>NaN</td>\n",
       "      <td>NaN</td>\n",
       "      <td>NaN</td>\n",
       "      <td>2015</td>\n",
       "      <td>Sub-Saharan Africa</td>\n",
       "    </tr>\n",
       "    <tr>\n",
       "      <td>260</td>\n",
       "      <td>SOMALILAND REGION</td>\n",
       "      <td>2.43801</td>\n",
       "      <td>0.25558</td>\n",
       "      <td>0.75862</td>\n",
       "      <td>0.39130</td>\n",
       "      <td>0.51479</td>\n",
       "      <td>97.0</td>\n",
       "      <td>5.057</td>\n",
       "      <td>0.33108</td>\n",
       "      <td>4.934</td>\n",
       "      <td>NaN</td>\n",
       "      <td>0.36794</td>\n",
       "      <td>5.18</td>\n",
       "      <td>NaN</td>\n",
       "      <td>NaN</td>\n",
       "      <td>2016</td>\n",
       "      <td>Sub-Saharan Africa</td>\n",
       "    </tr>\n",
       "    <tr>\n",
       "      <td>326</td>\n",
       "      <td>SOMALILAND REGION</td>\n",
       "      <td>NaN</td>\n",
       "      <td>NaN</td>\n",
       "      <td>NaN</td>\n",
       "      <td>NaN</td>\n",
       "      <td>NaN</td>\n",
       "      <td>NaN</td>\n",
       "      <td>NaN</td>\n",
       "      <td>NaN</td>\n",
       "      <td>NaN</td>\n",
       "      <td>NaN</td>\n",
       "      <td>NaN</td>\n",
       "      <td>NaN</td>\n",
       "      <td>NaN</td>\n",
       "      <td>NaN</td>\n",
       "      <td>2016</td>\n",
       "      <td>Sub-Saharan Africa</td>\n",
       "    </tr>\n",
       "    <tr>\n",
       "      <td>488</td>\n",
       "      <td>SOMALILAND REGION</td>\n",
       "      <td>NaN</td>\n",
       "      <td>NaN</td>\n",
       "      <td>NaN</td>\n",
       "      <td>NaN</td>\n",
       "      <td>NaN</td>\n",
       "      <td>NaN</td>\n",
       "      <td>NaN</td>\n",
       "      <td>NaN</td>\n",
       "      <td>NaN</td>\n",
       "      <td>NaN</td>\n",
       "      <td>NaN</td>\n",
       "      <td>NaN</td>\n",
       "      <td>NaN</td>\n",
       "      <td>NaN</td>\n",
       "      <td>2017</td>\n",
       "      <td>Sub-Saharan Africa</td>\n",
       "    </tr>\n",
       "    <tr>\n",
       "      <td>489</td>\n",
       "      <td>SOMALILAND REGION</td>\n",
       "      <td>NaN</td>\n",
       "      <td>NaN</td>\n",
       "      <td>NaN</td>\n",
       "      <td>NaN</td>\n",
       "      <td>NaN</td>\n",
       "      <td>NaN</td>\n",
       "      <td>NaN</td>\n",
       "      <td>NaN</td>\n",
       "      <td>NaN</td>\n",
       "      <td>NaN</td>\n",
       "      <td>NaN</td>\n",
       "      <td>NaN</td>\n",
       "      <td>NaN</td>\n",
       "      <td>NaN</td>\n",
       "      <td>2017</td>\n",
       "      <td>Sub-Saharan Africa</td>\n",
       "    </tr>\n",
       "  </tbody>\n",
       "</table>\n",
       "</div>"
      ],
      "text/plain": [
       "               Country  Dystopia Residual  Economy Gdp Per Capita   Family  \\\n",
       "90   SOMALILAND REGION            2.11032                 0.18847  0.95152   \n",
       "162  SOMALILAND REGION                NaN                     NaN      NaN   \n",
       "260  SOMALILAND REGION            2.43801                 0.25558  0.75862   \n",
       "326  SOMALILAND REGION                NaN                     NaN      NaN   \n",
       "488  SOMALILAND REGION                NaN                     NaN      NaN   \n",
       "489  SOMALILAND REGION                NaN                     NaN      NaN   \n",
       "\n",
       "     Freedom  Generosity  Happiness Rank  Happiness Score  \\\n",
       "90   0.46582     0.50318            91.0            5.057   \n",
       "162      NaN         NaN             NaN              NaN   \n",
       "260  0.39130     0.51479            97.0            5.057   \n",
       "326      NaN         NaN             NaN              NaN   \n",
       "488      NaN         NaN             NaN              NaN   \n",
       "489      NaN         NaN             NaN              NaN   \n",
       "\n",
       "     Health Life Expectancy  Lower Confidence Interval  Standard Error  \\\n",
       "90                  0.43873                        NaN         0.06161   \n",
       "162                     NaN                        NaN             NaN   \n",
       "260                 0.33108                      4.934             NaN   \n",
       "326                     NaN                        NaN             NaN   \n",
       "488                     NaN                        NaN             NaN   \n",
       "489                     NaN                        NaN             NaN   \n",
       "\n",
       "     Trust Government Corruption  Upper Confidence Interval  Whisker High  \\\n",
       "90                       0.39928                        NaN           NaN   \n",
       "162                          NaN                        NaN           NaN   \n",
       "260                      0.36794                       5.18           NaN   \n",
       "326                          NaN                        NaN           NaN   \n",
       "488                          NaN                        NaN           NaN   \n",
       "489                          NaN                        NaN           NaN   \n",
       "\n",
       "     Whisker Low  Year            Region_y  \n",
       "90           NaN  2015  Sub-Saharan Africa  \n",
       "162          NaN  2015  Sub-Saharan Africa  \n",
       "260          NaN  2016  Sub-Saharan Africa  \n",
       "326          NaN  2016  Sub-Saharan Africa  \n",
       "488          NaN  2017  Sub-Saharan Africa  \n",
       "489          NaN  2017  Sub-Saharan Africa  "
      ]
     },
     "execution_count": 122,
     "metadata": {},
     "output_type": "execute_result"
    }
   ],
   "source": [
    "combined[combined['Country'] == 'SOMALILAND REGION']"
   ]
  },
  {
   "cell_type": "markdown",
   "metadata": {},
   "source": [
    "Now, we can see that there are two rows for 2015, 2016, and 2017 each"
   ]
  },
  {
   "cell_type": "code",
   "execution_count": 123,
   "metadata": {},
   "outputs": [],
   "source": [
    "combined = combined.drop_duplicates(['Country','Year'])"
   ]
  },
  {
   "cell_type": "markdown",
   "metadata": {},
   "source": [
    "- ### Handle Missing Values by Dropping Columns"
   ]
  },
  {
   "cell_type": "markdown",
   "metadata": {},
   "source": [
    "pandas里的大多数方法都可以处理带有缺失值的数据，因此不需要再移除它们。\n",
    "\n",
    "但是保留缺失值引起其他问题，改变数据集的分布。\n",
    "\n",
    "并且机器学习的算法也无法处理带缺失值的数据，因此必须知道如何处理它们。"
   ]
  },
  {
   "cell_type": "markdown",
   "metadata": {},
   "source": [
    "Next, we'll consider dropping columns with missing data:\n",
    "\n",
    "1. Check for errors in data cleaning/transformation.\n",
    "2. Use data from additional sources to fill missing values.\n",
    "3. **Drop row/column.**\n",
    "4. Fill missing values with reasonable estimates computed from the available data."
   ]
  },
  {
   "cell_type": "code",
   "execution_count": 124,
   "metadata": {},
   "outputs": [
    {
     "data": {
      "text/plain": [
       "Country                          0\n",
       "Dystopia Residual               19\n",
       "Economy Gdp Per Capita          19\n",
       "Family                          19\n",
       "Freedom                         19\n",
       "Generosity                      19\n",
       "Happiness Rank                  19\n",
       "Happiness Score                 19\n",
       "Health Life Expectancy          19\n",
       "Lower Confidence Interval      332\n",
       "Standard Error                 331\n",
       "Trust Government Corruption     19\n",
       "Upper Confidence Interval      332\n",
       "Whisker High                   334\n",
       "Whisker Low                    334\n",
       "Year                             0\n",
       "Region_y                         0\n",
       "dtype: int64"
      ]
     },
     "execution_count": 124,
     "metadata": {},
     "output_type": "execute_result"
    }
   ],
   "source": [
    "combined.isnull().sum()"
   ]
  },
  {
   "cell_type": "markdown",
   "metadata": {},
   "source": [
    "When deciding if you should drop a row or column, carefully consider whether you'll lose information that could alter your analysis. Instead of just saying, \"If x percentage of the data is missing, we'll drop it.\", it's better to also ask the following questions:\n",
    "\n",
    "1. Is the missing data needed to accomplish our end goal?\n",
    "2. How will removing or replacing the missing values affect our analysis?\n",
    "\n",
    "To answer the first question, let's establish our end goal:\n",
    "\n",
    "- End Goal: We want to analyze happiness scores and the factors that contribute to happiness scores by year and region."
   ]
  },
  {
   "cell_type": "markdown",
   "metadata": {},
   "source": [
    "Since missing values make up more than half of the following columns and we don't need them to accomplish our end goal, we'll drop them:\n",
    "\n",
    "- `STANDARD ERROR`\n",
    "- `LOWER CONFIDENCE INTERVAL`\n",
    "- `UPPER CONFIDENCE INTERVAL`\n",
    "- `WHISKER HIGH`\n",
    "- `WHISKER LOW`"
   ]
  },
  {
   "cell_type": "markdown",
   "metadata": {},
   "source": [
    "[DataFrame.notnull()](https://pandas.pydata.org/pandas-docs/stable/reference/api/pandas.DataFrame.notnull.html)返回非空值"
   ]
  },
  {
   "cell_type": "code",
   "execution_count": 125,
   "metadata": {},
   "outputs": [
    {
     "data": {
      "text/plain": [
       "Whisker Low                    155\n",
       "Whisker High                   155\n",
       "Lower Confidence Interval      157\n",
       "Upper Confidence Interval      157\n",
       "Standard Error                 158\n",
       "Health Life Expectancy         470\n",
       "Dystopia Residual              470\n",
       "Economy Gdp Per Capita         470\n",
       "Family                         470\n",
       "Freedom                        470\n",
       "Generosity                     470\n",
       "Happiness Rank                 470\n",
       "Happiness Score                470\n",
       "Trust Government Corruption    470\n",
       "Country                        489\n",
       "Year                           489\n",
       "Region_y                       489\n",
       "dtype: int64"
      ]
     },
     "execution_count": 125,
     "metadata": {},
     "output_type": "execute_result"
    }
   ],
   "source": [
    "combined.notnull().sum().sort_values()"
   ]
  },
  {
   "cell_type": "markdown",
   "metadata": {},
   "source": [
    "[df.drop()](https://pandas.pydata.org/pandas-docs/stable/reference/api/pandas.DataFrame.drop.html)"
   ]
  },
  {
   "cell_type": "code",
   "execution_count": 126,
   "metadata": {
    "scrolled": true
   },
   "outputs": [
    {
     "data": {
      "text/plain": [
       "Country                         0\n",
       "Dystopia Residual              19\n",
       "Economy Gdp Per Capita         19\n",
       "Family                         19\n",
       "Freedom                        19\n",
       "Generosity                     19\n",
       "Happiness Rank                 19\n",
       "Happiness Score                19\n",
       "Health Life Expectancy         19\n",
       "Trust Government Corruption    19\n",
       "Year                            0\n",
       "Region_y                        0\n",
       "dtype: int64"
      ]
     },
     "execution_count": 126,
     "metadata": {},
     "output_type": "execute_result"
    }
   ],
   "source": [
    "columns_to_drop = ['Lower Confidence Interval', 'Standard Error', 'Upper Confidence Interval', \n",
    "                   'Whisker High', 'Whisker Low']\n",
    "combined.drop(columns_to_drop, axis=1, inplace = True)\n",
    "combined.isnull().sum()"
   ]
  },
  {
   "cell_type": "markdown",
   "metadata": {},
   "source": [
    "However, as you start working with bigger datasets, it can sometimes be tedious to create a long list of column names to drop. Instead we can use the [DataFrame.dropna()](https://pandas.pydata.org/pandas-docs/stable/reference/api/pandas.DataFrame.dropna.html) method to complete the same task.\n",
    "\n",
    "By default, the `dropna()` method will drop rows with any missing values. To drop columns, we can set the `axis` parameter equal to `1`, just like with the `df.drop()` method:\n",
    "\n",
    "`df.dropna(axis=1)`\n",
    "\n",
    "However, this would result in dropping columns with any missing values - we only want to drop certain columns. Instead, we can also use the `thresh` parameter to only drop columns if they contain below a certain number of *non-null* values.\n",
    "\n",
    "使用`combined = combined.dropna(thresh=159, axis=1)`可以达到以上使用`drop()`一样的效果"
   ]
  },
  {
   "cell_type": "code",
   "execution_count": 132,
   "metadata": {
    "scrolled": false
   },
   "outputs": [
    {
     "data": {
      "text/plain": [
       "<matplotlib.axes._subplots.AxesSubplot at 0x7fae1db8fd90>"
      ]
     },
     "execution_count": 132,
     "metadata": {},
     "output_type": "execute_result"
    },
    {
     "data": {
      "image/png": "[encoded data removed]",
      "text/plain": [
       "<Figure size 432x288 with 1 Axes>"
      ]
     },
     "metadata": {
      "needs_background": "light"
     },
     "output_type": "display_data"
    }
   ],
   "source": [
    "sorted = combined.set_index('Region_y').sort_values(['Region_y', 'Happiness Score'])\n",
    "sns.heatmap(sorted.isnull(), cbar=False)"
   ]
  },
  {
   "cell_type": "markdown",
   "metadata": {},
   "source": [
    "- ###  Handling Missing Values with Imputation"
   ]
  },
  {
   "cell_type": "markdown",
   "metadata": {},
   "source": [
    "以上可以得知\n",
    "1. Only about 4 percent of the values in each column are missing.\n",
    "2. Dropping rows with missing values won't cause us to lose information in other columns.\n",
    "\n",
    "As a result, it may be best to drop the remaining missing values."
   ]
  },
  {
   "cell_type": "markdown",
   "metadata": {},
   "source": [
    "However, before we make a decision, let's consider handling the missing values by replacing them with estimated values, also called imputation.\n",
    "\n",
    "1. Check for errors in data cleaning/transformation.\n",
    "2. Use data from additional sources to fill missing values.\n",
    "3. Drop row/column.\n",
    "4. **Fill missing values with reasonable estimates computed from the available data.**"
   ]
  },
  {
   "cell_type": "markdown",
   "metadata": {},
   "source": [
    "use the [Series.fillna()](https://pandas.pydata.org/pandas-docs/stable/reference/api/pandas.Series.fillna.html) method to replace the missing values with the mean."
   ]
  },
  {
   "cell_type": "code",
   "execution_count": 134,
   "metadata": {},
   "outputs": [
    {
     "name": "stdout",
     "output_type": "stream",
     "text": [
      "5.370727659882893\n",
      "5.370727659882894\n"
     ]
    }
   ],
   "source": [
    "happiness_mean = combined['Happiness Score'].mean()\n",
    "print(happiness_mean)\n",
    "combined['Happiness Score UPDATED'] = combined['Happiness Score'].fillna(happiness_mean)\n",
    "print(combined['Happiness Score UPDATED'].mean())"
   ]
  },
  {
   "cell_type": "markdown",
   "metadata": {},
   "source": [
    "回想一下，当我们可视化缺失的数据时，我们确定撒哈拉以南非洲地区包含的缺失值最多。 由于我们想按区域分析数据，因此让我们更仔细地研究每个区域的均值："
   ]
  },
  {
   "cell_type": "code",
   "execution_count": 137,
   "metadata": {
    "scrolled": false
   },
   "outputs": [
    {
     "data": {
      "text/html": [
       "<div>\n",
       "<style scoped>\n",
       "    .dataframe tbody tr th:only-of-type {\n",
       "        vertical-align: middle;\n",
       "    }\n",
       "\n",
       "    .dataframe tbody tr th {\n",
       "        vertical-align: top;\n",
       "    }\n",
       "\n",
       "    .dataframe thead th {\n",
       "        text-align: right;\n",
       "    }\n",
       "</style>\n",
       "<table border=\"1\" class=\"dataframe\">\n",
       "  <thead>\n",
       "    <tr style=\"text-align: right;\">\n",
       "      <th></th>\n",
       "      <th>Happiness Score</th>\n",
       "    </tr>\n",
       "    <tr>\n",
       "      <th>Region_y</th>\n",
       "      <th></th>\n",
       "    </tr>\n",
       "  </thead>\n",
       "  <tbody>\n",
       "    <tr>\n",
       "      <td>Australia and New Zealand</td>\n",
       "      <td>7.302500</td>\n",
       "    </tr>\n",
       "    <tr>\n",
       "      <td>Central and Eastern Europe</td>\n",
       "      <td>5.371184</td>\n",
       "    </tr>\n",
       "    <tr>\n",
       "      <td>Eastern Asia</td>\n",
       "      <td>5.632333</td>\n",
       "    </tr>\n",
       "    <tr>\n",
       "      <td>Latin America and Caribbean</td>\n",
       "      <td>6.069074</td>\n",
       "    </tr>\n",
       "    <tr>\n",
       "      <td>Middle East and Northern Africa</td>\n",
       "      <td>5.387879</td>\n",
       "    </tr>\n",
       "    <tr>\n",
       "      <td>North America</td>\n",
       "      <td>7.227167</td>\n",
       "    </tr>\n",
       "    <tr>\n",
       "      <td>Southeastern Asia</td>\n",
       "      <td>5.364077</td>\n",
       "    </tr>\n",
       "    <tr>\n",
       "      <td>Southern Asia</td>\n",
       "      <td>4.590857</td>\n",
       "    </tr>\n",
       "    <tr>\n",
       "      <td>Sub-Saharan Africa</td>\n",
       "      <td>4.150957</td>\n",
       "    </tr>\n",
       "    <tr>\n",
       "      <td>Western Europe</td>\n",
       "      <td>6.693000</td>\n",
       "    </tr>\n",
       "    <tr>\n",
       "      <td>All</td>\n",
       "      <td>5.370728</td>\n",
       "    </tr>\n",
       "  </tbody>\n",
       "</table>\n",
       "</div>"
      ],
      "text/plain": [
       "                                 Happiness Score\n",
       "Region_y                                        \n",
       "Australia and New Zealand               7.302500\n",
       "Central and Eastern Europe              5.371184\n",
       "Eastern Asia                            5.632333\n",
       "Latin America and Caribbean             6.069074\n",
       "Middle East and Northern Africa         5.387879\n",
       "North America                           7.227167\n",
       "Southeastern Asia                       5.364077\n",
       "Southern Asia                           4.590857\n",
       "Sub-Saharan Africa                      4.150957\n",
       "Western Europe                          6.693000\n",
       "All                                     5.370728"
      ]
     },
     "execution_count": 137,
     "metadata": {},
     "output_type": "execute_result"
    }
   ],
   "source": [
    "combined.pivot_table(index='Region_y', values='Happiness Score', margins=True)"
   ]
  },
  {
   "cell_type": "markdown",
   "metadata": {},
   "source": [
    "Also, if we think about the reasons why a country may not have participated in the happiness survey - war, natural disaster, etc - many of them would likely result in a lower happiness score than even the region's mean. We'll conclude that the mean for the whole world wouldn't be a good estimate for them."
   ]
  },
  {
   "cell_type": "code",
   "execution_count": null,
   "metadata": {},
   "outputs": [],
   "source": []
  }
 ],
 "metadata": {
  "kernelspec": {
   "display_name": "Python 3",
   "language": "python",
   "name": "python3"
  },
  "language_info": {
   "codemirror_mode": {
    "name": "ipython",
    "version": 3
   },
   "file_extension": ".py",
   "mimetype": "text/x-python",
   "name": "python",
   "nbconvert_exporter": "python",
   "pygments_lexer": "ipython3",
   "version": "3.7.4"
  }
 },
 "nbformat": 4,
 "nbformat_minor": 2
}
